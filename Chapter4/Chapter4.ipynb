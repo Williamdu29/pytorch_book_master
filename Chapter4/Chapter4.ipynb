{
 "cells": [
  {
   "cell_type": "markdown",
   "metadata": {},
   "source": [
    "# 第四章 神经网络工具箱nn\n",
    "\n",
    "autograd实现了自动微分系统，然而对于深度学习来说过于底层，本章将介绍的nn模块，是构建于autograd之上的神经网络模块。除了nn之外，我们还会介绍神经网络中常用的工具，比如优化器optim、初始化init等。"
   ]
  },
  {
   "cell_type": "markdown",
   "metadata": {},
   "source": [
    "## 4.1 nn.Module\n",
    "\n",
    "第三章中提到，使用autograd可实现深度学习模型，但其抽象程度较低，如果用其来实现深度学习模型，则需要编写的代码量极大。在这种情况下，torch.nn便应运而生，它是专门为深度学习而设计的模块。torch.nn的核心数据结构是`Module`，它是一个抽象的概念，既可以表示神经网络中的某个层（layer），也可以表示一个包含很多层的神经网络。在实际使用中，最常见的做法是继承`nn.Module`，从而编写自己的网络/层。下面先来看看如何用`nn.Module`实现自己的全连接层。全连接层，又名仿射层，输出$\\textbf{y}$和输入$\\textbf{x}$满足$\\textbf{y=Wx+b}$，其中$\\textbf{W}$和$\\textbf{b}$是可学习的参数。"
   ]
  },
  {
   "cell_type": "code",
   "execution_count": null,
   "metadata": {},
   "outputs": [],
   "source": [
    "import torch as t\n",
    "from torch import nn\n",
    "print(t.__version__)"
   ]
  },
  {
   "cell_type": "code",
   "execution_count": null,
   "metadata": {},
   "outputs": [],
   "source": [
    "class Linear(nn.Module): # 继承nn.Module，必须重写构造函数（__init__)和前向传播函数（forward）\n",
    "    def __init__(self, in_features, out_features):\n",
    "        super().__init__() # 等价于nn.Module.__init__(self)，常用super方式\n",
    "        # nn.Parameter内的参数是网络可学习的参数\n",
    "        self.w = nn.Parameter(t.randn(in_features, out_features))\n",
    "        self.b = nn.Parameter(t.randn(out_features))\n",
    "    \n",
    "    def forward(self, x):\n",
    "        x = x.mm(self.w) # 矩阵乘法，等价于x.@(self.w)\n",
    "        return x + self.b.expand_as(x)"
   ]
  },
  {
   "cell_type": "code",
   "execution_count": null,
   "metadata": {},
   "outputs": [],
   "source": [
    "layer = Linear(4,3) # 先要构造一个Linear类\n",
    "input = t.randn(2,4)\n",
    "output = layer(input)\n",
    "output"
   ]
  },
  {
   "cell_type": "code",
   "execution_count": null,
   "metadata": {},
   "outputs": [],
   "source": [
    "for name, parameter in layer.named_parameters():\n",
    "    print(name, parameter) # w and b "
   ]
  },
  {
   "cell_type": "markdown",
   "metadata": {},
   "source": [
    "从上面的例子中可以看出，全连接层的实现非常简单，其代码量不超过10行，但需注意以下几点：\n",
    "- 自定义层`Linear`必须继承`nn.Module`，并且在其构造函数中需调用`nn.Module`的构造函数，即`super().__init__()` 或`nn.Module.__init__(self)`，推荐使用第一种用法；\n",
    "- 在构造函数`__init__`中必须自行定义可学习的参数，并封装成`Parameter`，如在本例中我们把`w`和`b`封装成`Parameter`。`Parameter`是一种特殊的`Tensor`，但其默认需要求导（requires_grad = True），感兴趣的读者可以通过`nn.Parameter??`，查看`Parameter`类的源代码；\n",
    "- `forward`函数实现前向传播过程，其输入可以是一个或多个Tensor；\n",
    "- 无需写反向传播函数，`nn.Module`能够利用autograd自动实现反向传播，这点比Function简单许多；\n",
    "- 使用时，直观上可将layer看成数学概念中的函数，调用layer(input)即可得到input对应的结果。它等价于`layers.__call__(input)`，在`__call__`函数中，主要调用的是 `layer.forward(x)`，另外还对钩子（hook）做了一些处理。所以在实际使用中应尽量使用`layer(x)`而不是使用`layer.forward(x)`，关于钩子技术将在下文讲解；\n",
    "- `Module`中的可学习参数可以通过`named_parameters()`或者`parameters()`返回一个迭代器，前者会给每个parameter都附上名字，使其更具有辨识度。\n",
    "\n",
    "可见利用Module实现的全连接层，比利用`Function`实现的更为简单，这是因为我们不再需要编写反向传播函数。"
   ]
  },
  {
   "cell_type": "markdown",
   "metadata": {},
   "source": [
    "Module能够自动检测到自己的`parameter`，并将其作为学习参数。除了`parameter`之外，Module还包含子`Module`，主Module能够递归查找子`Module`中的`Parameter`。下面再来看看稍微复杂一点的网络，多层感知机。\n",
    "\n",
    "多层感知机的网络结构如图4-1所示，它由两个全连接层组成，采用$sigmoid$函数作为激活函数（图中没有画出）。\n",
    "![图4-1；多层感知机](imgs/multi_perceptron.png)"
   ]
  },
  {
   "cell_type": "code",
   "execution_count": null,
   "metadata": {},
   "outputs": [],
   "source": [
    "class Perceptron(nn.Module):\n",
    "    def __init__(self, in_features, hidden_features, out_features):\n",
    "        super(Perceptron, self).__init__()\n",
    "        # 此处的Linear是前面自定义的全连接层\n",
    "        self.layer1 = Linear(in_features, hidden_features) \n",
    "        self.layer2 = Linear(hidden_features, out_features)\n",
    "    def forward(self, x):\n",
    "        x = self.layer1(x)\n",
    "        x = t.sigmoid(x)\n",
    "        return self.layer2(x)"
   ]
  },
  {
   "cell_type": "code",
   "execution_count": null,
   "metadata": {},
   "outputs": [],
   "source": [
    "perceptron = Perceptron(3,4,1)\n",
    "for name, param in perceptron.named_parameters():\n",
    "    print(name, param.size())"
   ]
  },
  {
   "cell_type": "markdown",
   "metadata": {},
   "source": [
    "可见，即使是稍复杂的多层感知机，其实现依旧很简单。需要注意的是，在构造函数`__init__`中，可利用前面自定义的Linear层(module)，作为当前module对象的一个子module，它的可学习参数，也会成为当前module的可学习参数。而在`forward`函数中，可以加上各层之间的处理函数（激活、数学处理等），并决定层与层之间的关系。\n",
    "\n",
    "而在module中，parameter的全局命名规范如下：\n",
    "\n",
    "1. Parameter直接命名。例如`self.param_name = nn.Parameter(t.randn(3, 4))`，直接命名为`param_name`；\n",
    "2. 子Module中的parameter，会在其名字之前加上当前module的名字。例如`self.sub_module = SubModel()`，SubModel中有个parameter的名字叫做param_name，那么二者拼接而成的parameter name 就是`sub_module.param_name`。"
   ]
  },
  {
   "cell_type": "markdown",
   "metadata": {},
   "source": [
    "为方便用户使用，PyTorch内部实现了神经网络中绝大多数的layer，这些layer都继承于`nn.Module`，封装了可学习参数`parameter`，并实现了`forward`函数。同时，大部分layer都专门针对GPU运算进行了CuDNN优化，其速度和性能都十分优异。本书不准备对nn.Module中的所有层进行详细介绍，具体内容读者可参照官方文档或在IPython/Jupyter中使用nn.layer?来查看。读者在阅读文档时应主要关注以下几点：\n",
    "\n",
    "1. 构造函数的参数，如nn.Linear(in_features, out_features, bias)，需关注这三个参数的作用；\n",
    "2. 属性、可学习参数和子module。如nn.Linear中有`weight`和`bias`两个可学习参数，不包含子module；\n",
    "3. 输入输出的形状，如nn.linear的输入形状是(N, input_features)，输出为(N，output_features)，其中N是batch_size。\n",
    "\n",
    "这些自定义layer对输入形状都有假设：输入的不是单个数据，而是一个batch。当输入只有一个数据时，则必须调用`tensor.unsqueeze(0)`或`tensor[None]`将数据伪装成`batch_size=1`的一个batch。\n",
    "\n",
    "[^1]: http://pytorch.org/docs/nn.html"
   ]
  },
  {
   "cell_type": "markdown",
   "metadata": {},
   "source": [
    "下面将从应用层面出发，对一些常用的layer做简单介绍，更详细的用法请查看官方文档。"
   ]
  },
  {
   "cell_type": "markdown",
   "metadata": {},
   "source": [
    "## 4.2 常用神经网络层\n",
    "\n",
    "本节将对神经网络中常用的神经网络层进行介绍，这部分内容在后续神经网络的构建中将发挥着重要的作用。\n",
    "\n",
    "### 4.2.1 图像相关层\n",
    "\n",
    "图像相关层主要包括卷积层（Conv）、池化层（Pool）等，这些层在实际使用中可分为一维（1D）、二维（2D）和三维（3D），池化方式又分为平均池化（AvgPool）、最大值池化（MaxPool）、自适应池化（AdaptiveAvgPool）等。而卷积层除了常用的前向卷积之外，还有逆卷积（TransposeConv）等等。下面将举例说明。"
   ]
  },
  {
   "cell_type": "markdown",
   "metadata": {},
   "source": [
    "#### 卷积层\n",
    "\n",
    "在深度学习中，与图像处理相关的网络结构中最重要的便是卷积层(Conv)。卷积神经网络的本质就是卷积层、池化层、激活层以及其他层的叠加，所以理解卷积层的工作原理是极其重要的。本节将以最常见的二维卷积为例来对卷积层进行说明。"
   ]
  },
  {
   "cell_type": "markdown",
   "metadata": {},
   "source": [
    "在torch.nn工具箱中，已经封装好了二维卷积类 ： \n",
    "```python\n",
    "torch.nn.Conv2d(in_channels: int,   \n",
    "                out_channels: int,  \n",
    "                kernel_size: Union[T, Tuple[T, T]], \n",
    "                stride: Union[T, Tuple[T, T]] = 1, \n",
    "                padding: Union[T, Tuple[T, T]] = 0, \n",
    "                dilation: Union[T, Tuple[T, T]] = 1, \n",
    "                groups: int = 1, bias: bool = True, \n",
    "                padding_mode: str = 'zeros')  \n",
    "```\n",
    "其中：  \n",
    "- in_channels：输入图像的维度（常见RGB彩色图像为3）；\n",
    "- out_channels：经过卷积操作后输出的维度；\n",
    "- kernel_size：卷积核大小，常见卷积核为2维方阵即维度为$[T\\times T]$，正方形卷积核可以写为$T(int)$；\n",
    "- stride：每次卷积操作移动的步长；\n",
    "- padding：卷积操作在边界是否有填充，默认为0；\n",
    "- bias：卷积操作加上偏置作为可学习参数，默认为True。\n"
   ]
  },
  {
   "cell_type": "markdown",
   "metadata": {},
   "source": [
    "在卷积操作中，我们需要知道其输出结果的形状，以便对后续网络结构进行设计。假设输入的形状为$（N,C_{in},H_{in},W_{in})$，输出的形状为$（N,C_{out},H_{out},W_{out})$，则可以通过式(4.1)计算：\n",
    "$$ \\begin{array}{l}\n",
    "   H_{out} = \\lfloor {H_{in}+{2}\\times{padding[0]}-kernel\\_size[0] \\over stride[0]}+1 \\rfloor \\\\\n",
    "   W_{out} = \\lfloor {W_{in}+{2}\\times{padding[1]}-kernel\\_size[1] \\over stride[1]}+1 \\rfloor\n",
    "  \\end{array}\\tag{4.1}\n",
    "$$ \n",
    "下面将举例说明卷积操作的具体过程。"
   ]
  },
  {
   "cell_type": "code",
   "execution_count": null,
   "metadata": {},
   "outputs": [],
   "source": [
    "from PIL import Image\n",
    "from torchvision.transforms import ToTensor, ToPILImage\n",
    "to_tensor = ToTensor() # img -> tensor\n",
    "to_pil = ToPILImage()\n",
    "lena = Image.open('imgs/lena.png')\n",
    "lena#将lena可视化输出"
   ]
  },
  {
   "cell_type": "code",
   "execution_count": null,
   "metadata": {},
   "outputs": [],
   "source": [
    "# 输入是一个batch，batch_size＝1\n",
    "lena = to_tensor(lena).unsqueeze(0) \n",
    "\n",
    "print(\"Input Size:\",lena.size())#查看input纬度\n",
    "# 锐化卷积核\n",
    "kernel = t.ones(3, 3) / (-9.)\n",
    "kernel[1][1] = 1\n",
    "# 定义一个卷积操作\n",
    "conv = nn.Conv2d(1, 1, (3, 3), 1, bias=False)\n",
    "conv.weight.data = kernel.view(1, 1, 3, 3)\n",
    "\n",
    "out = conv(lena)\n",
    "print(\"Output Size:\",out.size())\n",
    "to_pil(out.data.squeeze(0))"
   ]
  },
  {
   "cell_type": "markdown",
   "metadata": {},
   "source": [
    "在上面的例子中，输入Tensor的大小为$200\\times 200$，卷积核大小为$3\\times 3$，步长为1，填充为0，则根据式(4.1)可以计算得到输出的形状为：\n",
    "$$\n",
    "H_{out}=W_{out} = \\lfloor {200+{2}\\times{0}-3 \\over 1 }+1\\rfloor=198\n",
    "$$\n",
    "这与程序输出的维度一致。"
   ]
  },
  {
   "cell_type": "markdown",
   "metadata": {},
   "source": [
    "这里我们以二维卷积为例对卷积层的输入输出进行了基本的介绍。除了二维卷积以外，图像的卷积操作还有各种变体，感兴趣的读者可以进一步查阅相关资料。"
   ]
  },
  {
   "cell_type": "markdown",
   "metadata": {},
   "source": [
    "#### 池化层\n",
    "\n",
    "池化层可以看作是一种特殊的卷积层，其主要用于下采样，增加池化层可以在保留主要特征的同时降低参数量，从而一定程度上防止了过拟合。池化层没有可学习参数，它的weight是固定的。在`torch.nn`工具箱中封装好了各种池化层，常见的有最大池化（MaxPool）和平均池化（AvgPool)，下面将举例说明。"
   ]
  },
  {
   "cell_type": "code",
   "execution_count": null,
   "metadata": {
    "scrolled": true
   },
   "outputs": [
    {
     "name": "stdout",
     "output_type": "stream",
     "text": [
      "tensor([[[[7, 9, 8, 3],\n",
      "          [1, 5, 2, 4],\n",
      "          [1, 3, 6, 7],\n",
      "          [9, 9, 2, 3]]]])\n"
     ]
    },
    {
     "data": {
      "text/plain": [
       "tensor([[[[5, 4],\n",
       "          [5, 4]]]])"
      ]
     },
     "execution_count": 13,
     "metadata": {},
     "output_type": "execute_result"
    }
   ],
   "source": [
    "input = t.randint(10,(1,1,4,4))   # (1,1,4,4) = (Batch, C, H, W)\n",
    "print(input)\n",
    "pool = nn.AvgPool2d(2,2) # 平均池化，池化中的卷积核为2*2，步长默认等于卷积核长度，无填充\n",
    "pool(input)"
   ]
  },
  {
   "cell_type": "code",
   "execution_count": 12,
   "metadata": {},
   "outputs": [
    {
     "data": {
      "text/plain": [
       "[]"
      ]
     },
     "execution_count": 12,
     "metadata": {},
     "output_type": "execute_result"
    }
   ],
   "source": [
    "list(pool.parameters()) # 可以看到，池化层中并没有可学习参数。"
   ]
  },
  {
   "cell_type": "code",
   "execution_count": null,
   "metadata": {},
   "outputs": [
    {
     "name": "stdout",
     "output_type": "stream",
     "text": [
      "torch.Size([1, 1, 200, 200])\n",
      "torch.Size([1, 1, 100, 100])\n"
     ]
    },
    {
     "data": {
      "image/jpeg": "[encoded data removed]",
      "image/png": "[encoded data removed]",
      "text/plain": [
       "<PIL.Image.Image image mode=L size=100x100>"
      ]
     },
     "execution_count": 15,
     "metadata": {},
     "output_type": "execute_result"
    }
   ],
   "source": [
    "print(lena.size())\n",
    "\n",
    "out = pool(lena)\n",
    "\n",
    "print(out.size())\n",
    "to_pil(out.data.squeeze(0))#输出池化后的lena\n",
    "\n",
    "# squeeze(0)指定第0维度：如果第0维（即维度索引为0的轴）的尺寸是1，则删除该维度，使张量维度减少1；如果第0维尺寸不为1，则张量保持不变"
   ]
  },
  {
   "cell_type": "markdown",
   "metadata": {},
   "source": [
    "#### 其他层\n",
    "\n",
    "除了卷积层和池化层，深度学习中还将常用到以下几个层：\n",
    "- Linear：全连接层；\n",
    "- BatchNorm：批标准化层，分为1D、2D和3D。除了标准的BatchNorm之外，还有在风格迁移中常用到的InstanceNorm层；\n",
    "- Dropout：Dropout层，用来防止过拟合，同样分为1D、2D和3D。\n",
    "\n",
    "下面将举几个例子来说明它们的使用方法。"
   ]
  },
  {
   "cell_type": "code",
   "execution_count": 17,
   "metadata": {
    "scrolled": true
   },
   "outputs": [
    {
     "name": "stdout",
     "output_type": "stream",
     "text": [
      "torch.Size([2, 4])\n"
     ]
    }
   ],
   "source": [
    "# 输入 batch_size=2，维度3\n",
    "input = t.randn(2, 3)\n",
    "linear = nn.Linear(3, 4)\n",
    "h = linear(input)\n",
    "h\n",
    "print(h.size())"
   ]
  },
  {
   "cell_type": "code",
   "execution_count": null,
   "metadata": {
    "scrolled": true
   },
   "outputs": [
    {
     "name": "stdout",
     "output_type": "stream",
     "text": [
      "tensor([[ 3.9993,  3.9995,  3.9535, -3.9999],\n",
      "        [-3.9993, -3.9995, -3.9535,  3.9999]],\n",
      "       grad_fn=<NativeBatchNormBackward0>)\n"
     ]
    },
    {
     "data": {
      "text/plain": [
       "(tensor([ 1.1921e-07,  2.3842e-07,  0.0000e+00, -1.1921e-07],\n",
       "        grad_fn=<MeanBackward1>),\n",
       " tensor([3.9993, 3.9995, 3.9535, 3.9999], grad_fn=<StdBackward0>))"
      ]
     },
     "execution_count": 22,
     "metadata": {},
     "output_type": "execute_result"
    }
   ],
   "source": [
    "# 4 channel，初始化标准差为4，均值为0\n",
    "bn = nn.BatchNorm1d(4) # 创建一个一维批归一化层，处理4个输入通道\n",
    "\n",
    "# 手动设置权重与偏置\n",
    "bn.weight.data = t.ones(4) * 4   \n",
    "bn.bias.data = t.zeros(4)\n",
    "\n",
    "bn_out = bn(h)\n",
    "print(bn_out)\n",
    "\n",
    "# 注意输出各个通道的均值和方差\n",
    "bn_out.mean(0),bn_out.std(0, unbiased=False)"
   ]
  },
  {
   "cell_type": "code",
   "execution_count": 19,
   "metadata": {},
   "outputs": [
    {
     "data": {
      "text/plain": [
       "tensor([[ 0.0000,  7.9989,  0.0000, -0.0000],\n",
       "        [-7.9986, -0.0000, -7.9071,  0.0000]], grad_fn=<MulBackward0>)"
      ]
     },
     "execution_count": 19,
     "metadata": {},
     "output_type": "execute_result"
    }
   ],
   "source": [
    "# 设置一个dropout层，每个元素以0.5的概率随机舍弃\n",
    "dropout = nn.Dropout(0.5)\n",
    "\n",
    "o = dropout(bn_out)\n",
    "o # 有一半左右的数变为0"
   ]
  },
  {
   "cell_type": "markdown",
   "metadata": {},
   "source": [
    "以上很多例子中都对module的属性直接操作，其大多数是可学习参数，一般会随着学习的进行而不断改变。实际使用中除非需要使用特殊的初始化，否则应尽量不要直接修改这些参数。"
   ]
  },
  {
   "cell_type": "markdown",
   "metadata": {},
   "source": [
    "### 4.2.2 激活函数\n",
    "PyTorch实现了常见的激活函数，其具体的接口信息可参见官方文档，这些激活函数可作为独立的layer使用。这里将介绍最常用的激活函数ReLU，其数学表达式为：\n",
    "$$\n",
    "ReLU(x)=max(0,x) \\tag{4.2}\n",
    "$$\n",
    "\n",
    "下面来看如何在`torch.nn`中使用ReLU函数："
   ]
  },
  {
   "cell_type": "code",
   "execution_count": null,
   "metadata": {},
   "outputs": [
    {
     "name": "stdout",
     "output_type": "stream",
     "text": [
      "tensor([[ 0.6883,  0.1620,  0.8794],\n",
      "        [-0.3801, -0.1054,  1.4898]])\n",
      "tensor([[0.6883, 0.1620, 0.8794],\n",
      "        [0.0000, 0.0000, 1.4898]])\n",
      "tensor([[0.6883, 0.1620, 0.8794],\n",
      "        [0.0000, 0.0000, 1.4898]])\n"
     ]
    }
   ],
   "source": [
    "relu = nn.ReLU(inplace=True)\n",
    "input = t.randn(2, 3)\n",
    "print(input)\n",
    "output = relu(input)\n",
    "print(output) # 小于0的都被截断为0\n",
    "# 等价于input.clamp(min=0)\n",
    "\n",
    "print(input) # inplace=True，此时的input已经被output覆盖了"
   ]
  },
  {
   "cell_type": "markdown",
   "metadata": {},
   "source": [
    "ReLU函数有个inplace参数，如果设为True，它会把输出直接覆盖到输入中，这样可以节省内存/显存。这里之所以可以直接覆盖，是因为在计算ReLU的反向传播时，只需根据输出就能够推算出反向传播的梯度。但是只有少数的autograd操作支持inplace操作（如tensor.sigmoid_()），因此除非你明确地知道自己在做什么，否则一般不要使用inplace操作。除此以外，常见的激活函数还有$tanh={{e^x}-{e^{-x}} \\over {e^x}+{e^{-x}}}$和$sigmoid={1 \\over {1 + {e^{-x}}}}$。读者可以根据实际的网络结构、数据分布等灵活地选用各类激活函数。"
   ]
  },
  {
   "cell_type": "markdown",
   "metadata": {},
   "source": [
    "### 4.2.3 构建网络\n",
    "在以上的例子中，我们基本上都是将每一层的输出直接作为下一层的输入，这种网络称为前馈传播网络（Feedforward Neural Network）。对于此类网络如果每次都写复杂的`forward`函数会有些麻烦，这里有两种简化方式：ModuleList和Sequential。其中Sequential是一个特殊的module，它包含几个子Module，前向传播时会将输入一层接一层的传递下去。ModuleList也是一个特殊的Module，可以包含几个子module，我们可以像用list一样使用它，但不能直接把输入传给ModuleList，下面将举例说明。"
   ]
  },
  {
   "cell_type": "code",
   "execution_count": 23,
   "metadata": {
    "scrolled": false
   },
   "outputs": [
    {
     "name": "stdout",
     "output_type": "stream",
     "text": [
      "net1: Sequential(\n",
      "  (conv): Conv2d(3, 3, kernel_size=(3, 3), stride=(1, 1))\n",
      "  (batchnorm): BatchNorm2d(3, eps=1e-05, momentum=0.1, affine=True, track_running_stats=True)\n",
      "  (activation_layer): ReLU()\n",
      ")\n",
      "net2: Sequential(\n",
      "  (0): Conv2d(3, 3, kernel_size=(3, 3), stride=(1, 1))\n",
      "  (1): BatchNorm2d(3, eps=1e-05, momentum=0.1, affine=True, track_running_stats=True)\n",
      "  (2): ReLU()\n",
      ")\n",
      "net3: Sequential(\n",
      "  (conv1): Conv2d(3, 3, kernel_size=(3, 3), stride=(1, 1))\n",
      "  (bn1): BatchNorm2d(3, eps=1e-05, momentum=0.1, affine=True, track_running_stats=True)\n",
      "  (relu1): ReLU()\n",
      ")\n"
     ]
    }
   ],
   "source": [
    "# Sequential的三种写法\n",
    "net1 = nn.Sequential()\n",
    "# 相当于定义了一个列表，里面存放网络的每一层\n",
    "\n",
    "net1.add_module('conv', nn.Conv2d(3, 3, 3))\n",
    "net1.add_module('batchnorm', nn.BatchNorm2d(3))\n",
    "net1.add_module('activation_layer', nn.ReLU())\n",
    "\n",
    "net2 = nn.Sequential(\n",
    "        nn.Conv2d(3, 3, 3),\n",
    "        nn.BatchNorm2d(3),\n",
    "        nn.ReLU()\n",
    "        )\n",
    "\n",
    "from collections import OrderedDict\n",
    "net3= nn.Sequential(OrderedDict([\n",
    "          ('conv1', nn.Conv2d(3, 3, 3)),\n",
    "          ('bn1', nn.BatchNorm2d(3)),\n",
    "          ('relu1', nn.ReLU())\n",
    "        ]))\n",
    "print('net1:', net1)\n",
    "print('net2:', net2)\n",
    "print('net3:', net3)"
   ]
  },
  {
   "cell_type": "code",
   "execution_count": 24,
   "metadata": {},
   "outputs": [
    {
     "data": {
      "text/plain": [
       "(Conv2d(3, 3, kernel_size=(3, 3), stride=(1, 1)),\n",
       " Conv2d(3, 3, kernel_size=(3, 3), stride=(1, 1)),\n",
       " Conv2d(3, 3, kernel_size=(3, 3), stride=(1, 1)))"
      ]
     },
     "execution_count": 24,
     "metadata": {},
     "output_type": "execute_result"
    }
   ],
   "source": [
    "# 可根据名字或序号取出子module\n",
    "net1.conv, net2[0], net3.conv1"
   ]
  },
  {
   "cell_type": "code",
   "execution_count": 25,
   "metadata": {},
   "outputs": [
    {
     "name": "stderr",
     "output_type": "stream",
     "text": [
      "[W NNPACK.cpp:64] Could not initialize NNPACK! Reason: Unsupported hardware.\n"
     ]
    }
   ],
   "source": [
    "# 调用已构建的网络\n",
    "input = t.rand(1, 3, 4, 4)\n",
    "output = net1(input)\n",
    "output = net2(input)\n",
    "output = net3(input)\n",
    "output = net3.relu1(net1.batchnorm(net1.conv(input)))"
   ]
  },
  {
   "cell_type": "code",
   "execution_count": 29,
   "metadata": {},
   "outputs": [
    {
     "name": "stdout",
     "output_type": "stream",
     "text": [
      "tensor([[ 0.7453, -1.5729, -2.1652]])\n",
      "tensor([[ 1.7884, -0.7859]], grad_fn=<AddmmBackward0>)\n"
     ]
    }
   ],
   "source": [
    "modellist = nn.ModuleList([nn.Linear(3,4), nn.ReLU(), nn.Linear(4,2)])\n",
    "input = t.randn(1, 3)\n",
    "\n",
    "print(input)\n",
    "for model in modellist:\n",
    "    input = model(input)\n",
    "\n",
    "\n",
    "# 下面会报错,因为modellist没有实现forward方法，只能写循环进行遍历\n",
    "# output = modelist(input)\n",
    "\n",
    "print(input)"
   ]
  },
  {
   "cell_type": "markdown",
   "metadata": {},
   "source": [
    "看到这里，读者可能会问，为何不直接使用Python中自带的list，而非要多此一举呢？这是因为`ModuleList`是`Module`的子类，当在`Module`中使用它的时候，就能自动识别为子module，下面将举例说明。"
   ]
  },
  {
   "cell_type": "code",
   "execution_count": 30,
   "metadata": {},
   "outputs": [
    {
     "data": {
      "text/plain": [
       "MyModule(\n",
       "  (module_list): ModuleList(\n",
       "    (0): Conv2d(3, 3, kernel_size=(3, 3), stride=(1, 1))\n",
       "    (1): ReLU()\n",
       "  )\n",
       ")"
      ]
     },
     "execution_count": 30,
     "metadata": {},
     "output_type": "execute_result"
    }
   ],
   "source": [
    "class MyModule(nn.Module):\n",
    "    def __init__(self):\n",
    "        super(MyModule, self).__init__()\n",
    "        self.list = [nn.Linear(3, 4), nn.ReLU()]\n",
    "        self.module_list = nn.ModuleList([nn.Conv2d(3, 3, 3), nn.ReLU()])\n",
    "    def forward(self):\n",
    "        pass\n",
    "model = MyModule()\n",
    "model"
   ]
  },
  {
   "cell_type": "code",
   "execution_count": 31,
   "metadata": {},
   "outputs": [
    {
     "name": "stdout",
     "output_type": "stream",
     "text": [
      "module_list.0.weight torch.Size([3, 3, 3, 3])\n",
      "module_list.0.bias torch.Size([3])\n"
     ]
    }
   ],
   "source": [
    "for name, param in model.named_parameters():\n",
    "    print(name, param.size())"
   ]
  },
  {
   "cell_type": "markdown",
   "metadata": {},
   "source": [
    "可见，list中的子module并不能被主module所识别，而`ModuleList`中的子module能够被主module所识别。这意味着如果用list保存子module，将无法调整其参数，因其未加入到主module的参数中。"
   ]
  },
  {
   "cell_type": "markdown",
   "metadata": {},
   "source": [
    "除了`ModuleList`之外还有`ParameterList`，它是一个可以包含多个parameter的类list对象。在实际应用中，其使用方式与`ModuleList`类似。如果在构造函数`__init__`中用到list、tuple、dict等对象时，一定要思考是否应该用`ModuleList`或`ParameterList`代替。"
   ]
  },
  {
   "cell_type": "markdown",
   "metadata": {},
   "source": [
    "### 4.2.3 循环神经网络层(RNN)\n",
    "近年来，随着深度学习和自然语言处理领域的逐渐火热，RNN的使用也越来越多。PyTorch中实现了如今最常用的三种RNN：RNN（vanilla RNN）、LSTM和GRU。此外还有对应的三种RNNCell。\n",
    "\n",
    "RNN和RNNCell层的区别在于前者一次能够处理整个序列，而后者一次只处理序列中一个时间点的数据；同时，RNN的封装更完备更易于使用，相比之下RNNCell层更具灵活性。实际上RNN层的一种后端实现方式就是调用RNNCell来实现的。下面将举例说明这两种RNN层结构。"
   ]
  },
  {
   "cell_type": "code",
   "execution_count": 32,
   "metadata": {
    "scrolled": true
   },
   "outputs": [
    {
     "data": {
      "text/plain": [
       "torch.Size([2, 3, 3])"
      ]
     },
     "execution_count": 32,
     "metadata": {},
     "output_type": "execute_result"
    }
   ],
   "source": [
    "t.manual_seed(2021)\n",
    "\n",
    "'''\n",
    "RNN、Transformer 等深度学习模型在处理序列数据时:\n",
    "数据的形状input.shape = (seq_len, batch_size, input_size)\n",
    "'''\n",
    "# 输入：batch_size=3，序列长度都为2，序列中每个元素占4维\n",
    "input = t.randn(2, 3, 4).float()\n",
    "# lstm输入向量4维，3个隐藏元，1层\n",
    "lstm = nn.LSTM(4, 3, 1)\n",
    "\n",
    "\n",
    "# 初始状态：1层，batch_size=3，3个隐藏元\n",
    "'''\n",
    "LSTM 需要初始的隐藏状态 h0 和 细胞状态 c0\n",
    "h0.shape = (num_layers * num_directions, batch_size, hidden_size)\n",
    "c0.shape = (num_layers * num_directions, batch_size, hidden_size)\n",
    "'''\n",
    "h0 = t.randn(1, 3, 3)\n",
    "c0 = t.randn(1, 3, 3)\n",
    "\n",
    "'''\n",
    "output, (hn, cn) = lstm(input, (h0, c0))\n",
    "output.shape = (seq_len, batch_size, num_directions * hidden_size)\n",
    "\n",
    "\n",
    "output[t] 是 LSTM 在时间步 t 计算出的隐藏状态（并不是最终的 hn）。\n",
    "如果 batch_first=True，则 output.shape = (batch_size, seq_len, num_directions * hidden_size)。\n",
    "\n",
    "\n",
    "对于双向 LSTM：\n",
    "output 在 hidden_size 维度上拼接了前向和后向的隐藏状态，因此 output.shape[-1] = num_directions * hidden_size。\n",
    "\n",
    "hn.shape = (num_layers * num_directions, batch_size, hidden_size)\n",
    "hn[l] 是 LSTM 每一层的最后一个时间步 的隐藏状态。\n",
    "cn.shape = (num_layers * num_directions, batch_size, hidden_size)\n",
    "cn[l] 是 LSTM 每一层的最后一个时间步 的细胞状态。\n",
    "\n",
    "\n",
    "'''\n",
    "\n",
    "out1, hn = lstm(input, (h0, c0))\n",
    "out1.shape"
   ]
  },
  {
   "cell_type": "code",
   "execution_count": null,
   "metadata": {
    "scrolled": true
   },
   "outputs": [
    {
     "name": "stdout",
     "output_type": "stream",
     "text": [
      "torch.Size([3, 4])\n",
      "torch.Size([3, 4])\n"
     ]
    },
    {
     "data": {
      "text/plain": [
       "torch.Size([2, 3, 3])"
      ]
     },
     "execution_count": 33,
     "metadata": {},
     "output_type": "execute_result"
    }
   ],
   "source": [
    "t.manual_seed(2021)\n",
    "input = t.randn(2, 3, 4).float()\n",
    "# 一个LSTMCell对应的层数只能是一层\n",
    "'''\n",
    "nn.LSTMCell(input_size=4, hidden_size=3)：\n",
    "input_size=4：每个时间步输入 4 维特征。\n",
    "hidden_size=3：LSTM 隐藏层大小为 3 维。\n",
    "LSTMCell 与 LSTM 的区别\n",
    "LSTMCell：只能处理单个时间步，所以需要手动循环遍历序列（for i_ in input）。\n",
    "LSTM：可以直接处理整个序列，不需要手动循环。\n",
    "'''\n",
    "lstm = nn.LSTMCell(4, 3)\n",
    "hx = t.randn(3, 3)\n",
    "cx = t.randn(3, 3)\n",
    "out = []\n",
    "\n",
    "'''\n",
    "input 形状为 (seq_len, batch_size, input_size)，所以 input[0] 形状为 (batch_size, input_size) = (3, 4)。\n",
    "i_ 依次代表序列中的每个时间步的数据，即 i_ 的形状是 (3, 4)\n",
    "'''\n",
    "for i_ in input:   # 只进行2次循环\n",
    "    print(i_.shape)\n",
    "    hx, cx=lstm(i_, (hx, cx))\n",
    "    out.append(hx)\n",
    "\n",
    "'''\n",
    "out 是一个包含 seq_len 个 hx 的列表，每个 hx 形状 (batch_size, hidden_size) = (3, 3)。\n",
    "t.stack(out) 沿着新维度叠加 out，形成张量 out2。\n",
    "out2.shape = (seq_len, batch_size, hidden_size) = (2, 3, 3)\n",
    "'''\n",
    "out2=t.stack(out)\n",
    "out2.shape"
   ]
  },
  {
   "cell_type": "markdown",
   "metadata": {},
   "source": [
    "其中，上述两种实现方式下LSTM的结果是完全一致的。读者可以对比一下这两种实现方式有何区别，并从中体会RNN和RNNCell层实现的不同。"
   ]
  },
  {
   "cell_type": "code",
   "execution_count": 34,
   "metadata": {},
   "outputs": [
    {
     "data": {
      "text/plain": [
       "True"
      ]
     },
     "execution_count": 34,
     "metadata": {},
     "output_type": "execute_result"
    }
   ],
   "source": [
    "#受限于精度问题，这里使用allclose函数说明结果的一致性\n",
    "out1.allclose(out2)"
   ]
  },
  {
   "cell_type": "markdown",
   "metadata": {},
   "source": [
    "词向量在自然语言中应用十分普及，PyTorch同样提供了Embedding层，下面将举例说明。"
   ]
  },
  {
   "cell_type": "code",
   "execution_count": 46,
   "metadata": {},
   "outputs": [
    {
     "name": "stdout",
     "output_type": "stream",
     "text": [
      "tensor([[ 0.,  1.,  2.,  3.,  4.],\n",
      "        [ 5.,  6.,  7.,  8.,  9.],\n",
      "        [10., 11., 12., 13., 14.],\n",
      "        [15., 16., 17., 18., 19.]])\n",
      "Parameter containing:\n",
      "tensor([[ 0.,  1.,  2.,  3.,  4.],\n",
      "        [ 5.,  6.,  7.,  8.,  9.],\n",
      "        [10., 11., 12., 13., 14.],\n",
      "        [15., 16., 17., 18., 19.]])\n"
     ]
    }
   ],
   "source": [
    "# 有4个词，每个词用5维的向量表示\n",
    "\n",
    "'''\n",
    "nn.Embedding(num_embeddings=4, embedding_dim=5)：\n",
    "num_embeddings=4：表示词表大小，即共有 4 个词。\n",
    "embedding_dim=5：表示每个词的词向量维度，即每个词由 5 维向量表示。\n",
    "\n",
    "作用：nn.Embedding 层的输入是索引（0、1、2、3），输出是对应的 5 维向量。\n",
    "'''\n",
    "\n",
    "embedding = nn.Embedding(4, 5)\n",
    "# 可以用预训练好的词向量初始化embedding\n",
    "weight = t.arange(0,20).view(4,5).float()\n",
    "\n",
    "print(weight)\n",
    "\n",
    "'''\n",
    "现在，每个词都对应一个 5 维向量：\n",
    "词索引 0 对应 [0, 1, 2, 3, 4]\n",
    "词索引 1 对应 [5, 6, 7, 8, 9]\n",
    "词索引 2 对应 [10, 11, 12, 13, 14]\n",
    "词索引 3 对应 [15, 16, 17, 18, 19]\n",
    "'''\n",
    "embedding = nn.Embedding.from_pretrained(weight)\n",
    "print(embedding.weight)  # 检查初始化后的权重\n",
    "\n"
   ]
  },
  {
   "cell_type": "code",
   "execution_count": 47,
   "metadata": {
    "scrolled": false
   },
   "outputs": [
    {
     "name": "stdout",
     "output_type": "stream",
     "text": [
      "tensor([3, 2, 1])\n"
     ]
    },
    {
     "data": {
      "text/plain": [
       "tensor([[15., 16., 17., 18., 19.],\n",
       "        [10., 11., 12., 13., 14.],\n",
       "        [ 5.,  6.,  7.,  8.,  9.]])"
      ]
     },
     "execution_count": 47,
     "metadata": {},
     "output_type": "execute_result"
    }
   ],
   "source": [
    "input = t.arange(3, 0, -1).long()\n",
    "\n",
    "print(input)\n",
    "# 根据索引进行查找\n",
    "output = embedding(input)\n",
    "output"
   ]
  },
  {
   "cell_type": "markdown",
   "metadata": {},
   "source": [
    "### 4.2.4 损失函数\n",
    "在深度学习中会经常使用各种各样的损失函数（loss function），这些损失函数可看作是一种特殊的layer，PyTorch也将这些损失函数实现为`nn.Module`的子类。然而在实际使用中通常将这些损失函数专门提取出来，作为独立的一部分。详细的loss使用请参照官方文档，这里以分类中最常用的交叉熵损失CrossEntropyloss为例进行讲解。"
   ]
  },
  {
   "cell_type": "code",
   "execution_count": 50,
   "metadata": {},
   "outputs": [
    {
     "name": "stdout",
     "output_type": "stream",
     "text": [
      "tensor([[-1.8034,  0.2667],\n",
      "        [-0.0278, -0.1947],\n",
      "        [ 1.5576,  0.2465]])\n"
     ]
    },
    {
     "data": {
      "text/plain": [
       "tensor(0.7606)"
      ]
     },
     "execution_count": 50,
     "metadata": {},
     "output_type": "execute_result"
    }
   ],
   "source": [
    "# batch_size=3，计算对应每个类别的分数（只有两个类别）\n",
    "score = t.randn(3, 2)\n",
    "print(score)\n",
    "# 三个样本分别属于1，0，1类，label必须是LongTensor\n",
    "label = t.Tensor([1, 0, 1]).long()\n",
    "\n",
    "# loss与普通的layer无差异\n",
    "criterion = nn.CrossEntropyLoss()\n",
    "loss = criterion(score, label)\n",
    "loss"
   ]
  },
  {
   "cell_type": "markdown",
   "metadata": {},
   "source": [
    "本小节对nn中的常用模块进行了详细的介绍，利用这些模块读者便可以快速地搭建神经网络。读者在使用这些模块时应当注意每一个module所包含的参数和输入、输出的形状及含义，从而避免一些不必要的错误。"
   ]
  },
  {
   "cell_type": "markdown",
   "metadata": {},
   "source": [
    "## 4.3 nn.functional\n",
    "\n",
    "`torch.nn`中还有一个很常用的模块：`nn.functional`。`torch.nn`中的大多数layer，在`functional`中都有一个与之相对应的函数。`nn.functional`中的函数和`nn.Module`的主要区别在于，用`nn.Module`实现的layers是一个特殊的类，都是由`class layer(nn.Module)`定义，会自动提取可学习的参数；而`nn.functional`中的函数更像是纯函数，由`def function(input)`定义。下面将举例说明functional的使用，并对比二者的不同之处。"
   ]
  },
  {
   "cell_type": "markdown",
   "metadata": {},
   "source": [
    "### 4.3.1与nn.module的区别"
   ]
  },
  {
   "cell_type": "code",
   "execution_count": 51,
   "metadata": {},
   "outputs": [
    {
     "data": {
      "text/plain": [
       "tensor([[True, True, True, True],\n",
       "        [True, True, True, True]])"
      ]
     },
     "execution_count": 51,
     "metadata": {},
     "output_type": "execute_result"
    }
   ],
   "source": [
    "input = t.randn(2, 3)\n",
    "model = nn.Linear(3, 4)\n",
    "output1 = model(input)\n",
    "output2 = nn.functional.linear(input, model.weight, model.bias)\n",
    "output1 == output2"
   ]
  },
  {
   "cell_type": "code",
   "execution_count": 52,
   "metadata": {},
   "outputs": [
    {
     "data": {
      "text/plain": [
       "tensor([[True, True, True],\n",
       "        [True, True, True]])"
      ]
     },
     "execution_count": 52,
     "metadata": {},
     "output_type": "execute_result"
    }
   ],
   "source": [
    "b = nn.functional.relu(input)\n",
    "b2 = nn.ReLU()(input)\n",
    "b == b2"
   ]
  },
  {
   "cell_type": "markdown",
   "metadata": {},
   "source": [
    "此时读者可能会问，应该什么时候使用`nn.Module`，什么时候使用`nn.functional`呢？答案很简单，如果模型有可学习的参数，最好用`nn.Module`，否则既可以使用`nn.functional`也可以使用`nn.Module`，二者在性能上没有太大差异，具体的使用取决于个人的喜好。由于激活函数（`ReLU`、`sigmoid`、`tanh`）、池化（MaxPool）等层没有可学习参数，可以使用对应的functional函数代替；而卷积、全连接等具有可学习参数的网络建议使用`nn.Module`。另外虽然dropout操作也没有可学习操作，但建议还是使用`nn.Dropout`而不是`nn.functional.dropout`，因为dropout在训练和测试两个阶段的行为有所差别，使用`nn.Module`对象能够通过`model.eval`操作加以区分。下面将举例说明如何在模型中搭配使用`nn.Module`和`nn.functional`。"
   ]
  },
  {
   "cell_type": "code",
   "execution_count": 53,
   "metadata": {},
   "outputs": [],
   "source": [
    "from torch.nn import functional as F\n",
    "class Net(nn.Module):\n",
    "    def __init__(self):\n",
    "        super(Net, self).__init__()\n",
    "        self.conv1 = nn.Conv2d(3, 6, 5)\n",
    "        self.conv2 = nn.Conv2d(6, 16, 5)\n",
    "        self.fc1 = nn.Linear(16 * 5 * 5, 120)\n",
    "        self.fc2 = nn.Linear(120, 84)\n",
    "        self.fc3 = nn.Linear(84, 10)\n",
    "\n",
    "    def forward(self, x):\n",
    "        x = F.pool(F.relu(self.conv1(x)), 2)\n",
    "        x = F.pool(F.relu(self.conv2(x)), 2)\n",
    "        x = x.view(-1, 16 * 5 * 5)\n",
    "        # x 必须先变成16*5*5才能作为输入，进入全连接层\n",
    "        x = F.relu(self.fc1(x))\n",
    "        x = F.relu(self.fc2(x))\n",
    "        x = self.fc3(x)\n",
    "        return x"
   ]
  },
  {
   "cell_type": "markdown",
   "metadata": {},
   "source": [
    "对于不具备可学习参数的层（激活层、池化层等），将它们用函数代替，这样可以不用放置在构造函数`__init__`中。而对于有可学习参数的模块，也可以用functional代替，只不过实现起来较为繁琐，这是因为我们需要手动定义参数parameter，如下文自定义实现的全连接层`MyLinear`，它需要将weight和bias两个参数单独拿出来，在构造函数中初始化为parameter。"
   ]
  },
  {
   "cell_type": "code",
   "execution_count": 54,
   "metadata": {},
   "outputs": [],
   "source": [
    "class MyLinear(nn.Module):\n",
    "    def __init__(self):\n",
    "        super(MyLinear, self).__init__()\n",
    "        self.weight = nn.Parameter(t.randn(3, 4))\n",
    "        self.bias = nn.Parameter(t.zeros(3))\n",
    "    def forward(self):\n",
    "        return F.linear(input, weight, bias)"
   ]
  },
  {
   "cell_type": "markdown",
   "metadata": {},
   "source": [
    "关于nn.functional的设计初衷，以及它和nn.Module更多的比较说明，读者可参看PyTorch中论坛的相关讨论和说明。"
   ]
  },
  {
   "cell_type": "markdown",
   "metadata": {},
   "source": [
    "### 4.3.2 采样函数\n",
    "在`nn.functional`中还有一个常用的函数：采样函数`torch.nn.functional.grid_sample`，它的主要作用是对输入的Tensor进行双线性采样，并让输出变换为我们想要的形状。这里我们用lena来进行举例说明。"
   ]
  },
  {
   "cell_type": "code",
   "execution_count": 55,
   "metadata": {},
   "outputs": [
    {
     "data": {
      "image/jpeg": "[encoded data removed]",
      "image/png": "[encoded data removed]",
      "text/plain": [
       "<PIL.Image.Image image mode=L size=200x200>"
      ]
     },
     "execution_count": 55,
     "metadata": {},
     "output_type": "execute_result"
    }
   ],
   "source": [
    "to_pil(lena.data.squeeze(0)) # 原始的lena数据"
   ]
  },
  {
   "cell_type": "code",
   "execution_count": 59,
   "metadata": {},
   "outputs": [
    {
     "name": "stdout",
     "output_type": "stream",
     "text": [
      "torch.Size([400, 400, 2])\n",
      "torch.Size([1, 400, 400, 2])\n"
     ]
    }
   ],
   "source": [
    "# lena的形状是1x1x200x200，（N,C,Hin,Win）\n",
    "w = 400 # 准备将图像放大至400\n",
    "\n",
    "# 得到400x400的介于[-1,1]之间的均匀分布张量\n",
    "h_out = t.linspace(-1, 1, steps=w).view(-1, 1).repeat(1, w)\n",
    "'''\n",
    ".repeat(1, w): 在列方向上重复 w 次，形成一个 w×w 的矩阵，\n",
    "其中每一行的值都相同，表示 y 轴方向的坐标（高度信息）。\n",
    "'''\n",
    "w_out = t.linspace(-1, 1, steps=w).repeat(w, 1)\n",
    "\n",
    "grid = t.cat((w_out.unsqueeze(2), h_out.unsqueeze(2)), dim = 2)   # dim = 2 沿着第二个维度进行拼接，得到的就是 w * w * 2 的张量\n",
    "'''\n",
    "unsqueeze(2) 在索引 2 处增加一个维度，变成\n",
    "(w,w,1) 的张量，使得每个点的 x 坐标成为一个独立的通道。\n",
    "'''\n",
    "\n",
    "print(grid.size())\n",
    "\n",
    "\n",
    "# grid形状为（N,Hout,Wout,2）\n",
    "# grid最后一个维度大小为2，表示输入中pixel的位置信息，取值范围在（-1,1）\n",
    "grid = grid.unsqueeze(0) # 添加一个第0维，作为batchsize\n",
    "print(grid.size())"
   ]
  },
  {
   "cell_type": "code",
   "execution_count": 60,
   "metadata": {},
   "outputs": [
    {
     "data": {
      "image/jpeg": "[encoded data removed]",
      "image/png": "[encoded data removed]",
      "text/plain": [
       "<PIL.Image.Image image mode=L size=400x400>"
      ]
     },
     "execution_count": 60,
     "metadata": {},
     "output_type": "execute_result"
    }
   ],
   "source": [
    "import torch\n",
    "from torch.nn import functional as F\n",
    "import warnings\n",
    "warnings.filterwarnings(\"ignore\")\n",
    "\n",
    "out = F.grid_sample(lena, grid=grid, mode='bilinear')\n",
    "to_pil(out.data.squeeze(0))"
   ]
  },
  {
   "cell_type": "markdown",
   "metadata": {},
   "source": [
    "## 4.4 初始化策略\n",
    "在深度学习中参数的初始化十分重要，良好的初始化能让模型更快地收敛，并达到更高水平，而糟糕的初始化则可能使得模型迅速崩溃。PyTorch中`nn.Module`的模块参数都采取了较为合理的初始化策略，因此一般不用我们考虑。当然我们也可以用自定义初始化来代替系统的默认初始化。而当我们在使用Parameter时，自定义初始化则尤为重要，这是因为torch.Tensor()返回的是内存中的随机数，很可能会有极大值，这在实际训练网络中会造成溢出或者梯度消失。PyTorch中`nn.init`模块就是专门为初始化而设计的一个模块，其中实现了常用的初始化策略。如果某种初始化策略`nn.init`不提供，用户也可以自己直接初始化。"
   ]
  },
  {
   "cell_type": "code",
   "execution_count": null,
   "metadata": {},
   "outputs": [
    {
     "data": {
      "text/plain": [
       "Parameter containing:\n",
       "tensor([[ 1.2225,  0.3428, -0.4605],\n",
       "        [-0.1951, -0.3705,  0.4823],\n",
       "        [-1.4530, -0.7739,  0.3334],\n",
       "        [ 0.2577, -1.2324,  0.4905]], requires_grad=True)"
      ]
     },
     "execution_count": 61,
     "metadata": {},
     "output_type": "execute_result"
    }
   ],
   "source": [
    "# 利用nn.init初始化\n",
    "from torch.nn import init\n",
    "linear = nn.Linear(3, 4)\n",
    "#创建了一个全连接层，输入维度是 3，输出维度是 4。它的权重 linear.weight 形状是 4×3，即 4 行 3 列的矩阵\n",
    "\n",
    "t.manual_seed(2021)\n",
    "\n",
    "init.xavier_normal_(linear.weight)"
   ]
  },
  {
   "cell_type": "code",
   "execution_count": 62,
   "metadata": {},
   "outputs": [
    {
     "data": {
      "text/plain": [
       "tensor([[ 1.2225,  0.3428, -0.4605],\n",
       "        [-0.1951, -0.3705,  0.4823],\n",
       "        [-1.4530, -0.7739,  0.3334],\n",
       "        [ 0.2577, -1.2324,  0.4905]])"
      ]
     },
     "execution_count": 62,
     "metadata": {},
     "output_type": "execute_result"
    }
   ],
   "source": [
    "# 利用公式，直接初始化\n",
    "import math\n",
    "t.manual_seed(2021)\n",
    "\n",
    "# xavier初始化的计算公式\n",
    "std = math.sqrt(2) / math.sqrt(7.)\n",
    "linear.weight.data.normal_(0,std)"
   ]
  },
  {
   "cell_type": "code",
   "execution_count": 63,
   "metadata": {},
   "outputs": [],
   "source": [
    "# 对模型的所有参数进行初始化\n",
    "net = Net()\n",
    "for name, params in net.named_parameters():\n",
    "    if name.find('linear') != -1:\n",
    "        # init linear\n",
    "        params[0] # weight\n",
    "        params[1] # bias\n",
    "    elif name.find('conv') != -1:\n",
    "        pass\n",
    "    elif name.find('norm') != -1:\n",
    "        pass"
   ]
  },
  {
   "cell_type": "markdown",
   "metadata": {},
   "source": [
    "## 4.5 优化器\n",
    "\n",
    "PyTorch将深度学习中常用的优化方法全部封装在`torch.optim`中，其设计十分灵活，能够很方便地扩展成自定义的优化方法。\n",
    "\n",
    "所有的优化方法都是继承基类`optim.Optimizer`，并实现了自己的优化步骤。下面就以最基本的优化方法——随机梯度下降法（SGD）举例说明。这里需要重点掌握：\n",
    "\n",
    "1. 优化方法的基本使用方法；\n",
    "2. 如何对模型的不同部分设置不同的学习率；\n",
    "3. 如何调整学习率。"
   ]
  },
  {
   "cell_type": "code",
   "execution_count": 64,
   "metadata": {},
   "outputs": [],
   "source": [
    "# 以本章4.1节的感知器为例\n",
    "class Perceptron(nn.Module):\n",
    "    def __init__(self, in_features, hidden_features, out_features):\n",
    "        super(Perceptron, self).__init__()\n",
    "        # 此处的Linear是前面自定义的全连接层\n",
    "        self.layer1 = Linear(in_features, hidden_features) \n",
    "        self.layer2 = Linear(hidden_features, out_features)\n",
    "    def forward(self, x):\n",
    "        x = self.layer1(x)\n",
    "        x = t.sigmoid(x)\n",
    "        return self.layer2(x)\n",
    "\n",
    "net=Perceptron(3,4,1)"
   ]
  },
  {
   "cell_type": "code",
   "execution_count": 65,
   "metadata": {},
   "outputs": [],
   "source": [
    "from torch import optim\n",
    "optimizer = optim.SGD(params=net.parameters(), lr=1)\n",
    "optimizer.zero_grad() # 梯度清零，等价于net.zero_grad()\n",
    "\n",
    "input = t.randn(32, 3)\n",
    "output = net(input)\n",
    "output.backward(output) # fake backward\n",
    "\n",
    "optimizer.step() # 执行优化"
   ]
  },
  {
   "cell_type": "code",
   "execution_count": 66,
   "metadata": {
    "scrolled": true
   },
   "outputs": [
    {
     "data": {
      "text/plain": [
       "SGD (\n",
       "Parameter Group 0\n",
       "    dampening: 0\n",
       "    differentiable: False\n",
       "    foreach: None\n",
       "    lr: 1e-05\n",
       "    maximize: False\n",
       "    momentum: 0\n",
       "    nesterov: False\n",
       "    weight_decay: 0\n",
       "\n",
       "Parameter Group 1\n",
       "    dampening: 0\n",
       "    differentiable: False\n",
       "    foreach: None\n",
       "    lr: 0.01\n",
       "    maximize: False\n",
       "    momentum: 0\n",
       "    nesterov: False\n",
       "    weight_decay: 0\n",
       ")"
      ]
     },
     "execution_count": 66,
     "metadata": {},
     "output_type": "execute_result"
    }
   ],
   "source": [
    "weight_params = [param for name,param in net.named_parameters() if name.endswith('.w')]\n",
    "bias_params = [param for name,param in net.named_parameters() if name.endswith('.b')]\n",
    "\n",
    "optimizer =optim.SGD([\n",
    "                {'params':bias_params},\n",
    "                {'params': weight_params, 'lr': 1e-2}\n",
    "            ], lr=1e-5)\n",
    "optimizer"
   ]
  },
  {
   "cell_type": "code",
   "execution_count": 67,
   "metadata": {},
   "outputs": [
    {
     "data": {
      "text/plain": [
       "SGD (\n",
       "Parameter Group 0\n",
       "    dampening: 0\n",
       "    differentiable: False\n",
       "    foreach: None\n",
       "    lr: 0.001\n",
       "    maximize: False\n",
       "    momentum: 0\n",
       "    nesterov: False\n",
       "    weight_decay: 0\n",
       "\n",
       "Parameter Group 1\n",
       "    dampening: 0\n",
       "    differentiable: False\n",
       "    foreach: None\n",
       "    lr: 0.01\n",
       "    maximize: False\n",
       "    momentum: 0\n",
       "    nesterov: False\n",
       "    weight_decay: 0\n",
       ")"
      ]
     },
     "execution_count": 67,
     "metadata": {},
     "output_type": "execute_result"
    }
   ],
   "source": [
    "# 只为第一个全连接层设置较大的学习率，其余层的学习率较小\n",
    "special_layers = nn.ModuleList([net.layer1])\n",
    "special_layers_params = list(map(id, special_layers.parameters()))\n",
    "base_params = [param for param in net.parameters() if id(param) not in special_layers_params]\n",
    "optimizer = t.optim.SGD([\n",
    "            {'params': base_params},\n",
    "            {'params': special_layers.parameters(), 'lr': 0.01}\n",
    "        ], lr=0.001 )\n",
    "optimizer"
   ]
  },
  {
   "cell_type": "markdown",
   "metadata": {},
   "source": [
    "调整学习率主要有两种做法：\n",
    "1. 修改optimizer.param_groups中对应的学习率；\n",
    "2. 新建一个优化器。\n",
    "\n",
    "相比之下笔者更加推荐第二种做法，这是因为optimizer一般构建开销很小，故而可以构建新的optimizer。但是新建优化器会重新初始化动量等状态信息，这对于使用动量的优化器（如Adam），可能会造成损失函数在收敛过程中出现震荡等情况。"
   ]
  },
  {
   "cell_type": "code",
   "execution_count": 68,
   "metadata": {},
   "outputs": [
    {
     "data": {
      "text/plain": [
       "SGD (\n",
       "Parameter Group 0\n",
       "    dampening: 0\n",
       "    differentiable: False\n",
       "    foreach: None\n",
       "    lr: 1e-05\n",
       "    maximize: False\n",
       "    momentum: 0\n",
       "    nesterov: False\n",
       "    weight_decay: 0\n",
       "\n",
       "Parameter Group 1\n",
       "    dampening: 0\n",
       "    differentiable: False\n",
       "    foreach: None\n",
       "    lr: 0.010000000000000002\n",
       "    maximize: False\n",
       "    momentum: 0\n",
       "    nesterov: False\n",
       "    weight_decay: 0\n",
       ")"
      ]
     },
     "execution_count": 68,
     "metadata": {},
     "output_type": "execute_result"
    }
   ],
   "source": [
    "# 调整学习率，新建一个optimizer\n",
    "old_lr = 0.1\n",
    "optimizer1 =optim.SGD([\n",
    "                {'params': bias_params},\n",
    "                {'params': weight_params, 'lr': old_lr*0.1}\n",
    "            ], lr=1e-5)\n",
    "optimizer1"
   ]
  },
  {
   "cell_type": "code",
   "execution_count": 69,
   "metadata": {},
   "outputs": [
    {
     "data": {
      "text/plain": [
       "SGD (\n",
       "Parameter Group 0\n",
       "    dampening: 0\n",
       "    differentiable: False\n",
       "    foreach: None\n",
       "    lr: 0.0001\n",
       "    maximize: False\n",
       "    momentum: 0\n",
       "    nesterov: False\n",
       "    weight_decay: 0\n",
       "\n",
       "Parameter Group 1\n",
       "    dampening: 0\n",
       "    differentiable: False\n",
       "    foreach: None\n",
       "    lr: 0.001\n",
       "    maximize: False\n",
       "    momentum: 0\n",
       "    nesterov: False\n",
       "    weight_decay: 0\n",
       ")"
      ]
     },
     "execution_count": 69,
     "metadata": {},
     "output_type": "execute_result"
    }
   ],
   "source": [
    "# 调整学习率, 手动decay, 保存动量\n",
    "for param_group in optimizer.param_groups:\n",
    "    param_group['lr'] *= 0.1 # 学习率为之前的0.1倍\n",
    "optimizer"
   ]
  },
  {
   "cell_type": "markdown",
   "metadata": {},
   "source": [
    "## 4.6 nn.Module深入分析\n",
    "\n",
    "如果想要更深入地理解nn.Module，研究其原理是很有必要的。首先来看看nn.Module基类的构造函数：\n",
    "```python\n",
    "def __init__(self):\n",
    "    self._parameters = OrderedDict()\n",
    "    self._modules = OrderedDict()\n",
    "    self._buffers = OrderedDict()\n",
    "    self._backward_hooks = OrderedDict()\n",
    "    self._forward_hooks = OrderedDict()\n",
    "    self.training = True\n",
    "```\n",
    "其中：\n",
    "\n",
    "- `_parameters`：字典，保存用户直接设置的parameter。例如`self.param1 = nn.Parameter(t.randn(3, 3))`会被检测到，在字典中加入一个key为param，value为对应parameter的item。而self.submodule = nn.Linear(3, 4)中的parameter则不会存于此；\n",
    "- `_modules`：子module，例如通过`self.submodel = nn.Linear(3, 4)`指定的子module会保存于此；\n",
    "- `_buffers`：缓存。例如BatchNorm使用Momentum机制，每次前向传播需用到上一次前向传播的结果；\n",
    "- `_backward_hooks`与`_forward_hooks`：钩子技术，用来提取中间变量；\n",
    "- `training`：BatchNorm与Dropout层在训练阶段和测试阶段中采取的策略不同，通过判断training值来决定前向传播策略。\n",
    "\n",
    "上述几个属性中，`_parameters`、`_modules`和`_buffers`这三个字典中的键值，都可以通过`self.key`方式获得，效果等价于`self._parameters['key']`，下面将举例说明。"
   ]
  },
  {
   "cell_type": "code",
   "execution_count": 70,
   "metadata": {},
   "outputs": [
    {
     "data": {
      "text/plain": [
       "Net(\n",
       "  (submodel1): Linear(in_features=3, out_features=4, bias=True)\n",
       ")"
      ]
     },
     "execution_count": 70,
     "metadata": {},
     "output_type": "execute_result"
    }
   ],
   "source": [
    "class Net(nn.Module):\n",
    "    def __init__(self):\n",
    "        super(Net, self).__init__()\n",
    "        # 等价与self.register_parameter('param1' ,nn.Parameter(t.randn(3, 3)))\n",
    "        self.param1 = nn.Parameter(t.rand(3, 3))\n",
    "        self.submodel1 = nn.Linear(3, 4) \n",
    "    def forward(self, input):\n",
    "        x = self.param1.mm(input)\n",
    "        x = self.submodel1(x)\n",
    "        return x\n",
    "net = Net()\n",
    "net"
   ]
  },
  {
   "cell_type": "code",
   "execution_count": 71,
   "metadata": {},
   "outputs": [
    {
     "data": {
      "text/plain": [
       "OrderedDict([('submodel1', Linear(in_features=3, out_features=4, bias=True))])"
      ]
     },
     "execution_count": 71,
     "metadata": {},
     "output_type": "execute_result"
    }
   ],
   "source": [
    "net._modules"
   ]
  },
  {
   "cell_type": "code",
   "execution_count": 72,
   "metadata": {},
   "outputs": [
    {
     "data": {
      "text/plain": [
       "OrderedDict([('param1',\n",
       "              Parameter containing:\n",
       "              tensor([[0.9518, 0.6976, 0.2651],\n",
       "                      [0.0453, 0.1703, 0.0534],\n",
       "                      [0.6597, 0.9927, 0.1376]], requires_grad=True))])"
      ]
     },
     "execution_count": 72,
     "metadata": {},
     "output_type": "execute_result"
    }
   ],
   "source": [
    "net._parameters"
   ]
  },
  {
   "cell_type": "code",
   "execution_count": 73,
   "metadata": {
    "scrolled": true
   },
   "outputs": [
    {
     "data": {
      "text/plain": [
       "Parameter containing:\n",
       "tensor([[0.9518, 0.6976, 0.2651],\n",
       "        [0.0453, 0.1703, 0.0534],\n",
       "        [0.6597, 0.9927, 0.1376]], requires_grad=True)"
      ]
     },
     "execution_count": 73,
     "metadata": {},
     "output_type": "execute_result"
    }
   ],
   "source": [
    "net.param1 # 等价于net._parameters['param1']"
   ]
  },
  {
   "cell_type": "code",
   "execution_count": 74,
   "metadata": {},
   "outputs": [
    {
     "name": "stdout",
     "output_type": "stream",
     "text": [
      "param1 torch.Size([3, 3])\n",
      "submodel1.weight torch.Size([4, 3])\n",
      "submodel1.bias torch.Size([4])\n"
     ]
    }
   ],
   "source": [
    "for name, param in net.named_parameters():\n",
    "    print(name, param.size())"
   ]
  },
  {
   "cell_type": "code",
   "execution_count": 75,
   "metadata": {},
   "outputs": [
    {
     "name": "stdout",
     "output_type": "stream",
     "text": [
      " Net(\n",
      "  (submodel1): Linear(in_features=3, out_features=4, bias=True)\n",
      ")\n",
      "submodel1 Linear(in_features=3, out_features=4, bias=True)\n"
     ]
    }
   ],
   "source": [
    "for name, submodel in net.named_modules():\n",
    "    print(name, submodel) # 当前module和他的子module"
   ]
  },
  {
   "cell_type": "code",
   "execution_count": 76,
   "metadata": {},
   "outputs": [
    {
     "data": {
      "text/plain": [
       "OrderedDict([('running_mean', tensor([0.0397, 0.0299])),\n",
       "             ('running_var', tensor([0.9065, 0.9008])),\n",
       "             ('num_batches_tracked', tensor(1))])"
      ]
     },
     "execution_count": 76,
     "metadata": {},
     "output_type": "execute_result"
    }
   ],
   "source": [
    "bn = nn.BatchNorm1d(2)\n",
    "input = t.rand(3, 2)\n",
    "output = bn(input)\n",
    "bn._buffers"
   ]
  },
  {
   "cell_type": "markdown",
   "metadata": {},
   "source": [
    "从上面的示例中可以看出，`nn.Module`在实际使用中可能层层嵌套：一个module包含若干个子module，每一个子module又包含了更多的子module。为方便用户访问各个子module，`nn.Module`实现了很多方法，如函数`children`可以查看直接子module，函数`modules`可以查看所有的子module（包括当前module）。与之相对应的还有函数`named_childen`和`named_modules`，其能够在返回module列表的同时返回它们的名字。"
   ]
  },
  {
   "cell_type": "code",
   "execution_count": 77,
   "metadata": {},
   "outputs": [
    {
     "data": {
      "text/plain": [
       "tensor([[ 0.,  2.,  4.,  0.],\n",
       "        [ 8., 10.,  0.,  0.],\n",
       "        [ 0., 18., 20.,  0.]])"
      ]
     },
     "execution_count": 77,
     "metadata": {},
     "output_type": "execute_result"
    }
   ],
   "source": [
    "input = t.arange(0, 12).view(3, 4).float()\n",
    "model = nn.Dropout()\n",
    "# 在训练阶段，会有一半左右的数被随机置为0\n",
    "model(input)"
   ]
  },
  {
   "cell_type": "code",
   "execution_count": 78,
   "metadata": {},
   "outputs": [
    {
     "data": {
      "text/plain": [
       "tensor([[ 0.,  1.,  2.,  3.],\n",
       "        [ 4.,  5.,  6.,  7.],\n",
       "        [ 8.,  9., 10., 11.]])"
      ]
     },
     "execution_count": 78,
     "metadata": {},
     "output_type": "execute_result"
    }
   ],
   "source": [
    "model.training  = False\n",
    "# 在测试阶段，dropout什么都不做\n",
    "model(input)"
   ]
  },
  {
   "cell_type": "markdown",
   "metadata": {},
   "source": [
    "对于BatchNorm、Dropout、InstanceNorm等在训练和测试阶段行为差距较大的层，如果在测试时不将其training值设为False，则可能会有很大影响，这在实际使用中要格外注意。虽然可以通过直接设置`training`属性来将子module设为train和eval模式，但这种方式较为繁琐。因为，如果一个模型具有多个Dropout层，就需要为每个Dropout层指定training属性。笔者推荐的做法是调用`model.train()`函数，它会将当前module及其子module中的所有training属性都设为True，相应地，`model.eval()`函数会把training属性都设为False。"
   ]
  },
  {
   "cell_type": "code",
   "execution_count": 79,
   "metadata": {},
   "outputs": [
    {
     "data": {
      "text/plain": [
       "(True, True)"
      ]
     },
     "execution_count": 79,
     "metadata": {},
     "output_type": "execute_result"
    }
   ],
   "source": [
    "net.training, net.submodel1.training"
   ]
  },
  {
   "cell_type": "code",
   "execution_count": 80,
   "metadata": {},
   "outputs": [
    {
     "data": {
      "text/plain": [
       "(False, False)"
      ]
     },
     "execution_count": 80,
     "metadata": {},
     "output_type": "execute_result"
    }
   ],
   "source": [
    "net.eval() # eval()将所有的training属性设为False\n",
    "net.training, net.submodel1.training"
   ]
  },
  {
   "cell_type": "code",
   "execution_count": 81,
   "metadata": {},
   "outputs": [
    {
     "data": {
      "text/plain": [
       "[('',\n",
       "  Net(\n",
       "    (submodel1): Linear(in_features=3, out_features=4, bias=True)\n",
       "  )),\n",
       " ('submodel1', Linear(in_features=3, out_features=4, bias=True))]"
      ]
     },
     "execution_count": 81,
     "metadata": {},
     "output_type": "execute_result"
    }
   ],
   "source": [
    "list(net.named_modules())"
   ]
  },
  {
   "cell_type": "markdown",
   "metadata": {},
   "source": [
    "`register_forward_hook`和`register_backward_hook`函数可以在module前向传播或反向传播时注册钩子。每次前向传播执行结束后会执行钩子函数（hook）。前向传播的钩子函数具有如下形式：`hook(module, input, output) -> None`，而反向传播则具有如下形式：`hook(module, grad_input, grad_output) -> Tensor or None`。钩子函数不应修改输入和输出，并且在使用后应及时删除，以避免每次都运行钩子增加运行负载。钩子函数主要用在获取某些中间结果的情景，如中间某一层的输出或某一层的梯度。这些结果本应写在forward函数中，但如果在forward函数中专门加上这些处理，可能会使处理逻辑比较复杂，这时候使用钩子技术就更加合适。下面考虑一种场景，有一个预训练好的模型，需要提取模型的某一层（不是最后一层）的输出作为特征进行分类，但又不希望修改其原有的模型定义文件，这时就可以利用钩子函数。下面给出实现的伪代码。\n",
    "```python\n",
    "model = VGG()\n",
    "features = t.Tensor()\n",
    "def hook(module, input, output):\n",
    "    '''把这层的输出拷贝到features中'''\n",
    "    features.copy_(output.data)\n",
    "    \n",
    "handle = model.layer8.register_forward_hook(hook)\n",
    "_ = model(input)\n",
    "# 用完hook后删除\n",
    "handle.remove()\n",
    "```"
   ]
  },
  {
   "cell_type": "markdown",
   "metadata": {},
   "source": [
    "`nn.Module`对象在构造函数中的行为看起来有些怪异，如果想要真正掌握其原理，就需要看两个魔法方法`__getattr__`和`__setattr__`。在Python中有两个常用的buildin方法`getattr`和`setattr`。\n",
    "\n",
    "1. 对于`getattr(obj, 'attr1')`，其等价于`obj.attr`，如果`getattr`函数无法找到所需属性，Python会调用`obj.__getattr__('attr1')`方法，即`getattr`函数无法找到的交给`__getattr__`函数处理；如果这个对象没有实现`__getattr__`方法，或者遇到`__getattr__`方法也无法处理情况，程序就会抛出异常AttributeError。\n",
    "2. 对于`setattr(obj, 'name', value)`，其等价于`obj.name=value`，如果obj对象实现了`__setattr__`方法，`setattr`会直接调用`obj.__setattr__('name', value)`，否则调用buildin方法。\n",
    "\n",
    "总结如下：\n",
    "\n",
    "- result  = obj.name会调用buildin函数`getattr(obj, 'name')`，如果该属性找不到，则会调用`obj.__getattr__('name')`\n",
    "- obj.name = value会调用buildin函数`setattr(obj, 'name', value)`，如果obj对象实现了`__setattr__`方法，`setattr`会直接调用`obj.__setattr__('name', value)`"
   ]
  },
  {
   "cell_type": "markdown",
   "metadata": {},
   "source": [
    "nn.Module实现了自定义的`__setattr__`函数，当执行`module.name=value`时，会在`__setattr__`中判断value是否为`Parameter`或`nn.Module`对象，如果是则将这些对象加到`_parameters`和`_modules`两个字典中；而如果是其它类型的对象，如`list`、`dict`等，则调用默认的操作，将这个值保存在`__dict__`中。"
   ]
  },
  {
   "cell_type": "code",
   "execution_count": 82,
   "metadata": {},
   "outputs": [
    {
     "data": {
      "text/plain": [
       "OrderedDict([('param',\n",
       "              Parameter containing:\n",
       "              tensor([[1., 1.],\n",
       "                      [1., 1.]], requires_grad=True))])"
      ]
     },
     "execution_count": 82,
     "metadata": {},
     "output_type": "execute_result"
    }
   ],
   "source": [
    "module = nn.Module()\n",
    "module.param = nn.Parameter(t.ones(2, 2))\n",
    "module._parameters"
   ]
  },
  {
   "cell_type": "code",
   "execution_count": 83,
   "metadata": {},
   "outputs": [
    {
     "name": "stdout",
     "output_type": "stream",
     "text": [
      "_modules:  OrderedDict()\n",
      "__dict__['submodules']: [Linear(in_features=2, out_features=2, bias=True), Linear(in_features=2, out_features=2, bias=True)]\n"
     ]
    }
   ],
   "source": [
    "submodule1 = nn.Linear(2, 2)\n",
    "submodule2 = nn.Linear(2, 2)\n",
    "module_list = [submodule1, submodule2]\n",
    "# 对于list对象，调用buildin函数，保存在__dict__中\n",
    "module.submodules = module_list\n",
    "print('_modules: ', module._modules)\n",
    "print(\"__dict__['submodules']:\",module.__dict__.get('submodules'))"
   ]
  },
  {
   "cell_type": "code",
   "execution_count": 84,
   "metadata": {
    "scrolled": true
   },
   "outputs": [
    {
     "name": "stdout",
     "output_type": "stream",
     "text": [
      "ModuleList is instance of nn.Module:  True\n",
      "_modules:  OrderedDict([('submodules', ModuleList(\n",
      "  (0-1): 2 x Linear(in_features=2, out_features=2, bias=True)\n",
      "))])\n",
      "__dict__['submodules']: None\n"
     ]
    }
   ],
   "source": [
    "module_list = nn.ModuleList(module_list)\n",
    "module.submodules = module_list\n",
    "print('ModuleList is instance of nn.Module: ', isinstance(module_list, nn.Module))\n",
    "print('_modules: ', module._modules)\n",
    "print(\"__dict__['submodules']:\", module.__dict__.get('submodules'))"
   ]
  },
  {
   "cell_type": "markdown",
   "metadata": {},
   "source": [
    "因`_modules`和`_parameters`中的item未保存在`__dict__`中，所以默认的`getattr`方法无法获取它，因而`nn.Module`实现了自定义的`__getattr__`方法。如果默认的`getattr`无法处理，就调用自定义的`__getattr__`方法，尝试从`_modules`、`_parameters`和`_buffers`这三个字典中获取。"
   ]
  },
  {
   "cell_type": "code",
   "execution_count": 85,
   "metadata": {},
   "outputs": [
    {
     "data": {
      "text/plain": [
       "True"
      ]
     },
     "execution_count": 85,
     "metadata": {},
     "output_type": "execute_result"
    }
   ],
   "source": [
    "getattr(module, 'training') # 等价于module.training\n",
    "# error\n",
    "# module.__getattr__('training')"
   ]
  },
  {
   "cell_type": "code",
   "execution_count": 86,
   "metadata": {},
   "outputs": [
    {
     "data": {
      "text/plain": [
       "2"
      ]
     },
     "execution_count": 86,
     "metadata": {},
     "output_type": "execute_result"
    }
   ],
   "source": [
    "module.attr1 = 2\n",
    "getattr(module, 'attr1')\n",
    "# 报错\n",
    "# module.__getattr__('attr1')"
   ]
  },
  {
   "cell_type": "code",
   "execution_count": 87,
   "metadata": {},
   "outputs": [
    {
     "data": {
      "text/plain": [
       "Parameter containing:\n",
       "tensor([[1., 1.],\n",
       "        [1., 1.]], requires_grad=True)"
      ]
     },
     "execution_count": 87,
     "metadata": {},
     "output_type": "execute_result"
    }
   ],
   "source": [
    "# 即module.param, 会调用module.__getattr__('param')\n",
    "getattr(module, 'param')"
   ]
  },
  {
   "cell_type": "markdown",
   "metadata": {},
   "source": [
    "在PyTorch中保存模型十分简单，所有的Module对象都具有state_dict()函数，返回当前Module所有的状态数据。将这些状态数据保存后，下次使用模型时即可利用`model.load_state_dict()`函数将状态加载进来。优化器（optimizer）也有类似的机制，不过一般并不需要保存优化器的运行状态。"
   ]
  },
  {
   "cell_type": "code",
   "execution_count": 88,
   "metadata": {},
   "outputs": [
    {
     "data": {
      "text/plain": [
       "<All keys matched successfully>"
      ]
     },
     "execution_count": 88,
     "metadata": {},
     "output_type": "execute_result"
    }
   ],
   "source": [
    "# 保存模型\n",
    "t.save(net.state_dict(), 'net.pth')\n",
    "\n",
    "# 加载已保存的模型\n",
    "net2 = Net()\n",
    "net2.load_state_dict(t.load('net.pth'))"
   ]
  },
  {
   "cell_type": "markdown",
   "metadata": {},
   "source": [
    "实际上还有另外一种保存方法，但因其严重依赖模型定义方式及文件路径结构等，很容易出问题，因而不建议使用。"
   ]
  },
  {
   "cell_type": "code",
   "execution_count": null,
   "metadata": {
    "scrolled": false
   },
   "outputs": [],
   "source": [
    "t.save(net, 'net_all.pth')\n",
    "net2 = t.load('net_all.pth')\n",
    "net2"
   ]
  },
  {
   "cell_type": "markdown",
   "metadata": {},
   "source": [
    "将Module放在GPU上运行也十分简单，只需以下两步：\n",
    "- model = model.cuda()：将模型的所有参数转存到GPU；\n",
    "- input.cuda()：将输入数据放置到GPU上。\n",
    "\n",
    "至于如何在多个GPU上并行计算，PyTorch也提供了两个函数，可实现简单高效的并行GPU计算。\n",
    "\n",
    "- nn.parallel.data_parallel(module, inputs, device_ids=None, output_device=None, dim=0, module_kwargs=None)\n",
    "- class torch.nn.DataParallel(module, device_ids=None, output_device=None, dim=0)\n",
    "\n",
    "可见二者的参数十分相似，通过`device_ids`参数可以指定在哪些GPU上进行优化，而通过`output_device`参数可以指定输出到哪个GPU上。二者唯一的不同就在于前者直接利用多GPU并行计算得出结果，而后者则返回一个新的module，能够自动在多GPU上进行并行加速。\n",
    "\n",
    "```\n",
    "# method 1\n",
    "new_net = nn.DataParallel(net, device_ids=[0, 1])\n",
    "output = new_net(input)\n",
    "# 返回一个新的module\n",
    "\n",
    "# method 2\n",
    "output = nn.parallel.data_parallel(new_net, input, device_ids=[0, 1])\n",
    "# 直接得出结果\n",
    "```"
   ]
  },
  {
   "cell_type": "markdown",
   "metadata": {},
   "source": [
    "DataParallel并行的方式，是将输入一个batch的数据均分成多份，分别送到对应的GPU进行计算，各个GPU得到的梯度累加。与Module相关的所有数据也都会以浅复制的方式复制多份。"
   ]
  },
  {
   "cell_type": "markdown",
   "metadata": {},
   "source": [
    "## 4.7 小试牛刀：搭建ResNet\n",
    "Kaiming He提出的深度残差网络（ResNet）在深度学习的发展中起到了很重要的作用，ResNet不仅一举拿下了当年多个计算机视觉比赛项目的冠军，更重要的是这一结构解决了训练极深网络时的梯度消失问题。\n",
    "\n",
    "这里选取的是ResNet的一个变种ResNet34来讲解ResNet的网络结构。ResNet的网络结构如图4-2所示，除了最开始的卷积池化和最后的池化全连接之外，网络中有很多结构相似的单元，这些重复单元的共同点就是有个跨层直连的shortcut。ResNet中将一个跨层直连的单元称为Residual Block，其结构如图4-3所示，左边部分是普通的卷积网络结构，右边是直连，但如果输入和输出的通道数不一致，或其步长不为1，那么就需要有一个专门的单元将二者转成一致，使其可以相加。\n",
    "\n",
    "另外我们可以发现Residual Block的大小也是有规律的，在最开始的pool之后有连续的几个一模一样的Residual Block单元，这些单元的通道数一样，在这里我们将这几个拥有多个Residual Block单元的结构称之为layer。读者需要将这里的layer和之前讲的layer区分开来，这里的layer是几个层的集合。\n",
    "\n",
    "考虑到Residual Block和layer出现了多次，我们可以把它们实现为一个子Module或函数。这里我们将Residual Block实现为一个子module，而将layer实现为一个函数。下面是实现代码，规律总结如下：\n",
    "\n",
    "- 对于模型中的重复部分，实现为子module或用函数生成相应的module；\n",
    "- nn.Module和nn.Functional结合使用；\n",
    "- 尽量使用`nn.Seqential`。\n",
    "\n",
    "![图4-2: ResNet34网络结构](imgs/resnet1.png)\n",
    "\n",
    "![图4-3: Residual block 结构图](imgs/residual.png)\n"
   ]
  },
  {
   "cell_type": "code",
   "execution_count": 89,
   "metadata": {},
   "outputs": [],
   "source": [
    "from torch import  nn\n",
    "import torch as t\n",
    "from torch.nn import  functional as F"
   ]
  },
  {
   "cell_type": "code",
   "execution_count": 90,
   "metadata": {},
   "outputs": [],
   "source": [
    "class ResidualBlock(nn.Module):\n",
    "    '''\n",
    "    实现子module: Residual Block\n",
    "    '''\n",
    "    def __init__(self, inchannel, outchannel, stride=1, shortcut=None):\n",
    "        super(ResidualBlock, self).__init__()\n",
    "        self.left = nn.Sequential(\n",
    "                nn.Conv2d(inchannel,outchannel,3,stride,1,bias=False),\n",
    "                nn.BatchNorm2d(outchannel),\n",
    "                nn.ReLU(inplace=True),\n",
    "                nn.Conv2d(outchannel,outchannel,3,1,1,bias=False),\n",
    "                nn.BatchNorm2d(outchannel) )\n",
    "        self.right = shortcut # 默认为None\n",
    "        \n",
    "        '''\n",
    "           如果 shortcut = None，则 self.right 也是 None，表示不需要进行额外的变换。\n",
    "           如果 shortcut 传入的是 nn.Conv2d 或 nn.Sequential，那么 self.right 就是一个变换操作\n",
    "        '''\n",
    "\n",
    "    def forward(self, x):\n",
    "        out = self.left(x) # 经过nn.Sequential一系列的层\n",
    "        residual = x if self.right is None else self.right(x)\n",
    "        # 判断是直接相加还是给x进行操作再相加\n",
    "        out += residual\n",
    "        return F.relu(out)\n",
    "\n",
    "class ResNet(nn.Module):\n",
    "    '''\n",
    "    实现主module：ResNet34\n",
    "    ResNet34 包含多个layer，每个layer又包含多个residual block\n",
    "    用子module来实现residual block，用_make_layer函数来实现layer\n",
    "    '''\n",
    "    def __init__(self, num_classes=1000):\n",
    "        super(ResNet, self).__init__()\n",
    "        # 前几层图像转换\n",
    "        self.pre = nn.Sequential(\n",
    "                nn.Conv2d(3, 64, 7, 2, 3, bias=False),\n",
    "                nn.BatchNorm2d(64),\n",
    "                nn.ReLU(inplace=True),\n",
    "                nn.MaxPool2d(3, 2, 1)\n",
    "        )\n",
    "        \n",
    "        # 重复的layer，分别有3，4，6，3个Residual Block\n",
    "        self.layer1 = self._make_layer(64, 64, 3, 1, is_shortcut=False)\n",
    "        self.layer2 = self._make_layer(64,  128, 4, 2)\n",
    "        self.layer3 = self._make_layer(128, 256, 6, 2)\n",
    "        self.layer4 = self._make_layer(256, 512, 3, 2)\n",
    "\n",
    "        # 分类用的全连接\n",
    "        self.classifier = nn.Linear(512, num_classes)\n",
    "    \n",
    "    def _make_layer(self, inchannel, outchannel, block_num, stride, is_shortcut=True):\n",
    "        '''\n",
    "        构建layer,包含多个residual block\n",
    "        '''\n",
    "        if is_shortcut:\n",
    "            shortcut = nn.Sequential(\n",
    "                    nn.Conv2d(inchannel,outchannel,1,stride, bias=False),\n",
    "                    nn.BatchNorm2d(outchannel)) # 统一通道数\n",
    "        else:\n",
    "            shortcut = None\n",
    "        \n",
    "        layers = []\n",
    "        layers.append(ResidualBlock(inchannel, outchannel, stride, shortcut))\n",
    "        \n",
    "        for i in range(1, block_num):\n",
    "            layers.append(ResidualBlock(outchannel, outchannel))\n",
    "        return nn.Sequential(*layers)\n",
    "        \n",
    "    def forward(self, x):\n",
    "        x = self.pre(x)\n",
    "        \n",
    "        x = self.layer1(x)\n",
    "        x = self.layer2(x)\n",
    "        x = self.layer3(x)\n",
    "        x = self.layer4(x)\n",
    "\n",
    "        x = F.avg_pool2d(x, 7)\n",
    "        x = x.view(x.size(0), -1)\n",
    "        return self.classifier(x)"
   ]
  },
  {
   "cell_type": "code",
   "execution_count": 92,
   "metadata": {},
   "outputs": [
    {
     "name": "stdout",
     "output_type": "stream",
     "text": [
      "torch.Size([1, 1000])\n",
      "tensor([[-1.1321e-01,  6.1934e-01, -5.1087e-01,  1.1354e+00, -8.7866e-02,\n",
      "         -3.2926e-01,  8.1689e-01,  3.4973e-01,  1.7773e-01, -8.0441e-01,\n",
      "          2.3815e-01,  1.1042e-01,  4.3104e-01, -8.9313e-02,  4.4266e-02,\n",
      "          7.1221e-01,  1.6986e-01,  1.3289e+00,  9.2956e-01,  1.0911e-01,\n",
      "          1.4141e+00,  6.7303e-01,  3.8768e-01, -5.4042e-01, -6.8231e-01,\n",
      "         -4.0871e-01,  1.0968e+00, -8.5063e-01, -5.0622e-02, -7.4607e-01,\n",
      "          1.5207e-01, -3.8537e-01,  5.7418e-01, -1.7078e-02,  6.9426e-02,\n",
      "          4.4336e-01, -9.8608e-01, -1.4982e+00,  8.0469e-01, -3.7275e-01,\n",
      "          5.9567e-01,  1.3988e-01, -5.2945e-01,  2.6598e-01, -4.4205e-01,\n",
      "         -1.4196e+00, -8.6861e-01,  2.5063e-01, -6.7766e-02, -3.6152e-01,\n",
      "         -1.6841e-01,  2.1073e-01,  9.2109e-01,  2.1925e-02,  1.1691e-01,\n",
      "         -1.6428e+00, -4.4190e-01,  6.9158e-01, -5.5394e-01,  3.1089e-01,\n",
      "          8.6671e-01, -5.7648e-01,  4.0827e-03,  5.7061e-01, -5.3248e-01,\n",
      "          8.8941e-01, -1.7855e-01,  4.9163e-01, -5.8019e-01, -5.2320e-01,\n",
      "          1.2871e-01, -5.8516e-01, -1.4038e-01,  1.0543e+00,  1.4520e+00,\n",
      "          4.8160e-02, -2.7355e-01, -4.3552e-01,  4.4015e-01, -1.0672e-01,\n",
      "         -6.3499e-01, -3.8286e-01,  2.5947e-01, -2.0967e-01,  2.3024e-01,\n",
      "         -1.1608e-01,  7.7046e-03, -6.1186e-01,  6.5255e-01, -7.8980e-01,\n",
      "         -4.2967e-01, -4.9981e-01,  3.6996e-01,  7.9571e-02,  5.1678e-01,\n",
      "         -9.8871e-02,  1.1505e+00,  1.3334e-02,  2.0113e-01,  3.7005e-01,\n",
      "          1.2275e+00,  3.6576e-01,  3.6253e-01, -4.1562e-02, -6.9111e-01,\n",
      "         -8.3197e-01,  3.5780e-01,  1.4028e-01,  1.0321e-01, -7.1557e-01,\n",
      "          7.2513e-01, -6.8011e-01, -8.2791e-01, -1.0995e+00, -5.8805e-01,\n",
      "         -2.5078e-01,  4.5162e-01,  3.6759e-01,  2.3185e-01,  3.2255e-01,\n",
      "          2.0285e-01, -1.0552e+00,  4.7896e-01,  1.1288e+00, -7.1520e-01,\n",
      "         -8.3811e-01, -4.8201e-01,  3.8140e-01,  1.1556e-01, -6.5118e-01,\n",
      "         -8.3888e-01,  6.8775e-01,  4.9976e-01,  3.5933e-02,  1.5730e-01,\n",
      "         -2.9495e-01, -1.0997e+00,  7.3374e-01,  1.9638e-01, -2.3556e-01,\n",
      "          8.4835e-01,  1.4634e+00, -1.8162e-02, -1.0923e-01,  4.3698e-01,\n",
      "          5.0295e-02,  6.6693e-02,  6.8934e-01, -7.0307e-01,  9.3707e-01,\n",
      "         -1.3015e-01,  3.9484e-01, -1.1225e+00,  1.9710e-01,  8.5996e-01,\n",
      "          2.2224e-01,  2.8569e-01, -1.4871e+00,  1.1495e+00,  1.0555e+00,\n",
      "          1.6941e-01, -3.8649e-01,  1.6956e-01,  3.2097e-01, -3.0948e-01,\n",
      "          4.5342e-02, -6.1662e-01, -1.1574e+00,  4.6525e-01,  5.6131e-01,\n",
      "         -7.6862e-01, -1.0666e+00,  2.3935e-01, -4.4435e-01,  5.2817e-01,\n",
      "         -9.2187e-01,  7.8145e-01,  2.0495e-01,  1.7327e-01,  9.1175e-02,\n",
      "          3.3584e-01, -3.8349e-01,  9.8050e-01,  3.6680e-01, -8.8236e-01,\n",
      "         -7.9138e-01,  2.3962e-01,  6.0783e-01,  4.1077e-01,  2.2179e-01,\n",
      "          2.3478e-01, -3.3148e-01, -3.2040e-01, -1.7260e-01,  4.3911e-01,\n",
      "          8.4052e-01,  1.9072e-01,  3.8872e-01,  2.3355e-01, -2.4114e-01,\n",
      "          3.6826e-01, -3.6197e-01, -2.0072e-01,  4.6426e-01,  3.3111e-01,\n",
      "         -2.2647e-01,  4.0978e-03, -5.5195e-01,  1.1332e+00, -9.6151e-02,\n",
      "          2.0763e-01, -3.5902e-01,  6.6525e-02, -7.8471e-01,  2.9968e-01,\n",
      "         -7.1663e-01, -6.5822e-01, -1.0680e+00,  2.4814e-01, -1.1754e-01,\n",
      "         -7.9287e-01,  5.0132e-02, -2.1354e-02, -2.0634e-01,  7.2084e-01,\n",
      "         -5.2000e-01, -2.1339e-01, -1.0808e-01, -8.4029e-01, -3.4593e-01,\n",
      "          4.2130e-01, -6.3277e-01, -6.1350e-01,  5.7325e-01, -1.8241e-01,\n",
      "          5.1330e-01, -9.0108e-01,  4.2467e-01,  2.3488e-01, -2.1079e+00,\n",
      "         -1.2741e+00,  8.4436e-01,  1.5060e-02, -1.2451e-02, -5.7144e-01,\n",
      "          8.3151e-01, -2.0203e-01,  4.4604e-01, -7.1267e-01,  2.9449e-01,\n",
      "         -8.0487e-01,  3.4728e-01, -2.3777e-01,  2.2812e-01,  6.0951e-01,\n",
      "          5.0471e-01, -1.9051e-01, -2.6969e-01, -5.8109e-01,  2.9772e-01,\n",
      "          1.5069e-01, -9.0399e-01,  3.8931e-01, -2.6425e-01, -3.9485e-01,\n",
      "          9.8205e-03,  8.7240e-02,  3.6456e-01,  2.1342e-01, -1.1741e-01,\n",
      "         -3.5591e-02,  3.3215e-01,  1.1623e+00,  1.3062e+00, -3.8259e-01,\n",
      "         -7.0300e-01,  2.5724e-01,  3.7621e-01, -1.0743e+00,  1.1110e-01,\n",
      "          5.4203e-01, -6.0895e-01,  9.3729e-01,  1.3799e-01, -5.1080e-01,\n",
      "         -8.5769e-01, -2.3043e-01,  2.9709e-01,  4.7471e-01,  6.4146e-03,\n",
      "          7.0078e-01,  2.8615e-01,  4.3897e-01,  4.4474e-01, -7.0180e-01,\n",
      "         -1.2051e+00, -6.9901e-01,  8.9319e-01,  1.1119e-01, -1.4842e-01,\n",
      "          2.7792e-01,  1.9330e-01, -1.2430e-01,  3.8508e-01, -7.8514e-01,\n",
      "         -4.2448e-01,  6.2186e-01, -6.8394e-01, -2.6290e-01,  4.0770e-01,\n",
      "          7.0210e-01,  8.0485e-02,  8.4593e-02, -3.5176e-01, -3.3605e-01,\n",
      "         -3.5188e-01,  2.1637e-01,  7.8617e-01,  6.0385e-01,  1.1746e-01,\n",
      "          9.2998e-01,  4.4167e-01,  3.7292e-01,  3.6641e-01, -5.2316e-01,\n",
      "         -5.6936e-01, -5.3531e-01, -1.3419e+00,  2.8623e-01,  2.5632e-01,\n",
      "          9.5464e-01,  7.4096e-01,  8.7362e-02,  4.3018e-01, -4.9595e-01,\n",
      "         -2.6580e-01, -9.3292e-01, -2.0086e-01,  1.2280e+00, -2.8029e-01,\n",
      "          6.9468e-01, -1.7422e-01,  5.1338e-01,  1.9881e-01,  3.3264e-01,\n",
      "          5.0217e-01,  3.9365e-01, -1.2178e+00,  2.9539e-01,  9.5126e-01,\n",
      "         -3.7481e-03, -4.3659e-01, -4.7777e-01, -5.7815e-01,  1.0476e+00,\n",
      "          6.5782e-01, -1.9650e-01, -4.0345e-01,  6.6073e-01,  1.8128e-01,\n",
      "          5.2131e-01, -3.6671e-01,  2.5838e-01, -2.8423e-01,  5.0753e-02,\n",
      "         -1.3692e-01,  1.3356e-01,  7.9942e-01,  3.6106e-01, -2.2617e-01,\n",
      "         -5.4839e-01,  4.6155e-01, -3.4205e-01,  3.4194e-01, -9.4246e-01,\n",
      "          4.7645e-01, -6.0235e-01, -1.1084e-01, -6.0818e-01, -1.9149e-01,\n",
      "         -4.6195e-01, -8.4218e-02, -6.3401e-02, -5.0693e-01,  3.9259e-01,\n",
      "          4.7988e-01, -4.7966e-02,  4.0469e-02, -3.0215e-01, -3.1130e-01,\n",
      "          1.3007e+00, -4.4748e-01, -4.8474e-01, -4.5192e-01,  7.7211e-01,\n",
      "         -2.8430e-01, -3.2363e-01,  5.0241e-01, -8.3190e-01, -8.9262e-01,\n",
      "         -5.5409e-01,  4.0247e-01, -2.7398e-01,  4.3891e-01,  9.6129e-01,\n",
      "         -7.1570e-01, -6.6457e-01, -5.1781e-01, -7.8374e-01, -4.1105e-01,\n",
      "          3.9883e-02,  8.8265e-01, -1.4827e-01, -3.7836e-01, -4.0200e-01,\n",
      "          1.9891e-01,  8.1908e-01, -1.9305e-01, -6.3025e-01, -3.2158e-01,\n",
      "         -3.8839e-02, -1.4942e-02,  5.9288e-01,  9.7326e-02, -3.8690e-01,\n",
      "         -7.1825e-01,  4.1203e-01,  1.1296e-01, -1.8529e+00,  1.0611e+00,\n",
      "         -4.7421e-01, -2.0837e-01, -7.9550e-01, -1.4181e-01,  4.1465e-01,\n",
      "         -4.7587e-02, -4.9119e-01, -2.4257e-02,  1.3721e+00, -5.5711e-01,\n",
      "         -7.5433e-01,  6.7692e-01,  5.8773e-01,  8.5659e-02,  6.6329e-01,\n",
      "          7.9848e-01, -2.7860e-01,  1.6483e-01,  5.0477e-01,  2.2972e-01,\n",
      "         -1.6143e-01, -8.6213e-02,  6.4515e-01, -4.6608e-01,  6.8825e-01,\n",
      "         -9.7654e-01,  2.5322e-01, -1.2058e+00, -7.6469e-01,  3.0728e-01,\n",
      "         -9.3827e-01, -1.8087e-01,  7.6616e-01, -2.3558e-01, -9.7339e-01,\n",
      "          8.2591e-01, -3.5796e-01,  2.2217e-01,  6.2871e-02, -7.6950e-01,\n",
      "         -4.0690e-01, -1.1763e+00, -8.5258e-02, -1.6204e-01,  5.3974e-01,\n",
      "          7.0136e-01, -7.3594e-01, -1.8470e-01,  4.7208e-01,  2.0171e-01,\n",
      "          2.3575e-01,  4.9060e-01,  2.0367e-01,  5.9151e-01, -9.5447e-02,\n",
      "          1.6831e-01,  1.6525e-01,  2.1114e-01,  1.9582e-01, -1.0630e-01,\n",
      "          5.9308e-01, -7.5700e-01, -1.9158e-03,  1.9032e-01,  5.6396e-01,\n",
      "          3.9393e-01,  6.3581e-01, -4.5958e-01, -1.4940e-01,  1.1519e+00,\n",
      "          1.2878e-01,  6.3758e-01, -6.3626e-01,  4.7442e-01, -9.8524e-01,\n",
      "         -1.1988e-01,  6.9085e-01, -5.2977e-01,  4.1156e-01,  1.0532e-01,\n",
      "          2.6767e-01, -1.8683e+00,  4.1385e-01, -1.3591e-01, -3.2449e-01,\n",
      "         -5.4737e-01,  6.0635e-01, -1.4482e+00, -3.1470e-01, -6.6794e-01,\n",
      "          5.7924e-01, -2.2327e-01,  1.4138e+00,  8.7103e-02,  2.4619e-01,\n",
      "         -9.8452e-01, -8.0173e-01,  3.3173e-01, -7.6109e-02, -2.4966e-02,\n",
      "         -3.1752e-01,  1.0566e+00,  5.2944e-02, -7.6479e-01,  8.5479e-02,\n",
      "         -5.2716e-01,  1.6020e-01,  4.7289e-01,  2.4470e-01,  2.0783e-01,\n",
      "          4.2788e-01,  5.1999e-01, -7.2184e-01,  6.0796e-01, -2.8390e-01,\n",
      "         -1.1757e+00,  3.9084e-01, -4.2911e-01,  2.2845e-01,  3.7035e-01,\n",
      "         -2.0149e-01, -6.9579e-01, -1.3098e-01,  3.8037e-01,  1.7031e-01,\n",
      "          4.6409e-01, -7.5412e-01, -7.8255e-01, -1.3916e+00, -1.1131e-01,\n",
      "         -5.2985e-01, -1.0638e+00,  3.7044e-01, -9.1805e-01, -1.2744e-01,\n",
      "         -5.9370e-02, -9.8357e-02, -2.1084e-01,  3.1391e-01,  7.2369e-01,\n",
      "          4.6331e-02, -5.9172e-01,  5.4291e-01, -8.9245e-02, -6.9974e-01,\n",
      "         -1.1194e+00, -7.1489e-01, -3.3290e-01,  7.4700e-01, -2.0529e-01,\n",
      "          4.7727e-02,  2.7403e-02,  6.6345e-01,  7.9285e-01,  4.8066e-01,\n",
      "          6.6423e-01, -2.0776e-01, -7.5055e-01, -5.8379e-01, -7.5509e-01,\n",
      "          5.7460e-01,  8.8014e-01, -7.4639e-01, -3.5991e-01,  2.8314e-01,\n",
      "          6.3966e-01,  6.8241e-01,  2.3470e-01, -1.3765e+00, -2.9734e-01,\n",
      "          4.7533e-01, -5.7536e-02,  2.8948e-01, -8.7003e-01,  4.3600e-01,\n",
      "         -9.8308e-02,  1.1255e+00,  2.3931e-01,  7.3799e-01, -8.7931e-02,\n",
      "          4.1605e-01, -7.0661e-01, -8.2738e-01, -8.3309e-01,  3.7859e-01,\n",
      "          4.2259e-01,  8.5119e-01, -1.9044e-01,  2.5674e-01, -3.2920e-01,\n",
      "         -5.4140e-01,  7.6439e-02, -9.3926e-02, -1.1569e+00,  1.4960e-01,\n",
      "          3.0409e-01, -8.5901e-01,  4.3050e-01, -1.1100e+00,  4.4349e-01,\n",
      "          3.8654e-01, -3.2002e-01, -7.6149e-01, -1.2034e+00, -2.5073e-01,\n",
      "          1.1942e+00,  3.8498e-01,  8.2630e-01,  1.6807e-04, -4.5420e-01,\n",
      "          4.7875e-01, -6.4193e-01, -3.0600e-01, -1.2873e-01, -5.5305e-01,\n",
      "         -1.0340e-01, -3.2725e-02, -1.9815e-01, -2.4577e-01,  2.7664e-01,\n",
      "          1.1486e+00,  7.1255e-01,  1.3133e-01,  4.0486e-01,  2.2598e-02,\n",
      "          5.0917e-01, -7.7699e-02,  8.8913e-01, -1.5618e-01,  3.3129e-01,\n",
      "         -9.0498e-02, -1.0491e-01,  1.2516e+00, -3.8393e-01,  3.5447e-01,\n",
      "          7.1482e-01, -4.1237e-01,  6.1994e-03,  2.0585e+00,  7.4901e-01,\n",
      "         -1.7318e-01, -2.0532e-01,  1.5677e-01,  8.0839e-01,  1.6526e-01,\n",
      "         -8.3552e-01,  3.6619e-01,  2.4739e-01, -3.4170e-01,  5.1466e-01,\n",
      "          5.3269e-02, -7.7080e-01, -4.4707e-01, -5.1450e-01, -2.2185e-01,\n",
      "         -2.8647e-01, -7.9633e-01,  7.5353e-01, -2.7101e-01, -1.6244e-01,\n",
      "         -6.4882e-01, -5.2023e-02, -3.7050e-01, -2.7962e-01, -1.1691e-01,\n",
      "         -9.4208e-01, -7.9721e-01,  9.8645e-01, -4.5431e-01, -2.7594e-01,\n",
      "         -2.6619e-01, -4.0790e-01, -1.5506e+00,  2.1165e-01,  2.9037e-01,\n",
      "         -1.3505e-01, -6.4358e-01, -2.3910e-01, -4.5098e-01,  5.8601e-01,\n",
      "          3.6535e-01,  9.1197e-01, -6.8081e-01, -3.0033e-01, -6.1099e-02,\n",
      "         -2.4154e-01,  7.6487e-01, -5.7702e-01, -3.8974e-01,  4.5544e-01,\n",
      "          5.7439e-02, -7.3782e-01, -9.6889e-01, -6.0872e-01, -1.0833e+00,\n",
      "          2.7626e-01, -9.5992e-01,  8.1320e-01,  6.4576e-01, -4.2383e-01,\n",
      "          1.5940e-01, -2.2783e-01, -5.0542e-01, -2.3605e-01,  3.5329e-01,\n",
      "         -3.1386e-01,  8.4317e-02, -1.5792e-02, -4.6220e-01,  8.8134e-02,\n",
      "          5.9048e-02, -5.3842e-01, -4.5686e-01,  4.6970e-01, -2.0937e-01,\n",
      "         -1.9660e-02, -3.0650e-01,  3.2181e-01,  2.4851e-01, -2.3612e-01,\n",
      "          1.1592e+00,  5.2551e-01,  5.6804e-01,  1.4373e-02, -2.1843e-01,\n",
      "         -7.8626e-01,  7.0587e-02, -1.2476e-01,  2.6675e-01,  9.5398e-01,\n",
      "         -1.3649e-01, -2.6985e-01,  1.7486e-01, -8.8718e-01,  2.7089e-01,\n",
      "          1.2305e+00,  2.4488e-02, -3.0755e-02,  5.2795e-01, -1.9605e-01,\n",
      "         -1.3616e+00,  6.6722e-02, -9.1093e-02, -5.7034e-01, -1.3563e-01,\n",
      "         -2.1453e-01,  3.6933e-02, -3.8796e-01,  6.9878e-01,  2.2987e-01,\n",
      "          4.0036e-01,  4.5758e-01, -3.6951e-01, -2.5352e-01, -1.0994e+00,\n",
      "         -4.4803e-01, -2.3597e-01,  5.2040e-01, -5.3523e-02, -5.4375e-01,\n",
      "         -2.5851e-01, -2.9077e-01,  3.8862e-01,  1.2305e-01, -3.8922e-01,\n",
      "          1.4212e+00,  3.1907e-01,  5.1471e-01, -7.7526e-01, -6.2933e-01,\n",
      "          6.2215e-01, -8.3650e-01,  1.5897e+00, -3.5952e-01, -1.2908e+00,\n",
      "         -5.5937e-01, -9.6679e-01, -7.4120e-01,  1.6935e+00, -4.9146e-01,\n",
      "          9.5538e-01, -4.3317e-02,  5.4045e-01, -1.2418e+00,  3.5839e-01,\n",
      "         -3.2361e-01, -1.2942e-01, -5.8216e-01, -5.7312e-01,  6.1056e-01,\n",
      "          9.4204e-01, -1.4808e+00, -3.2833e-01,  1.0690e+00,  5.3466e-02,\n",
      "         -2.7822e-01, -5.6651e-01, -3.4474e-01, -3.0792e-02, -7.2634e-01,\n",
      "          7.5041e-01,  1.2177e-02, -2.5933e-01, -1.3448e+00,  7.7248e-01,\n",
      "          1.2869e-02, -1.1343e+00, -1.4582e+00,  1.1604e-01, -1.5395e-02,\n",
      "         -1.1754e+00,  4.0345e-01, -7.8002e-01, -5.0116e-01, -2.7848e-01,\n",
      "          7.4261e-01, -3.4269e-01, -3.0130e-01, -6.7865e-01,  2.2363e-01,\n",
      "         -5.7192e-01, -5.1733e-01, -3.1974e-01,  1.9766e-02, -1.8091e-02,\n",
      "         -7.6795e-02, -7.3827e-01, -5.5671e-01,  2.6307e-01,  4.4352e-01,\n",
      "          8.3702e-01, -1.1918e+00, -1.5163e-03, -1.1103e-01, -7.1578e-01,\n",
      "         -1.1138e+00,  3.5114e-01,  1.5436e-02,  5.5111e-01,  7.2611e-02,\n",
      "         -1.0526e-01,  6.4993e-01, -4.7376e-01, -3.4000e-01, -9.0992e-02,\n",
      "         -5.1452e-01,  8.2933e-01,  1.3747e-01, -1.0595e+00, -1.8438e-01,\n",
      "          8.8927e-01,  1.3434e-01,  3.4663e-01, -4.9424e-01, -8.8032e-02,\n",
      "         -1.1346e-01, -1.2458e+00,  8.2458e-01,  5.9027e-01,  6.1951e-01,\n",
      "         -7.3833e-01,  3.2882e-01,  5.7851e-01,  3.0942e-01, -5.4209e-01,\n",
      "          6.3713e-01,  9.9485e-01,  1.2484e-01,  6.7075e-01, -8.0499e-04,\n",
      "          1.4581e-01,  1.1070e-01, -6.6022e-01, -1.2051e-01,  1.3849e+00,\n",
      "          1.5578e+00, -3.5451e-01,  1.2842e-01, -8.7984e-01, -3.3368e-01,\n",
      "         -2.3282e-01,  4.1368e-02,  5.9031e-01,  1.1660e-01,  1.0283e-02,\n",
      "          6.3487e-01, -1.1080e-01,  2.6203e-01, -2.1490e-01, -4.4743e-01,\n",
      "         -2.0513e-01, -4.4832e-02, -7.0334e-02,  2.6957e-01,  6.5408e-01,\n",
      "         -1.8952e-01,  3.6046e-01, -5.8174e-01, -1.5993e-01, -2.0258e-01,\n",
      "          4.1717e-01,  2.2034e-01, -3.1484e-01, -9.8931e-01,  3.2120e-01,\n",
      "         -1.6207e-01, -1.2536e-02, -1.1739e+00,  8.0733e-01,  4.4529e-01,\n",
      "         -1.3324e-01, -2.7320e-02,  1.1724e+00,  1.8155e-01,  5.2943e-01,\n",
      "          5.3725e-01,  1.0125e+00, -3.0233e-02,  3.5002e-01,  7.7431e-01,\n",
      "         -1.6329e-01,  7.6839e-01, -4.1981e-01, -2.4620e-01, -7.0090e-01,\n",
      "         -1.4673e-01, -6.9803e-01,  6.0578e-01,  5.4010e-01, -1.5284e-01,\n",
      "         -5.1819e-01, -6.5758e-01, -4.5145e-01, -6.7039e-01,  1.1388e+00,\n",
      "         -2.3552e-01, -1.8089e-02, -4.4432e-01,  5.2385e-01, -1.0895e-01,\n",
      "         -1.0073e-01,  3.2015e-01, -1.2857e-01, -2.4907e-02, -3.6722e-01,\n",
      "         -5.3783e-01,  6.9482e-01,  1.2808e-01,  1.3484e-01,  1.0451e+00,\n",
      "         -9.4105e-02, -7.2111e-02,  1.2914e-01,  1.9320e-01, -1.5982e+00,\n",
      "          6.6391e-01, -7.1877e-01, -7.3762e-01,  5.5884e-01, -1.1018e+00,\n",
      "          4.9147e-01, -6.1352e-01, -3.3017e-02, -4.7644e-01, -9.2843e-01,\n",
      "          6.7943e-01,  6.3895e-02,  3.1621e-01, -1.1805e-01, -1.1021e+00]],\n",
      "       grad_fn=<AddmmBackward0>)\n"
     ]
    }
   ],
   "source": [
    "model = ResNet()\n",
    "input = t.randn(1, 3, 224, 224)\n",
    "out = model(input)\n",
    "\n",
    "\n",
    "print(out.size())\n",
    "print(out)"
   ]
  },
  {
   "cell_type": "markdown",
   "metadata": {},
   "source": [
    "感兴趣的读者可以尝试实现一下Google的Inception网络结构或ResNet的其它变体，看看如何能够简洁明了地实现这些经典的网络结构。另外，与PyTorch配套的图像工具包`torchvision`已经实现了深度学习中大多数经典的模型，其中就包括ResNet34，读者可以通过下面两行代码使用：\n",
    "```python\n",
    "from torchvision import models\n",
    "model = models.resnet34()\n",
    "```\n",
    "关于`torchvision`的具体内容将在本书第五章进行讲解，通过torchvision我们便可以方便地使用深度学习中经典的网络模型了。"
   ]
  },
  {
   "cell_type": "markdown",
   "metadata": {},
   "source": [
    "## 本章小结\n",
    "\n",
    "本章详细介绍了神经网络工具箱nn的使用。首先本章对神经网络中常用层结构进行了介绍，并举例说明了如何使用`nn.Module`模块来实现这些常用的层结构；其次，本章对`nn.Module`进行了深入剖析，并详细介绍了其构造函数与两种魔法方法；同时，本章还对神经网络中的初始化策略与优化器进行了详细讲解；最后，本章运用`nn.Module`模块实现了经典的ResNet网络结构。通过本章的学习，读者可以掌握神经网络工具箱中大部分类和函数的用法，并按照实际需要搭建自己的网络结构。"
   ]
  }
 ],
 "metadata": {
  "kernelspec": {
   "display_name": "yolov5",
   "language": "python",
   "name": "python3"
  },
  "language_info": {
   "codemirror_mode": {
    "name": "ipython",
    "version": 3
   },
   "file_extension": ".py",
   "mimetype": "text/x-python",
   "name": "python",
   "nbconvert_exporter": "python",
   "pygments_lexer": "ipython3",
   "version": "3.9.19"
  }
 },
 "nbformat": 4,
 "nbformat_minor": 2
}
