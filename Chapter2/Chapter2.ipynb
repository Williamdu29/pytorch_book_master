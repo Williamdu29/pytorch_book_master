{
 "cells": [
  {
   "cell_type": "markdown",
   "metadata": {},
   "source": [
    "# 第二章 快速入门"
   ]
  },
  {
   "cell_type": "markdown",
   "metadata": {},
   "source": [
    "本章节将为读者提供一个快速入门PyTorch的指南，其中2.1节将介绍如何安装配置PyTorch，以及如何配置相应的学习环境；在2.2节中笔者将带领读者快速浏览PyTorch中的主要内容，以便于读者建立一个关于PyTorch的大致印象。"
   ]
  },
  {
   "cell_type": "markdown",
   "metadata": {},
   "source": [
    "## 2.1 安装与配置\n",
    "\n",
    "PyTorch是一款使用Python语言主导开发的轻量级深度学习框架。在使用PyTorch之前，读者需要安装Python环境以及pip包管理工具，这里笔者推荐使用Anaconda配置相关虚拟环境。本书中所有代码均使用PyTorch 1.6版本，并全部在Python3环境中运行得到最终结果。本书默认使用Linux作为开发环境。\n",
    "\n",
    "为了方便用户安装使用，PyTorch官方提供了多种安装方法。本节将介绍几种常用的安装方式，读者可以根据自己的需求进行选择。"
   ]
  },
  {
   "cell_type": "markdown",
   "metadata": {},
   "source": [
    "### 2.1.1 Linux系统下安装PyTorch"
   ]
  },
  {
   "cell_type": "markdown",
   "metadata": {},
   "source": [
    "#### 使用pip安装\n",
    "\n",
    "目前，使用pip安装PyTorch二进制包是最简单、最不容易出错，同时也是最适合新手的安装方式。读者可以从PyTorch官网上选择操作系统、包管理器pip、编程语言及CUDA版本，从而得到对应的安装命令，如图2-1所示。\n",
    "![图2-1  使用pip安装PyTorch(Linux)](imgs/使用pip安装PyTorch.png)\n",
    "\n",
    "以Linux平台、pip安装、PyTorch 1.6及CUDA 10.1为例，安装命令如下：\n",
    "```\n",
    "pip install torch==1.6.0+cu101 torchvision==0.7.0+cu101 -f https://download.pytorch.org/whl/torch_stable.html\n",
    "```\n",
    "待全部安装完成后，打开Python，运行如下命令\n",
    "```\n",
    "import torch as t\n",
    "```\n",
    "若没有报错则表示PyTorch安装成功。在安装PyTorch时需要注意以下两点：\n",
    "1. PyTorch对应的Python包名为torch而非pytorch；\n",
    "2. 若需使用GPU版本的PyTorch，读者需要先配置英伟达显卡驱动，再安装PyTorch。"
   ]
  },
  {
   "cell_type": "markdown",
   "metadata": {},
   "source": [
    "#### 使用conda安装\n",
    "conda是Anaconda自带的包管理器，如果读者使用Anaconda作为Python环境，则除了使用pip安装PyTorch之外，还可以使用conda进行安装。同样，读者可以从PyTorch官网上选择操作系统、包管理器conda、编程语言及CUDA版本，从而得到对应的安装命令，如图2-2所示。\n",
    "![图2-2  使用conda安装PyTorch(Linux)](imgs/使用conda安装PyTorch.png)\n",
    "以Linux平台、conda安装、PyTorch 1.6及CUDA 10.1为例，安装命令如下：\n",
    "```\n",
    "conda install pytorch==1.6.0 torchvision==0.7.0 cudatoolkit=10.1 -c pytorch\n",
    "```\n",
    "其中，`-c pytorch`表示从官网下载安装，速度可能较慢，因此对于国内用户，尤其是教育网用户将conda源其更换为清华镜像源，参考命令如下：\n",
    "```\n",
    "conda config --add channels https://mirrors.tuna.tsinghua.edu.cn/anaconda/pkgs/free/\n",
    "conda config --add channels https://mirrors.tuna.tsinghua.edu.cn/anaconda/pkgs/main/\n",
    "conda config --set show_channel_urls yes\n",
    "```\n",
    "在配置完清华镜像源后读者便可使用官网中去掉`-c pytorch`的命令较快地通过conda完成PyTorch的安装了。"
   ]
  },
  {
   "cell_type": "markdown",
   "metadata": {},
   "source": [
    "### 2.1.2 Windows系统下安装PyTorch\n",
    "\n",
    "#### 使用pip安装\n",
    "\n",
    "对于PyTorch 1.6，官网提供了基于pip的包管理器的安装方法，同样选择操作系统、包管理器pip，编程语言以及CUDA版本，如图2-3所示：\n",
    "![图2-3  使用pip安装PyTorch(Windows)](imgs/使用pip安装PyTorch(Windows).png)\n",
    "\n",
    "为了加快速度，我们还可以将其中的源更改为清华源后运行（以CUDA 10.1为例）：\n",
    "```\n",
    "pip install torch==1.6.0+cu101 torchvision==0.7.0+cu101 -i https://pypi.tuna.tsinghua.edu.cn/simple\n",
    "```\n",
    "\n",
    "#### 使用conda安装\n",
    "\n",
    "与Linux系统下的安装类似，进行相应选择后官网提供的命令界面如图2-4所示：\n",
    "![图2-4  使用conda安装PyTorch(Windows)](imgs/使用conda安装PyTorch(Windows).png)\n",
    "\n",
    "为了加快安装的速度，我们同样可以配置清华镜像源，其命令与Linux系统下清华镜像源的配置命令一致。然而在Windows系统下配置镜像地址可能出现错误，一种可能的解决方案便是更改设备的网络以及Internet选项，具体来说，读者可以在链接选项卡中选择局域网设置，而后配置成为自动检测设置即可，如图2-5所示：\n",
    "![图2-5  更改Windows设置以更换镜像源](imgs/更改Windows设置以更换镜像源.png)\n",
    "\n",
    "在配置完清华镜像源后读者便可使用官网中去掉`-c pytorch`的命令较快地通过conda完成PyTorch的安装了。"
   ]
  },
  {
   "cell_type": "markdown",
   "metadata": {},
   "source": [
    "### 2.1.3 学习工具介绍\n",
    "\n",
    "工欲善其事，必先利其器。在从事科学计算相关工作时，IPython和Jupyter是两个必不可少的工具，这里笔者推荐使用IPython和Jupyter Notebook来学习本书的示例代码。同时，类似的开发工具还有PyCharm以及Visual Studio Code(VS Code)。笔者认为，Jupyter Notebook中聚合了网页与可视化，十分便捷易用；PyCharm则较为冗余，更适合一些复杂项目的开发，同时较多功能需要使用付费的专业版；至于VS Code，其生态环境已经十分成熟，且提供了许多易用的插件。因此，本节将向读者介绍VS Code、IPython以及Jupyter Notebook的安装与使用"
   ]
  },
  {
   "cell_type": "markdown",
   "metadata": {},
   "source": [
    "#### Visual Studio Code\n",
    "\n",
    "VS Code是一款由微软开发，并支持各种语言的编辑器。VS Code十分适合用户进行远程开发，其支持SSH传输协议，可用于连接远程服务器。同时，VS Code提供了十分丰富的插件以便于用户的使用，如Python（用于代码调试、变量检测等）、Remote-SSH(用于连接远程服务器)以及Jupyter（用于加载Jupyter Notebook）等。\n",
    "\n",
    "VS Code可在其官网上直接下载，目前支持Windows、Linux以及macOS系统。在成功安装VS Code后，读者可以通过左侧菜单栏下载相关插件，如图2-6所示。\n",
    "![图2-6 VSCode插件](imgs/VSCode插件.png)\n",
    "\n",
    "在安装Python插件及Jupyter插件后，读者便可直接使用VS Code打开.py以及.ipynb文件。VS Code提供了自动补全、悬停提示等十分贴心的功能，因此它十分适合Python的入门者进行后续进一步的学习。\n",
    "\n",
    "![图2-7 VSCode中使用Jupyter Notebook](imgs/VSCode中使用JupyterNotebook.png)"
   ]
  },
  {
   "cell_type": "markdown",
   "metadata": {},
   "source": [
    "#### IPython\n",
    "\n",
    "IPython是一个交互式计算系统，可认为是增强版的Python Shell，提供强大的REPL(交互式解析器)功能。对于从事科学计算的用户来说，它提供方便的可交互式学习及调试功能。\n",
    "\n",
    "安装IPython十分简单，读者可以通过以下命令安装IPython：\n",
    "```\n",
    "pip install ipython\n",
    "```\n",
    "安装完成后，在命令行输入`ipython`即可启动IPython，启动界面如下：\n",
    "```\n",
    "Python 3.6.13 | packaged by conda-forge | (default, Feb 19 2021, 05:36:01) \n",
    "Type 'copyright', 'credits' or 'license' for more information\n",
    "IPython 7.16.1 -- An enhanced Interactive Python. Type '?' for help.\n",
    "\n",
    "In [1]: import torch as t\n",
    "```\n",
    "\n",
    "输入`exit`命令或者按下`Ctrl+D`快捷键即可退出IPython。IPython具有许多强大的功能，其中最常用的功能如下。"
   ]
  },
  {
   "cell_type": "markdown",
   "metadata": {},
   "source": [
    "**自动补全**    IPython最方便的功能之一是自动补全，当输入一个函数或者变量的前几个字母，按下`Tab`键，就能实现自动补全，如图2-8所示。\n",
    "\n",
    "![图2-8 IPython自动补全](imgs/IPython自动补全.png)\n",
    "\n",
    "**内省**    所谓内省，主要是指在Runtime时获得一个对象的全部类型信息，这对实际的学习有很大帮助。输入某一个函数，或者模块之后，接着输入`?`可看到它对应的帮助文档，有些帮助文档比较长，可能跨页，这时可输入空格键翻页，输入`q`退出。例如：\n",
    "```\n",
    "In [1]: import torch as t\n",
    "\n",
    "In [2]: t.abs? #查看abs函数的文档\n",
    "Docstring:\n",
    "abs(input, out=None) -> Tensor\n",
    "\n",
    "Computes the element-wise absolute value of the given :attr:`input` tensor.\n",
    "\n",
    ".. math::\n",
    "    \\text{out}_{i} = |\\text{input}_{i}|\n",
    "\n",
    "Args:\n",
    "    input (Tensor): the input tensor.\n",
    "    out (Tensor, optional): the output tensor.\n",
    "\n",
    "Example::\n",
    "\n",
    "    >>> torch.abs(torch.tensor([-1, -2, 3]))\n",
    "    tensor([ 1,  2,  3])\n",
    "Type:      builtin_function_or_method\n",
    "```\n",
    "在函数或模块名之后输入两个问号，例如`t.FloatTensor??`即可查看这个对象的源码（仅能查看对应Python的源码，无法查看C/C++的源码）。\n",
    "\n",
    "**快捷键**    IPython提供了很多快捷键，例如，按上箭头，可以重新输入上一条代码；一直按上箭头，可以追溯到之前输入的代码。按\"Ctrl+C\"快捷键可以清空当前输入或停止运行的程序。常用的快捷键如表2-1所示。\n",
    "        \n",
    "\n",
    "  <p align=\"center\"> 表2-1 IPython常用快捷键 </p>\n",
    "\n",
    "|     快捷键     |                      功能                      |\n",
    "| :------------: | :--------------------------------------------: |\n",
    "| Ctrl+P或上箭头 | 搜索之**前**命令历史中以当前输入文本开头的命令 |\n",
    "| Ctrl+N或下箭头 | 搜索之**后**命令历史中以当前输入文本开头的命令 |\n",
    "|  Ctrl+Shift+V  |                粘贴代码或代码块                |\n",
    "|     Ctrl+A     |                   跳转到行头                   |\n",
    "|     Ctrl+E     |                   跳转到行尾                   |\n",
    "\n",
    "**魔术方法**    IPython中还提供了一些特殊的命令，这些命令以`%`开头，称为魔术命令，例如可通过`%hist`查看在当前IPython下的输入历史等，示例如下。\n",
    "\n",
    "```python\n",
    "In [1]: import torch as t\n",
    "\n",
    "In [2]: a=t.Tensor(3,4)\n",
    "\n",
    "In [3]: %timeit a.sum() #检测某条语句的执行时间\n",
    "1000000 loops, best of 3: 359 ns per loop\n",
    "```\n",
    "\n",
    "```python\n",
    "In [4]: %hist # 查看输入历史\n",
    "import torch as t\n",
    "a=t.Tensor(3,4)\n",
    "%timeit a.sum()\n",
    "%hist\n",
    "\n",
    "In [5]: %paste #执行粘贴板中的代码，如果只粘贴不执行使用Ctrl+Shift+V\n",
    "def add(x,y,z):\n",
    "     return x+y+z\n",
    "## -- End pasted text --\n",
    "\n",
    "In [6]: %cat a.py # 查看某一个文件的内容，这个文件只有两行代码\n",
    "b = a + 1\n",
    "print(b.size())\n",
    "\n",
    "In [7]: %run -i a.py # 执行文件,-i选项代表在当前命名空间中执行\n",
    "                     # 此时会使用当前命名空间中的变量，结果也会返回至当前命名空间\n",
    "(3L,)\n",
    "\n",
    "In [8]: b \n",
    "Out[8]: \n",
    "\n",
    "-4.5902e-22\n",
    " 4.5577e-41\n",
    " 1.1404e-11\n",
    "[torch.FloatTensor of size 3]\n",
    "```\n",
    "\n",
    "和普通Python对象一样，魔术方法也支持自省，因此也可在命令后面加\"?\"或\"??\"来查看对应的帮助文档或源代码，例如通过`%run?`可查看它的使用说明。其它常用魔术命令如表2-2所示。\n",
    "\n",
    "表2-2: IPython常用魔术命令\n",
    "\n",
    "|   命令    |                 说明                  |\n",
    "| :-------: | :-----------------------------------: |\n",
    "| %quickref |             显示快速参考              |\n",
    "| %who/%who |       显示当前命名空间中的变量        |\n",
    "|  %debug   |         进入调试模式(按q退出)         |\n",
    "|  %magic   |           查看所有魔术命令            |\n",
    "|   %env    |           查看系统环境变量            |\n",
    "|   %xdel   | 删除变量并删除其在IPython上的一切引用 |\n",
    "\n",
    "`％xdel`与`del`的不同在于前者会删除其在IPython上的一切引用，具体例子如下。\n",
    "\n",
    "```python\n",
    "In [1]: import torch as t                                                  \n",
    "                                            \n",
    "In [2]: a=t.Tensor(5,5)\n",
    "                                          \n",
    "                                            \n",
    "Out[3]: \n",
    "\n",
    "1.00000e-16 *\n",
    "  8.4887  0.0000  8.4887  0.0000  0.0000\n",
    "  0.0000  0.0000  0.0000  0.0000  0.0000\n",
    "  0.0000  0.0000  0.0000  0.0000  0.0000\n",
    "  0.0000  0.0000  0.0000  0.0000  0.0000\n",
    "  0.0000  0.0000  0.0000  0.0000  0.0000\n",
    "[torch.FloatTensor of size 5x5]\n",
    "\n",
    "In [4]: del a #并未彻底释放空间，因为这块空间还被Out[3]所引用\n",
    "\n",
    "In [5]: c=t.Tensor(1000,1000)\n",
    "\n",
    "In [6]: c\n",
    "Out[6]: \n",
    "\n",
    "    0     0     0  ...      0     0     0\n",
    "    0     0     0  ...      0     0     0\n",
    "    0     0     0  ...      0     0     0\n",
    "       ...          ⋱          ...       \n",
    "    0     0     0  ...      0     0     0\n",
    "    0     0     0  ...      0     0     0\n",
    "    0     0     0  ...      0     0     0\n",
    "[torch.FloatTensor of size 1000x1000]\n",
    "\n",
    "In [7]: %xdel c\n",
    "\n",
    "In [8]: Out [3]\n",
    "Out[8]: \n",
    "\n",
    "1.00000e-16 *\n",
    "  8.4887  0.0000  8.4887  0.0000  0.0000\n",
    "  0.0000  0.0000  0.0000  0.0000  0.0000\n",
    "  0.0000  0.0000  0.0000  0.0000  0.0000\n",
    "  0.0000  0.0000  0.0000  0.0000  0.0000\n",
    "  0.0000  0.0000  0.0000  0.0000  0.0000\n",
    "[torch.FloatTensor of size 5x5]\n",
    "\n",
    "In [9]: Out[6]\n",
    "---------------------------------------------------------------------------\n",
    "KeyError                                  Traceback (most recent call last)\n",
    "<ipython-input-9-c0115ca8d9b5> in <module>()\n",
    "----> 1 Out[6]\n",
    "\n",
    "KeyError: 6\n",
    "```\n",
    "**粘贴**    IPython支持多种格式的粘贴，除了`%paste`魔法方法，还可以直接粘贴多行代码、doctest代码和IPython的代码，举例如下（下面的代码都是使用`ctrl+v`直接粘贴的，如果是linux终端，那么应该使用`ctrl+shift+v`直接粘贴，或者单击鼠标右键，选择“粘贴”选项）。\n",
    "\n",
    "```python\n",
    "In [1]: In [1]: import torch as t\n",
    "   ...: \n",
    "   ...: In [2]: a=t.Tensor(5,5)\n",
    "   ...: \n",
    "   ...: In [3]: a\n",
    "   ...: \n",
    "Out[1]: \n",
    "\n",
    "1.00000e-33 *\n",
    " -1.0299  0.0000  0.0001  0.0000  0.0000\n",
    "  0.0000  0.0000  0.0000  0.0000  0.0000\n",
    "  0.0000  0.0000  0.0000  0.0000  0.0000\n",
    "  0.0000  0.0000  0.0000  0.0000  0.0000\n",
    "  0.0000  0.0000  0.0000  0.0000  0.0000\n",
    "[torch.FloatTensor of size 5x5]\n",
    "\n",
    "In [2]: >>> import torch as t\n",
    "   ...: >>> a=t.Tensor(5,5)\n",
    "   ...: >>> a\n",
    "   ...: \n",
    "Out[2]: \n",
    "\n",
    "1.00000e-33 *\n",
    " -1.0298  0.0000 -1.0298  0.0000  0.0000\n",
    "  0.0000  0.0000  0.0000  0.0000  0.0000\n",
    "  0.0000  0.0000  0.0000  0.0000  0.0000\n",
    "  0.0000  0.0000  0.0000  0.0000  0.0000\n",
    "  0.0000  0.0000  0.0000  0.0000  0.0000\n",
    "[torch.FloatTensor of size 5x5]\n",
    "\n",
    "In [3]: import torch as t\n",
    "   ...: a = t.Tensor(5,5)\n",
    "   ...: a\n",
    "   ...: \n",
    "Out[3]: \n",
    "\n",
    "1.00000e-33 *\n",
    " -1.0298  0.0000 -1.0298  0.0000  0.0000\n",
    "  0.0000  0.0000  0.0000  0.0000  0.0000\n",
    "  0.0000  0.0000  0.0000  0.0000  0.0000\n",
    "  0.0000  0.0000  0.0000  0.0000  0.0000\n",
    "  0.0000  0.0000  0.0000  0.0000  0.0000\n",
    "[torch.FloatTensor of size 5x5]\n",
    "```\n",
    "\n",
    "**使用IPython进行调试**    IPython的调试器ipdb增强了pdb，提供了很多实用功能，例如Tab键自动补全、语法高亮等。在IPython中进入pdb的最快速方式是使用魔术命令%debug，此时用户能够直接调到报错的代码处，可通过u、d实现堆栈中的上下移动，常用的调试命令如表2-3所示。\n",
    "\n",
    "表2-3: ipdb常用调试命令\n",
    "\n",
    "|  命令   |                       功能                       |\n",
    "| :-----: | :----------------------------------------------: |\n",
    "| h(elp)  | 显示帮助信息，help command显示这条命令的帮助信息 |\n",
    "|  u(p)   |              在函数调用栈中向上移动              |\n",
    "| d(own)  |              在函数调用栈中向下移动              |\n",
    "| n(ext)  |               单歩执行，执行下一步               |\n",
    "| s(tep)  |               单歩进入当前函数调用               |\n",
    "| a(rgs)  |              查看当前调用函数的参数              |\n",
    "| l(ist)  |            查看当前行的上下文参考代码            |\n",
    "| b(reak) |               在指定位置上设置断点               |\n",
    "| q(uit)  |                       退出                       |\n",
    "\n",
    "debug是一个重要功能，不仅在学习PyTorch时需要用到，在平时学习Python或使用IPython时也会经常使用。更多的debug功能，可通过`h <命令>`查看该命令的使用方法。\n",
    "\n",
    "如果想在IPython之外使用debug功能，则需安装ipdb(pip install ipdb)，而后在需要进入调试的地方加上如下代码即可。\n",
    "\n",
    "```python\n",
    "import ipdb\n",
    "ipdb.set_trace()\n",
    "```\n",
    "\n",
    "此时当程序运行到这一步的时候，会自动进入debug模式。"
   ]
  },
  {
   "cell_type": "markdown",
   "metadata": {},
   "source": [
    "#### Jupyter Notebook\n",
    "\n",
    "Jupyter Notebook是一个交互式笔记本，前身是IPython Notebook，后从IPython中独立出来，现支持运行40多种编程语言。对于希望编写漂亮的交互式文档和从事科学计算的用户来说是一个不错的选择。\n",
    "\n",
    "Jupyter Notebook的使用方法与IPython非常类似，推荐使用Jupyter Notebook主要有如下三个原因。\n",
    "\n",
    "- 更美观的界面：相比在终端下使用IPython，Notebook提供图形化操作界面，对新手而言更美观简洁；\n",
    "- 更好的可视化支持：Notebook与Web技术深度融合，支持在Notebook中直接可视化，这对于需要经常绘图的科学运算实验来说很方便；\n",
    "- 方便远程访问：在服务器端开启Notebook服务后，客户端电脑只需有浏览器且能访问服务器，即可使用远程服务器上的Notebook，这对于很多使用Linux服务器，但工作电脑使用Windows的人来说十分方便，避免了在本地配置环境的复杂流程。\n",
    "\n",
    "安装Jupyter只需一条pip命令。\n",
    "\n",
    "```bash\n",
    "pip install jupyter   \n",
    "```\n",
    "\n",
    "安装完成后，在命令行输入`jupyter notebook`命令即可启动Jupyter，此时浏览器会自动弹出，并打开Jupyter主界面，也可手动打开浏览器，输入`http://127.0.0.1:8888`访问Jupyter，界面如图2-9所示。\n",
    "\n",
    "![图2-9  Notebook主界面](imgs/Notebook主界面.png)\n",
    "\n",
    "点击右上角的new，选择相应的Notebook类型(Python3/Python2)，即可新建一个Notebook。读者可以在在In[]后面的编辑区输入代码，按Ctrl+Enter键，即可运行代码，如图2-10所示。\n",
    "\n",
    "![图2-10  Notebook中运行代码](imgs/Notebook中运行代码.png)\n",
    "\n",
    "\n",
    "\n",
    "对于远程访问服务器Jupyter的用户，需要在服务器中搭建Jupyter Notebook服务，而后通过浏览器访问。其设置流程如下：\n",
    "\n",
    "1. 生成Jupyter的配置文件。\n",
    "\n",
    "```\n",
    "jupyter notebook --generate-config\n",
    "```\n",
    "2. 设置密码，并获取加密后的密码。\n",
    "\n",
    "```python\n",
    "from notebook.auth import passwd\n",
    "\n",
    "p = passwd()\n",
    "# 输入密码\n",
    "# 确认密码\n",
    "print(p)\n",
    "```\n",
    "\n",
    "打印得到的结果`argon2:...` 即为加密后的密码。\n",
    "3. 打开第一步生成的配置文件，修改以下内容。\n",
    "\n",
    "```python\n",
    "# 加密后的密码\n",
    "c.NotebookApp.password = u'argon2:...' \n",
    "\n",
    "# 如果只想绑定某个ip，改成对应的ip即可\n",
    "c.NotebookApp.ip = '*'\n",
    "\n",
    "# 绑定的端口号，如果该端口已经被占用，\n",
    "# 会自动使用下一个端口号10000\n",
    "c.NotebookApp.port = 9999 \n",
    "```\n",
    "\n",
    "4. 启动Jupyter Notebook。\n",
    "\n",
    "```bash\n",
    "jupyter notebook\n",
    "```\n",
    "\n",
    "5. 在客户端打开浏览器，访问url http://[服务器ip]:9999 ，输入密码，即可访问Jupyter。\n",
    "\n",
    "若客户端浏览器无法打开Jupyter，则可能是防火墙的缘故，输入如下命令开放对应的端口(若使用IPV6，把命令`iptables`改成`ip6tables`)。\n",
    "\n",
    "```bash\n",
    "iptables -I INPUT -p tcp --dport 9999 -j ACCEPT\n",
    "iptables save\n",
    "```\n",
    "\n",
    "Jupyter的使用和IPython极为类似，我们之前介绍的IPython的使用技巧在Jupyter中也都基本适用。它支持自动补全、内省、魔术方法和debug功能等，但它的快捷键与IPython有较大不同，具体可通过菜单栏的【Help】->【Keyboard Shortcuts】查看。\n",
    "\n",
    "Jupyter还支持很多功能，如Markdown语法、HTML、各种可视化等。读者可在网络上寻找更多有关IPython和Jupyter Notebook的使用技巧。"
   ]
  },
  {
   "cell_type": "markdown",
   "metadata": {},
   "source": [
    "## 2.2 PyTorch入门第一步\n",
    "\n",
    "PyTorch的简洁设计使得它易于入门，在深入介绍PyTorch之前，本节将先介绍一些PyTorch的基础知识，以便读者能够对PyTorch有一个大致的了解，并能够用PyTorch搭建一个简单的神经网络。对于其中的部分内容读者可能暂时不太理解，可先不予深究，本书的第3至5章将会对这些内容进行深入讲解。\n",
    "\n",
    "本节内容参考了PyTorch官方教程并做了相应的增删，使得内容更贴合新版本的PyTorch接口，同时也更适合新手快速入门。另外，本书需要读者先掌握基础的Numpy使用，有关NumPy的基础知识可以参考CS231n的教程。\n",
    "\n",
    "\n",
    "### 2.2.1 Tensor\n",
    "\n",
    "Tensor是PyTorch中重要的数据结构，可以认为是一个高维数组。它可以是一个数（标量）、一维数组（向量）、二维数组（矩阵）或者更高维的数组。Tensor和Numpy的ndarrays类似，但Tensor可以使用GPU加速。Tensor的使用和Numpy十分相似，下面通过几个示例来了解Tensor的基本使用方法。"
   ]
  },
  {
   "cell_type": "code",
   "execution_count": 2,
   "metadata": {},
   "outputs": [
    {
     "data": {
      "text/plain": [
       "'2.2.2'"
      ]
     },
     "execution_count": 2,
     "metadata": {},
     "output_type": "execute_result"
    }
   ],
   "source": [
    "import torch as t\n",
    "t.__version__"
   ]
  },
  {
   "cell_type": "code",
   "execution_count": 3,
   "metadata": {},
   "outputs": [
    {
     "data": {
      "text/plain": [
       "tensor([[0., 0., 0.],\n",
       "        [0., 0., 0.],\n",
       "        [0., 0., 0.],\n",
       "        [0., 0., 0.],\n",
       "        [0., 0., 0.]])"
      ]
     },
     "execution_count": 3,
     "metadata": {},
     "output_type": "execute_result"
    }
   ],
   "source": [
    "# 构建 5x3 矩阵，只是分配了空间，未初始化，其数值取决于内存空间的状态\n",
    "x = t.Tensor(5, 3) #维度：5*3 5行3列\n",
    "x"
   ]
  },
  {
   "cell_type": "markdown",
   "metadata": {},
   "source": [
    "torch.Tensor可以使用int类型的整数用于初始化矩阵的行、列数，并且不存在任何歧义。而torch.tensor则需要确切的数据值进行初始化。\n"
   ]
  },
  {
   "cell_type": "code",
   "execution_count": 4,
   "metadata": {},
   "outputs": [
    {
     "name": "stdout",
     "output_type": "stream",
     "text": [
      "torch.Size([5])\n",
      "tensor([0., 0., 0., 0., 0.])\n",
      "torch.Size([1])\n",
      "tensor([5])\n"
     ]
    }
   ],
   "source": [
    "y = t.Tensor(5) # 未指定宽度和高度，就是5个元素的向量\n",
    "print(y.size())\n",
    "print(y)\n",
    "z = t.tensor([5])# torch.tensor需要确切数值进行初始化\n",
    "print(z.size())\n",
    "print(z)"
   ]
  },
  {
   "cell_type": "code",
   "execution_count": 5,
   "metadata": {},
   "outputs": [
    {
     "data": {
      "text/plain": [
       "tensor([[0.2760, 0.5895, 0.0477],\n",
       "        [0.1532, 0.4987, 0.5014],\n",
       "        [0.6781, 0.9194, 0.4493],\n",
       "        [0.3504, 0.1105, 0.5751],\n",
       "        [0.9647, 0.8614, 0.2093]])"
      ]
     },
     "execution_count": 5,
     "metadata": {},
     "output_type": "execute_result"
    }
   ],
   "source": [
    "# 使用[0,1]均匀分布随机初始化二维数组\n",
    "x = t.rand(5, 3)  \n",
    "x"
   ]
  },
  {
   "cell_type": "code",
   "execution_count": 6,
   "metadata": {},
   "outputs": [
    {
     "name": "stdout",
     "output_type": "stream",
     "text": [
      "torch.Size([5, 3])\n"
     ]
    },
    {
     "data": {
      "text/plain": [
       "(3, 3)"
      ]
     },
     "execution_count": 6,
     "metadata": {},
     "output_type": "execute_result"
    }
   ],
   "source": [
    "print(x.shape) # 查看x的形状\n",
    "x.size()[1], x.size(1) # 查看列的个数, 两种写法等价  第0维是行，第1维是列"
   ]
  },
  {
   "cell_type": "code",
   "execution_count": 7,
   "metadata": {},
   "outputs": [
    {
     "data": {
      "text/plain": [
       "tensor([[1.0444, 1.4505, 1.0468],\n",
       "        [0.8970, 1.3345, 0.6961],\n",
       "        [1.1098, 1.3952, 1.1097],\n",
       "        [1.3496, 0.1614, 1.3295],\n",
       "        [1.0596, 0.9492, 1.0608]])"
      ]
     },
     "execution_count": 7,
     "metadata": {},
     "output_type": "execute_result"
    }
   ],
   "source": [
    "y = t.rand(5, 3)\n",
    "# 加法的第一种写法\n",
    "x + y"
   ]
  },
  {
   "cell_type": "code",
   "execution_count": 8,
   "metadata": {},
   "outputs": [
    {
     "data": {
      "text/plain": [
       "tensor([[1.0444, 1.4505, 1.0468],\n",
       "        [0.8970, 1.3345, 0.6961],\n",
       "        [1.1098, 1.3952, 1.1097],\n",
       "        [1.3496, 0.1614, 1.3295],\n",
       "        [1.0596, 0.9492, 1.0608]])"
      ]
     },
     "execution_count": 8,
     "metadata": {},
     "output_type": "execute_result"
    }
   ],
   "source": [
    "# 加法的第二种写法\n",
    "t.add(x, y)"
   ]
  },
  {
   "cell_type": "code",
   "execution_count": 9,
   "metadata": {},
   "outputs": [
    {
     "data": {
      "text/plain": [
       "tensor([[1.0444, 1.4505, 1.0468],\n",
       "        [0.8970, 1.3345, 0.6961],\n",
       "        [1.1098, 1.3952, 1.1097],\n",
       "        [1.3496, 0.1614, 1.3295],\n",
       "        [1.0596, 0.9492, 1.0608]])"
      ]
     },
     "execution_count": 9,
     "metadata": {},
     "output_type": "execute_result"
    }
   ],
   "source": [
    "# 加法的第三种写法：指定加法结果的输出目标为result\n",
    "result = t.Tensor(5, 3) # 预先分配空间\n",
    "# result = torch.empty(5,3)\n",
    "t.add(x, y, out=result) # 输入到result\n",
    "result"
   ]
  },
  {
   "cell_type": "code",
   "execution_count": 10,
   "metadata": {},
   "outputs": [
    {
     "name": "stdout",
     "output_type": "stream",
     "text": [
      "初始的y值\n",
      "tensor([[0.7684, 0.8611, 0.9991],\n",
      "        [0.7438, 0.8358, 0.1947],\n",
      "        [0.4317, 0.4758, 0.6604],\n",
      "        [0.9992, 0.0509, 0.7545],\n",
      "        [0.0949, 0.0878, 0.8515]])\n",
      "第一种加法，y的结果\n",
      "tensor([[0.7684, 0.8611, 0.9991],\n",
      "        [0.7438, 0.8358, 0.1947],\n",
      "        [0.4317, 0.4758, 0.6604],\n",
      "        [0.9992, 0.0509, 0.7545],\n",
      "        [0.0949, 0.0878, 0.8515]])\n",
      "第二种加法，y的结果\n",
      "tensor([[1.0444, 1.4505, 1.0468],\n",
      "        [0.8970, 1.3345, 0.6961],\n",
      "        [1.1098, 1.3952, 1.1097],\n",
      "        [1.3496, 0.1614, 1.3295],\n",
      "        [1.0596, 0.9492, 1.0608]])\n"
     ]
    }
   ],
   "source": [
    "print('初始的y值')\n",
    "print(y)\n",
    "\n",
    "print('第一种加法，y的结果')\n",
    "y.add(x) # 普通加法，不改变y的内容\n",
    "print(y)\n",
    "\n",
    "print('第二种加法，y的结果')\n",
    "y.add_(x) # inplace 加法，y变了\n",
    "print(y)"
   ]
  },
  {
   "cell_type": "markdown",
   "metadata": {},
   "source": [
    "注意，函数名后面带下划线**`_`** 的函数会修改Tensor本身，即inplace操作。例如，`x.add_(y)`和`x.t_()`会改变 `x`，但`x.add(y)`和`x.t()`返回一个新的Tensor，而`x`不变。"
   ]
  },
  {
   "cell_type": "code",
   "execution_count": 11,
   "metadata": {},
   "outputs": [
    {
     "name": "stdout",
     "output_type": "stream",
     "text": [
      "tensor([[0.2760, 0.5895, 0.0477],\n",
      "        [0.1532, 0.4987, 0.5014],\n",
      "        [0.6781, 0.9194, 0.4493],\n",
      "        [0.3504, 0.1105, 0.5751],\n",
      "        [0.9647, 0.8614, 0.2093]])\n",
      "------\n"
     ]
    },
    {
     "data": {
      "text/plain": [
       "tensor([0.5895, 0.4987, 0.9194, 0.1105, 0.8614])"
      ]
     },
     "execution_count": 11,
     "metadata": {},
     "output_type": "execute_result"
    }
   ],
   "source": [
    "# Tensor的选取操作与Numpy类似\n",
    "print(x)\n",
    "print(\"------\")\n",
    "x[:, 1]  # 选取x张量的第二列"
   ]
  },
  {
   "cell_type": "markdown",
   "metadata": {},
   "source": [
    "Tensor还支持很多操作，包括数学运算、线性代数、选择、切片等等，其接口设计与Numpy极为相似。在第三章中我们将系统讲解Tensor更详细的使用方法。\n",
    "\n",
    "Tensor和NumPy的数组之间的相互操作非常容易且快速。对于Tensor不支持的操作，可以先转为Numpy数组处理，之后再转回Tensor。"
   ]
  },
  {
   "cell_type": "code",
   "execution_count": 12,
   "metadata": {},
   "outputs": [
    {
     "data": {
      "text/plain": [
       "tensor([1., 1., 1., 1., 1.])"
      ]
     },
     "execution_count": 12,
     "metadata": {},
     "output_type": "execute_result"
    }
   ],
   "source": [
    "a = t.ones(5) # 新建一个全1的Tensor\n",
    "a"
   ]
  },
  {
   "cell_type": "code",
   "execution_count": 13,
   "metadata": {},
   "outputs": [
    {
     "data": {
      "text/plain": [
       "array([1., 1., 1., 1., 1.], dtype=float32)"
      ]
     },
     "execution_count": 13,
     "metadata": {},
     "output_type": "execute_result"
    }
   ],
   "source": [
    "b = a.numpy() # Tensor -> Numpy\n",
    "b"
   ]
  },
  {
   "cell_type": "code",
   "execution_count": 14,
   "metadata": {},
   "outputs": [
    {
     "name": "stdout",
     "output_type": "stream",
     "text": [
      "[1. 1. 1. 1. 1.]\n",
      "tensor([1., 1., 1., 1., 1.], dtype=torch.float64)\n"
     ]
    }
   ],
   "source": [
    "import numpy as np\n",
    "a = np.ones(5)\n",
    "b = t.from_numpy(a) # Numpy->Tensor\n",
    "print(a)\n",
    "print(b) "
   ]
  },
  {
   "cell_type": "markdown",
   "metadata": {},
   "source": [
    "Tensor和NumPy对象共享内存，所以它们之间的转换很快，而且几乎不会消耗什么资源。但这也意味着，如果其中一个发生了变化，另外一个会随之改变。"
   ]
  },
  {
   "cell_type": "code",
   "execution_count": 15,
   "metadata": {
    "scrolled": true
   },
   "outputs": [
    {
     "name": "stdout",
     "output_type": "stream",
     "text": [
      "[2. 2. 2. 2. 2.]\n",
      "tensor([2., 2., 2., 2., 2.], dtype=torch.float64)\n"
     ]
    }
   ],
   "source": [
    "b.add_(1) # 以`_`结尾的函数会修改自身 inplace操作\n",
    "print(a)\n",
    "print(b) # Tensor和Numpy共享内存"
   ]
  },
  {
   "cell_type": "markdown",
   "metadata": {},
   "source": [
    "如果你想获取某一个元素的值，可以使用`scalar.item`。 直接`tensor[idx]`得到的还是一个tensor: 一个0-dim 的tensor，一般称为scalar。"
   ]
  },
  {
   "cell_type": "code",
   "execution_count": 16,
   "metadata": {},
   "outputs": [
    {
     "data": {
      "text/plain": [
       "tensor(2., dtype=torch.float64)"
      ]
     },
     "execution_count": 16,
     "metadata": {},
     "output_type": "execute_result"
    }
   ],
   "source": [
    "scalar = b[0]\n",
    "scalar"
   ]
  },
  {
   "cell_type": "code",
   "execution_count": 17,
   "metadata": {},
   "outputs": [
    {
     "data": {
      "text/plain": [
       "torch.Size([])"
      ]
     },
     "execution_count": 17,
     "metadata": {},
     "output_type": "execute_result"
    }
   ],
   "source": [
    "scalar.shape #0-dim "
   ]
  },
  {
   "cell_type": "code",
   "execution_count": 18,
   "metadata": {},
   "outputs": [
    {
     "data": {
      "text/plain": [
       "2.0"
      ]
     },
     "execution_count": 18,
     "metadata": {},
     "output_type": "execute_result"
    }
   ],
   "source": [
    "scalar.item() # 使用scalar.item()能从中取出python对象的数值"
   ]
  },
  {
   "cell_type": "code",
   "execution_count": 19,
   "metadata": {},
   "outputs": [
    {
     "data": {
      "text/plain": [
       "(tensor([2]), tensor(2., dtype=torch.float64))"
      ]
     },
     "execution_count": 19,
     "metadata": {},
     "output_type": "execute_result"
    }
   ],
   "source": [
    "tensor = t.tensor([2]) # 注意和scalar的区别\n",
    "tensor,scalar"
   ]
  },
  {
   "cell_type": "code",
   "execution_count": 20,
   "metadata": {},
   "outputs": [
    {
     "data": {
      "text/plain": [
       "(torch.Size([1]), torch.Size([]))"
      ]
     },
     "execution_count": 20,
     "metadata": {},
     "output_type": "execute_result"
    }
   ],
   "source": [
    "tensor.size(),scalar.size()"
   ]
  },
  {
   "cell_type": "code",
   "execution_count": 21,
   "metadata": {},
   "outputs": [
    {
     "name": "stdout",
     "output_type": "stream",
     "text": [
      "tensor([2])\n"
     ]
    },
    {
     "data": {
      "text/plain": [
       "(2, 2.0)"
      ]
     },
     "execution_count": 21,
     "metadata": {},
     "output_type": "execute_result"
    }
   ],
   "source": [
    "# 只有一个元素的tensor也可以调用`tensor.item()`\n",
    "print(tensor)\n",
    "\n",
    "tensor.item(), scalar.item()"
   ]
  },
  {
   "cell_type": "code",
   "execution_count": 22,
   "metadata": {},
   "outputs": [
    {
     "data": {
      "text/plain": [
       "tensor([3, 4])"
      ]
     },
     "execution_count": 22,
     "metadata": {},
     "output_type": "execute_result"
    }
   ],
   "source": [
    "import torch as t\n",
    "tensor = t.tensor([3,4]) # 新建一个包含 3，4 两个元素的tensor\n",
    "tensor"
   ]
  },
  {
   "cell_type": "code",
   "execution_count": 23,
   "metadata": {},
   "outputs": [
    {
     "data": {
      "text/plain": [
       "tensor(3)"
      ]
     },
     "execution_count": 23,
     "metadata": {},
     "output_type": "execute_result"
    }
   ],
   "source": [
    "scalar = t.tensor(3)\n",
    "scalar"
   ]
  },
  {
   "cell_type": "code",
   "execution_count": 24,
   "metadata": {},
   "outputs": [
    {
     "data": {
      "text/plain": [
       "(tensor([3, 4]), tensor([1111,    4]))"
      ]
     },
     "execution_count": 24,
     "metadata": {},
     "output_type": "execute_result"
    }
   ],
   "source": [
    "old_tensor = tensor\n",
    "new_tensor = old_tensor.clone()\n",
    "\n",
    "new_tensor[0] = 1111\n",
    "old_tensor, new_tensor"
   ]
  },
  {
   "cell_type": "markdown",
   "metadata": {},
   "source": [
    "需要注意的是，`t.tensor()`或者`tensor.clone()`总是会进行数据拷贝，新Tensor和原来的数据不再共享内存。所以如果你想共享内存的话，建议使用`torch.from_numpy()`或者`tensor.detach()`来新建一个Tensor, 二者共享内存。"
   ]
  },
  {
   "cell_type": "markdown",
   "metadata": {},
   "source": [
    "在深度学习中，Tensor作为一种最基础的数据容器，其维度特征十分重要，而有时我们需要对其进行维度上的转换或者变换，针对该问题，PyTorch提供了许多非常便利的转换方式：包括维度变换view、reshape、维度交换permute以及transpose等。"
   ]
  },
  {
   "cell_type": "markdown",
   "metadata": {},
   "source": [
    "首先来看维度变换操作，我们可以使用`view`操作与`reshape`操作来改变Tensor的维度，但它们二者之间有一些区别：\n",
    "\n",
    "1. `view`只能用于内存中连续存储的Tensor，即：若对Tensor使用过`transpose`、`permute`等维度变换操作的话，会使得Tensor在内存中变得不连续，此时就便不能直接使用`view`操作，而应该先将其连续化，即`tensor.contiguous.view()`；\n",
    "\n",
    "2. 而对于`reshape`操作，其并不要求Tensor在内存中是连续的，直接使用即可。\n",
    "\n",
    "下面将举例说明。"
   ]
  },
  {
   "cell_type": "code",
   "execution_count": 25,
   "metadata": {},
   "outputs": [
    {
     "name": "stdout",
     "output_type": "stream",
     "text": [
      "torch.Size([4, 4]) torch.Size([16]) torch.Size([2, 8])\n"
     ]
    }
   ],
   "source": [
    "x = t.randn(4,4)\n",
    "y = x.view(16)\n",
    "z = x.view(-1,8) #-1表示由其他维度计算决定，-1即是自动计算另外一个维度\n",
    "print(x.size(),y.size(),z.size())"
   ]
  },
  {
   "cell_type": "code",
   "execution_count": 26,
   "metadata": {},
   "outputs": [
    {
     "name": "stdout",
     "output_type": "stream",
     "text": [
      "torch.Size([2, 8])\n"
     ]
    }
   ],
   "source": [
    "p = x.reshape(-1,8)\n",
    "print(p.shape)"
   ]
  },
  {
   "cell_type": "code",
   "execution_count": 27,
   "metadata": {},
   "outputs": [
    {
     "name": "stdout",
     "output_type": "stream",
     "text": [
      "o1 sizetorch.Size([6, 4, 2])\n",
      "o2 sizetorch.Size([6, 4, 2])\n"
     ]
    }
   ],
   "source": [
    "x1 = t.randn(2,4,6)\n",
    "o1 = x1.permute((2,1,0))  # permute 用来改变张量各个维度的顺序为，最后的形状(6,4,2)\n",
    "o2 = x1.transpose(0,2)    # transpose 只交换两个指定维度，其他维度保持不变，形状也为(6,4,2)\n",
    "print(f'o1 size{o1.size()}')\n",
    "print(f'o2 size{o2.size()}')"
   ]
  },
  {
   "cell_type": "code",
   "execution_count": 28,
   "metadata": {},
   "outputs": [
    {
     "data": {
      "text/plain": [
       "(tensor([1111,    4]), tensor([1111,    4]))"
      ]
     },
     "execution_count": 28,
     "metadata": {},
     "output_type": "execute_result"
    }
   ],
   "source": [
    "new_tensor = old_tensor.detach()\n",
    "new_tensor[0] = 1111\n",
    "old_tensor, new_tensor"
   ]
  },
  {
   "cell_type": "markdown",
   "metadata": {},
   "source": [
    "除了对Tensor进行维度变换外，我们还会针对Tensor的某些维度进行一些其他操作，如`tensor.squeeze()`可以进行Tensor的维度压缩、`tensor.unsqueeze()`可以扩展Tensor的维度、`torch.cat()`可以在指定维度上进行Tensor的拼接，下面将举例说明。"
   ]
  },
  {
   "cell_type": "code",
   "execution_count": 29,
   "metadata": {},
   "outputs": [
    {
     "name": "stdout",
     "output_type": "stream",
     "text": [
      "y sizetorch.Size([3, 2, 1])\n",
      "z sizetorch.Size([1, 3, 2, 1, 1])\n",
      "w sizetorch.Size([6, 2, 1, 1])\n",
      "tensor([[[[ 0.9666]],\n",
      "\n",
      "         [[ 0.5742]]],\n",
      "\n",
      "\n",
      "        [[[-0.7326]],\n",
      "\n",
      "         [[ 0.9022]]],\n",
      "\n",
      "\n",
      "        [[[-2.0887]],\n",
      "\n",
      "         [[ 0.2400]]]])\n",
      "tensor([[[ 0.9666],\n",
      "         [ 0.5742]],\n",
      "\n",
      "        [[-0.7326],\n",
      "         [ 0.9022]],\n",
      "\n",
      "        [[-2.0887],\n",
      "         [ 0.2400]]])\n"
     ]
    }
   ],
   "source": [
    "x = t.randn(3,2,1,1)\n",
    "y = x.squeeze(-1) #将最后一维进行维度压缩\n",
    "z = x.unsqueeze(0) #在第一维度增加一个维度\n",
    "w = t.cat((x,x),dim=0) #在第0维度连接两个x\n",
    "print(f'y size{y.shape}')\n",
    "print(f'z size{z.shape}')\n",
    "print(f'w size{w.shape}')\n",
    "\n",
    "print(x)\n",
    "print(y)"
   ]
  },
  {
   "cell_type": "markdown",
   "metadata": {},
   "source": [
    "如果有一个仅含有一个元素的Tensor，可以使用`.item()`来获得其数值。"
   ]
  },
  {
   "cell_type": "code",
   "execution_count": 30,
   "metadata": {},
   "outputs": [
    {
     "name": "stdout",
     "output_type": "stream",
     "text": [
      "tensor([-1.1019])\n",
      "-1.101908564567566\n"
     ]
    }
   ],
   "source": [
    "x = t.randn(1)\n",
    "print(x)\n",
    "print(x.item())"
   ]
  },
  {
   "cell_type": "code",
   "execution_count": 31,
   "metadata": {},
   "outputs": [
    {
     "data": {
      "text/plain": [
       "tensor([[[-0.1353],\n",
       "         [-0.5277]],\n",
       "\n",
       "        [[-1.8345],\n",
       "         [-0.1997]],\n",
       "\n",
       "        [[-3.1906],\n",
       "         [-0.8619]]])"
      ]
     },
     "execution_count": 31,
     "metadata": {},
     "output_type": "execute_result"
    }
   ],
   "source": [
    "# 在不支持CUDA的机器下，下一步还是在CPU上运行\n",
    "device = t.device(\"cuda:0\" if t.cuda.is_available() else \"cpu\")\n",
    "x = x.to(device)\n",
    "y = y.to(x.device)\n",
    "z = x+y\n",
    "z"
   ]
  },
  {
   "cell_type": "markdown",
   "metadata": {},
   "source": [
    "此外，还可以使用`tensor.cuda()` 的方式将tensor拷贝到gpu上，但是这种方式不太推荐。"
   ]
  },
  {
   "cell_type": "markdown",
   "metadata": {},
   "source": [
    "此处可能发现GPU运算的速度并未提升太多，这是因为x和y太小且运算也较为简单，而且将数据从内存转移到显存还需要花费额外的开销。GPU的优势需在大规模数据和复杂运算下才能体现出来。"
   ]
  },
  {
   "cell_type": "markdown",
   "metadata": {},
   "source": [
    "\n",
    "### 2.2.2 Autograd: 自动微分\n",
    "\n",
    "\n",
    "在深度学习中，我们通常使用梯度下降法来最小化损失函数，以此来更新网络参数。在神经网络中梯度下降法的实现便是通过反向传播求导数，PyTorch中的autograd模块便实现了自动的反向传播功能。在Tensor上的所有操作，autograd都能为它们自动提供微分，避免了手动计算导数的复杂过程。\n",
    "要想使得Tensor使用autograd功能，只需要设置`tensor.requries_grad=True`即可。"
   ]
  },
  {
   "cell_type": "code",
   "execution_count": 32,
   "metadata": {
    "scrolled": true
   },
   "outputs": [
    {
     "data": {
      "text/plain": [
       "tensor([[1., 1.],\n",
       "        [1., 1.]], requires_grad=True)"
      ]
     },
     "execution_count": 32,
     "metadata": {},
     "output_type": "execute_result"
    }
   ],
   "source": [
    "# 为Tensor设置requires_grad标识，代表着需要求导数\n",
    "# PyTorch 会自动调用autograd记录操作\n",
    "x = t.ones(2, 2, requires_grad=True)\n",
    "\n",
    "# 上一步等价于\n",
    "# x = t.ones(2,2)\n",
    "# x.requires_grad = True\n",
    "\n",
    "x"
   ]
  },
  {
   "cell_type": "code",
   "execution_count": 33,
   "metadata": {
    "scrolled": true
   },
   "outputs": [
    {
     "data": {
      "text/plain": [
       "tensor(4., grad_fn=<SumBackward0>)"
      ]
     },
     "execution_count": 33,
     "metadata": {},
     "output_type": "execute_result"
    }
   ],
   "source": [
    "y = x.sum() #x的所有元素逐个相加\n",
    "y"
   ]
  },
  {
   "cell_type": "code",
   "execution_count": 34,
   "metadata": {},
   "outputs": [
    {
     "data": {
      "text/plain": [
       "<SumBackward0 at 0x7fa019669fd0>"
      ]
     },
     "execution_count": 34,
     "metadata": {},
     "output_type": "execute_result"
    }
   ],
   "source": [
    "y.grad_fn"
   ]
  },
  {
   "cell_type": "code",
   "execution_count": 35,
   "metadata": {},
   "outputs": [],
   "source": [
    "y.backward() # 反向传播,计算梯度"
   ]
  },
  {
   "cell_type": "code",
   "execution_count": 36,
   "metadata": {},
   "outputs": [
    {
     "data": {
      "text/plain": [
       "tensor([[1., 1.],\n",
       "        [1., 1.]])"
      ]
     },
     "execution_count": 36,
     "metadata": {},
     "output_type": "execute_result"
    }
   ],
   "source": [
    "# y = x.sum() = (x[0][0] + x[0][1] + x[1][0] + x[1][1])\n",
    "# 每个值的梯度都为1\n",
    "x.grad "
   ]
  },
  {
   "cell_type": "markdown",
   "metadata": {},
   "source": [
    "注意：`grad`在反向传播过程中是累加的(accumulated)，这意味着每一次运行反向传播，梯度都会累加之前的梯度，所以反向传播之前需把梯度清零。"
   ]
  },
  {
   "cell_type": "code",
   "execution_count": 37,
   "metadata": {},
   "outputs": [
    {
     "data": {
      "text/plain": [
       "tensor([[2., 2.],\n",
       "        [2., 2.]])"
      ]
     },
     "execution_count": 37,
     "metadata": {},
     "output_type": "execute_result"
    }
   ],
   "source": [
    "y.backward()\n",
    "x.grad"
   ]
  },
  {
   "cell_type": "code",
   "execution_count": 38,
   "metadata": {
    "scrolled": true
   },
   "outputs": [
    {
     "data": {
      "text/plain": [
       "tensor([[3., 3.],\n",
       "        [3., 3.]])"
      ]
     },
     "execution_count": 38,
     "metadata": {},
     "output_type": "execute_result"
    }
   ],
   "source": [
    "y.backward()\n",
    "x.grad"
   ]
  },
  {
   "cell_type": "code",
   "execution_count": 39,
   "metadata": {},
   "outputs": [
    {
     "data": {
      "text/plain": [
       "tensor([[0., 0.],\n",
       "        [0., 0.]])"
      ]
     },
     "execution_count": 39,
     "metadata": {},
     "output_type": "execute_result"
    }
   ],
   "source": [
    "# 以下划线结束的函数是inplace操作，会修改自身的值，就像add_\n",
    "x.grad.data.zero_()"
   ]
  },
  {
   "cell_type": "code",
   "execution_count": 40,
   "metadata": {},
   "outputs": [
    {
     "data": {
      "text/plain": [
       "tensor([[1., 1.],\n",
       "        [1., 1.]])"
      ]
     },
     "execution_count": 40,
     "metadata": {},
     "output_type": "execute_result"
    }
   ],
   "source": [
    "y.backward()\n",
    "x.grad"
   ]
  },
  {
   "cell_type": "code",
   "execution_count": 41,
   "metadata": {},
   "outputs": [
    {
     "name": "stdout",
     "output_type": "stream",
     "text": [
      "False\n",
      "True\n",
      "<SumBackward0 object at 0x7fa039460430>\n"
     ]
    }
   ],
   "source": [
    "a = t.randn(2,2)\n",
    "a = ((a*3)/(a-1))\n",
    "print(a.requires_grad)\n",
    "a.requires_grad_(True)\n",
    "print(a.requires_grad)\n",
    "b = (a*a).sum()\n",
    "print(b.grad_fn)"
   ]
  },
  {
   "cell_type": "markdown",
   "metadata": {},
   "source": [
    "###  2.2.3 神经网络\n",
    "\n",
    "autograd实现了自动微分系统，但在很多情况下直接用来写深度学习的代码还是稍显复杂。torch.nn是专门为神经网络设计的模块化接口。nn构建于autograd之上，可用来定义和运行神经网络。nn.Module是nn中最重要的类，可把它看成是一个网络的封装，包含网络各层定义以及forward方法，调用forward(input)方法，可返回前向传播的结果。下面就以最早的卷积神经网络：LeNet为例，来看看如何用`nn.Module`实现。LeNet的网络结构如图2-11所示。\n",
    "\n",
    "![图2-11:LeNet网络结构](imgs/nn_lenet.png)\n",
    "\n",
    "对于一个神经网络而言，其通用的训练步骤如下：\n",
    "\n",
    "1. 定义一个包含可学习参数的神经网络；\n",
    "2. 加载输入至网络的数据集；\n",
    "3. 进行前向传播得到网络的输出结果，并计算损失（网络输出结果与正确结果的差距）；\n",
    "4. 进行反向传播，更新网络参数，其中更新策略中最简单的方式即`weight=weight-learning_rate*gradient`；\n",
    "5. 保存网络模型。\n",
    "\n",
    "#### 定义网络\n",
    "\n",
    "定义网络时，需要继承`nn.Module`，并实现它的forward方法，把网络中具有可学习参数的层放在构造函数`__init__`中。如果某一层(如ReLU)不具有可学习的参数，则既可以放在构造函数中，也可以不放，但笔者建议不放在其中，而在forward中使用`nn.functional`代替。下面将举例说明。"
   ]
  },
  {
   "cell_type": "markdown",
   "metadata": {},
   "source": [
    "在神经网络中，下采样（downsampling）是一种用于减少数据空间尺寸的操作，常见于卷积神经网络（CNN）中。下采样的目标是通过减小特征图（feature map）的尺寸，来降低计算量、减少内存使用、增加模型的泛化能力，同时保留数据中的重要信息。\n",
    "\n",
    "常见的下采样方法有以下几种：\n",
    "\n",
    "1. **池化（Pooling）**:\n",
    "   - **最大池化（Max Pooling）**：在每个池化区域内选取最大的值。通常使用2x2或3x3的窗口，并且步长（stride）通常设置为2，从而在每次操作后将特征图的尺寸减少一半。\n",
    "   - **平均池化（Average Pooling）**：在每个池化区域内计算平均值，操作与最大池化类似，唯一的区别是选择的是区域内的平均值，而不是最大值。\n",
    "\n",
    "2. **卷积层中的步长（Stride）**:\n",
    "   在卷积操作中，步长（stride）决定了卷积核移动的距离。步长大于1时，卷积层的输出尺寸会减小，这也是一种下采样的方式。比如，使用步长为2的卷积层，输出的尺寸会减少为输入的1/2。\n",
    "\n",
    "3. **全局平均池化（Global Average Pooling）**:\n",
    "   该操作会对整个特征图进行池化，将每个通道的所有元素平均，输出一个单一的数值。这种方法通常用于分类任务中，尤其是在最后一层，替代全连接层。\n",
    "\n",
    "下采样不仅有助于降低特征图的尺寸，还能帮助控制过拟合，提高模型的训练效率和性能。"
   ]
  },
  {
   "cell_type": "code",
   "execution_count": 42,
   "metadata": {},
   "outputs": [
    {
     "name": "stdout",
     "output_type": "stream",
     "text": [
      "Net(\n",
      "  (conv1): Conv2d(1, 6, kernel_size=(5, 5), stride=(1, 1))\n",
      "  (conv2): Conv2d(6, 16, kernel_size=(5, 5), stride=(1, 1))\n",
      "  (fc1): Linear(in_features=400, out_features=120, bias=True)\n",
      "  (fc2): Linear(in_features=120, out_features=84, bias=True)\n",
      "  (fc3): Linear(in_features=84, out_features=10, bias=True)\n",
      ")\n"
     ]
    }
   ],
   "source": [
    "import torch.nn as nn\n",
    "import torch.nn.functional as F\n",
    "\n",
    "class Net(nn.Module):\n",
    "    def __init__(self):\n",
    "        # nn.Module子类的函数必须在构造函数中执行父类的构造函数\n",
    "        # 下式等价于nn.Module.__init__(self)\n",
    "        super(Net, self).__init__()\n",
    "        \n",
    "        # 卷积层 '1'表示输入图片为单通道, '6'表示输出通道数，'5'表示卷积核为5*5\n",
    "        self.conv1 = nn.Conv2d(1, 6, 5) \n",
    "        # 卷积层\n",
    "        self.conv2 = nn.Conv2d(6, 16, 5) \n",
    "        # 仿射层/全连接层，y = Wx + b\n",
    "        self.fc1   = nn.Linear(16*5*5, 120) \n",
    "        self.fc2   = nn.Linear(120, 84)\n",
    "        self.fc3   = nn.Linear(84, 10)\n",
    "\n",
    "    def forward(self, x): \n",
    "        # 卷积 -> 激活 -> 池化 \n",
    "        \n",
    "        x = F.max_pool2d(F.relu(self.conv1(x)), (2, 2))\n",
    "        x = F.max_pool2d(F.relu(self.conv2(x)), 2) \n",
    "        # reshape，‘-1’表示自适应\n",
    "        x = x.view(x.size()[0], -1) \n",
    "        # 获取张量 x 第 0 维的大小 的一种写法\n",
    "        x = F.relu(self.fc1(x))\n",
    "        x = F.relu(self.fc2(x))\n",
    "        x = self.fc3(x)        \n",
    "        return x\n",
    "\n",
    "net = Net()\n",
    "print(net)"
   ]
  },
  {
   "cell_type": "markdown",
   "metadata": {},
   "source": [
    "只要在nn.Module的子类中定义了forward函数，backward函数就会自动被实现(利用autograd)。在forward函数中可使用任何Tensor支持的函数，还可以使用if、for循环、print、log等Python语法，写法和标准的Python写法一致。\n",
    "\n",
    "网络的可学习参数通过`net.parameters()`返回，`net.named_parameters`可同时返回可学习的参数及名称。"
   ]
  },
  {
   "cell_type": "code",
   "execution_count": 43,
   "metadata": {},
   "outputs": [
    {
     "name": "stdout",
     "output_type": "stream",
     "text": [
      "10\n"
     ]
    }
   ],
   "source": [
    "params = list(net.parameters())\n",
    "print(len(params))"
   ]
  },
  {
   "cell_type": "code",
   "execution_count": 44,
   "metadata": {},
   "outputs": [
    {
     "name": "stdout",
     "output_type": "stream",
     "text": [
      "conv1.weight : torch.Size([6, 1, 5, 5])\n",
      "conv1.bias : torch.Size([6])\n",
      "conv2.weight : torch.Size([16, 6, 5, 5])\n",
      "conv2.bias : torch.Size([16])\n",
      "fc1.weight : torch.Size([120, 400])\n",
      "fc1.bias : torch.Size([120])\n",
      "fc2.weight : torch.Size([84, 120])\n",
      "fc2.bias : torch.Size([84])\n",
      "fc3.weight : torch.Size([10, 84])\n",
      "fc3.bias : torch.Size([10])\n"
     ]
    }
   ],
   "source": [
    "for name,parameters in net.named_parameters():\n",
    "    print(name,':',parameters.size())"
   ]
  },
  {
   "cell_type": "code",
   "execution_count": 45,
   "metadata": {
    "scrolled": true
   },
   "outputs": [
    {
     "data": {
      "text/plain": [
       "torch.Size([1, 10])"
      ]
     },
     "execution_count": 45,
     "metadata": {},
     "output_type": "execute_result"
    }
   ],
   "source": [
    "input = t.randn(1,1,32,32)\n",
    "# pytorch 期望的输入张量格式 (N,C,H,W)\n",
    "# N 是批次大小（batch size），即一次输入的样本数。1 代表输入 1 张图片\n",
    "out = net(input)\n",
    "out.size()"
   ]
  },
  {
   "cell_type": "code",
   "execution_count": 46,
   "metadata": {},
   "outputs": [],
   "source": [
    "net.zero_grad() # 所有参数的梯度清零\n",
    "out.backward(t.ones(1,10)) # 反向传播"
   ]
  },
  {
   "cell_type": "markdown",
   "metadata": {},
   "source": [
    "需要注意的是，torch.nn只支持mini-batches，不支持一次只输入一个样本，而必须是一个batch。但如果只想输入一个样本，则用 `input.unsqueeze(0)`将batch_size设为１。例如 `nn.Conv2d` 输入必须是4维的，形如$nSamples \\times nChannels \\times Height \\times Width$。可将nSample设为1，即$1 \\times nChannels \\times Height \\times Width$。"
   ]
  },
  {
   "cell_type": "markdown",
   "metadata": {},
   "source": [
    "#### 损失函数\n",
    "\n",
    "nn实现了神经网络中大多数的损失函数，例如nn.MSELoss用来计算均方误差，nn.CrossEntropyLoss用来计算交叉熵损失。"
   ]
  },
  {
   "cell_type": "code",
   "execution_count": 47,
   "metadata": {
    "scrolled": true
   },
   "outputs": [
    {
     "data": {
      "text/plain": [
       "tensor(28.6234, grad_fn=<MseLossBackward0>)"
      ]
     },
     "execution_count": 47,
     "metadata": {},
     "output_type": "execute_result"
    }
   ],
   "source": [
    "output = net(input)\n",
    "target = t.arange(0,10).view(1,10).float() \n",
    "'''\n",
    "target = torch.arange(0,10).view(1,10).float() 生成的是一个 形状为 (1, 10) 的张量，其中数值是从 0 到 9 的浮点数。它用于作为神经网络 net(input) 的 目标输出（ground truth），用于计算 均方误差损失（MSELoss）。\n",
    "'''\n",
    "criterion = nn.MSELoss()\n",
    "loss = criterion(output, target)\n",
    "loss # loss是个scalar"
   ]
  },
  {
   "cell_type": "markdown",
   "metadata": {},
   "source": [
    "如果对loss进行反向传播溯源(使用`gradfn`属性)，可看到它的计算图如下：\n",
    "\n",
    "```\n",
    "input -> conv2d -> relu -> maxpool2d -> conv2d -> relu -> maxpool2d  \n",
    "      -> view -> linear -> relu -> linear -> relu -> linear \n",
    "      -> MSELoss\n",
    "      -> loss\n",
    "```\n",
    "\n",
    "当调用`loss.backward()`时，该图会动态生成并自动微分，也即会自动计算图中参数(Parameter)的导数。"
   ]
  },
  {
   "cell_type": "code",
   "execution_count": 48,
   "metadata": {},
   "outputs": [
    {
     "name": "stdout",
     "output_type": "stream",
     "text": [
      "反向传播之前 conv1.bias的梯度\n",
      "None\n",
      "反向传播之后 conv1.bias的梯度\n",
      "tensor([ 0.0603,  0.0446,  0.0002,  0.0244, -0.0788,  0.0279])\n"
     ]
    }
   ],
   "source": [
    "# 运行.backward，观察调用之前和调用之后的grad\n",
    "net.zero_grad() # 把net中所有可学习参数的梯度清零\n",
    "print('反向传播之前 conv1.bias的梯度')\n",
    "print(net.conv1.bias.grad)\n",
    "\n",
    "# 进行反向传播\n",
    "loss.backward()\n",
    "\n",
    "print('反向传播之后 conv1.bias的梯度')\n",
    "print(net.conv1.bias.grad)"
   ]
  },
  {
   "cell_type": "markdown",
   "metadata": {},
   "source": [
    "#### 优化器"
   ]
  },
  {
   "cell_type": "markdown",
   "metadata": {},
   "source": [
    "在反向传播计算完所有参数的梯度后，还需要使用优化方法来更新网络的权重和参数，如随机梯度下降法(SGD)的更新策略如下：\n",
    "```\n",
    "weight = weight - learning_rate * gradient\n",
    "```\n",
    "\n",
    "我们可以手动实现这一更新策略：\n",
    "\n",
    "```python\n",
    "learning_rate = 0.01\n",
    "for f in net.parameters():\n",
    "    f.data.sub_(f.grad.data * learning_rate)# inplace 减法\n",
    "```\n",
    "\n",
    "`torch.optim`中实现了深度学习中绝大多数的优化方法，例如RMSProp、Adam、SGD等，更便于使用，因此读者通常并不需要手动实现上述代码。"
   ]
  },
  {
   "cell_type": "code",
   "execution_count": 49,
   "metadata": {},
   "outputs": [],
   "source": [
    "import torch.optim as optim\n",
    "#新建一个优化器，指定要调整的参数和学习率\n",
    "optimizer = optim.SGD(net.parameters(), lr = 0.01)\n",
    "\n",
    "# 在训练过程中\n",
    "# 先梯度清零(与net.zero_grad()效果一样)\n",
    "optimizer.zero_grad() \n",
    "\n",
    "# 计算损失\n",
    "output = net(input)\n",
    "loss = criterion(output, target)\n",
    "\n",
    "#反向传播\n",
    "loss.backward()\n",
    "\n",
    "#更新参数\n",
    "optimizer.step()"
   ]
  },
  {
   "cell_type": "markdown",
   "metadata": {},
   "source": [
    "####  数据加载与预处理\n",
    "\n",
    "在深度学习中数据加载及预处理是非常复杂繁琐的，但PyTorch提供了一些可极大简化和加快数据处理流程的工具。同时，对于常用的数据集，PyTorch也提供了封装好的接口供用户快速调用，这些数据集主要保存在torchvison中。\n",
    "\n",
    "torchvision是一个视觉工具包，其中提供了许多视觉图像处理的工具。torchvision主要包含三大部分：\n",
    "1. datasets：提供了常用的数据集，如MNIST、CIFAR10及ImageNet等；\n",
    "2. models：提供了深度学习中经典的网络结构与预训练模型，如ResNet、MobileNet等；\n",
    "3. transforms：提供了常用的数据预处理操作，主要包括对Tensor、PIL Image等的操作；\n",
    "\n",
    "我们可以使用torchvision方便地加载数据，并对其进行处理，这部分内容将在本书第五章进行详细介绍。"
   ]
  },
  {
   "cell_type": "markdown",
   "metadata": {},
   "source": [
    "### 2.2.4 小试牛刀：CIFAR-10分类\n",
    "\n",
    "下面我们来尝试实现对CIFAR-10数据集的分类，步骤如下: \n",
    "\n",
    "1. 使用torchvision加载并预处理CIFAR-10数据集；\n",
    "2. 定义网络；\n",
    "3. 定义损失函数和优化器；\n",
    "4. 训练网络(更新网络参数)；\n",
    "5. 测试网络。\n",
    "\n",
    "####   CIFAR-10数据加载及预处理\n",
    "\n",
    "CIFAR-10是一个常用的彩色图片数据集，它有10个类别: 'airplane', 'automobile', 'bird', 'cat', 'deer', 'dog', 'frog', 'horse', 'ship', 'truck'。每张图片都是$3\\times32\\times32$，也即3-通道彩色图片，分辨率为$32\\times32$。"
   ]
  },
  {
   "cell_type": "code",
   "execution_count": 50,
   "metadata": {},
   "outputs": [],
   "source": [
    "import torch as t\n",
    "import torchvision as tv\n",
    "import torchvision.transforms as transforms\n",
    "from torchvision.transforms import ToPILImage\n",
    "show = ToPILImage() # 可以把Tensor转成Image，方便可视化"
   ]
  },
  {
   "cell_type": "code",
   "execution_count": 51,
   "metadata": {},
   "outputs": [
    {
     "name": "stdout",
     "output_type": "stream",
     "text": [
      "Files already downloaded and verified\n",
      "Files already downloaded and verified\n"
     ]
    }
   ],
   "source": [
    "# 第一次运行程序torchvision会自动下载CIFAR-10数据集，\n",
    "# 大约100M，需花费一定的时间，\n",
    "# 如果已经下载有CIFAR-10，可通过root参数指定\n",
    "\n",
    "# 定义对数据的预处理\n",
    "\n",
    "#类似于流水线，数据会依次通过 ToTensor() 和 Normalize() 处理\n",
    "transform = transforms.Compose([\n",
    "        transforms.ToTensor(), # 转为Tensor\n",
    "        transforms.Normalize((0.5, 0.5, 0.5), (0.5, 0.5, 0.5)), # 归一化\n",
    "                             ])\n",
    "\n",
    "# 训练集\n",
    "trainset = tv.datasets.CIFAR10( # 1. 下载\n",
    "                    root='./pytorch-book-cifar10/', \n",
    "                    train=True, \n",
    "                    download=True,\n",
    "                    transform=transform)\n",
    "\n",
    "trainloader = t.utils.data.DataLoader( # 2. 加载\n",
    "                    trainset, \n",
    "                    batch_size=4,  # 每个批次（Batch）包含 4 张图片，这意味着模型会一次处理 4 个样本，而不是 1 个\n",
    "                    shuffle=True,  # 提高泛化能力\n",
    "                    num_workers=2)\n",
    "\n",
    "# 测试集\n",
    "testset = tv.datasets.CIFAR10(\n",
    "                    root='./pytorch-book-cifar10/',\n",
    "                    train=False, \n",
    "                    download=True, \n",
    "                    transform=transform)\n",
    "\n",
    "testloader = t.utils.data.DataLoader(\n",
    "                    testset,\n",
    "                    batch_size=4, \n",
    "                    shuffle=False,\n",
    "                    num_workers=2)\n",
    "\n",
    "classes = ('plane', 'car', 'bird', 'cat',\n",
    "           'deer', 'dog', 'frog', 'horse', 'ship', 'truck')"
   ]
  },
  {
   "cell_type": "markdown",
   "metadata": {},
   "source": [
    "Dataset对象是一个数据集，可以按下标访问，返回形如(data, label)的数据。\n",
    "Dataset通过调用其中的```__getitem__```返回相应数据 \n"
   ]
  },
  {
   "cell_type": "code",
   "execution_count": 52,
   "metadata": {},
   "outputs": [
    {
     "name": "stdout",
     "output_type": "stream",
     "text": [
      "deer\n",
      "tensor([[[-0.5843, -0.5765, -0.5608,  ..., -0.6314, -0.6784, -0.8118],\n",
      "         [-0.6392, -0.5843, -0.5765,  ..., -0.6706, -0.6941, -0.7804],\n",
      "         [-0.6471, -0.6078, -0.6392,  ..., -0.7020, -0.7176, -0.7725],\n",
      "         ...,\n",
      "         [-0.4431, -0.4196, -0.3725,  ..., -0.6000, -0.6392, -0.6157],\n",
      "         [-0.4118, -0.3804, -0.3647,  ..., -0.5216, -0.4980, -0.6235],\n",
      "         [-0.3333, -0.3333, -0.3255,  ..., -0.5216, -0.4980, -0.6157]],\n",
      "\n",
      "        [[-0.4902, -0.5059, -0.5294,  ..., -0.6000, -0.6471, -0.7804],\n",
      "         [-0.5373, -0.5137, -0.5373,  ..., -0.6392, -0.6627, -0.7490],\n",
      "         [-0.5373, -0.5294, -0.5922,  ..., -0.6706, -0.6863, -0.7412],\n",
      "         ...,\n",
      "         [-0.3490, -0.3490, -0.3333,  ..., -0.5765, -0.6157, -0.6078],\n",
      "         [-0.3569, -0.3333, -0.3333,  ..., -0.4902, -0.4745, -0.6078],\n",
      "         [-0.3490, -0.3412, -0.3255,  ..., -0.4902, -0.4745, -0.6078]],\n",
      "\n",
      "        [[-0.5843, -0.5922, -0.6078,  ..., -0.6078, -0.6549, -0.7882],\n",
      "         [-0.6784, -0.6471, -0.6549,  ..., -0.6471, -0.6706, -0.7569],\n",
      "         [-0.7020, -0.6784, -0.7333,  ..., -0.6784, -0.6941, -0.7490],\n",
      "         ...,\n",
      "         [-0.4824, -0.4824, -0.4745,  ..., -0.7412, -0.7333, -0.6784],\n",
      "         [-0.4745, -0.4588, -0.4745,  ..., -0.6784, -0.6235, -0.6784],\n",
      "         [-0.4431, -0.4431, -0.4510,  ..., -0.6941, -0.6392, -0.6784]]])\n",
      "torch.Size([3, 32, 32])\n"
     ]
    },
    {
     "data": {
      "image/jpeg": "[encoded data removed]",
      "image/png": "[encoded data removed]",
      "text/plain": [
       "<PIL.Image.Image image mode=RGB size=100x100>"
      ]
     },
     "execution_count": 52,
     "metadata": {},
     "output_type": "execute_result"
    }
   ],
   "source": [
    "(data, label) = trainset[10]\n",
    "print(classes[label])\n",
    "print(data)\n",
    "print(data.shape)\n",
    "\n",
    "\n",
    "# (data + 1) / 2是为了还原被归一化的数据\n",
    "show((data + 1) / 2).resize((100, 100))"
   ]
  },
  {
   "cell_type": "markdown",
   "metadata": {},
   "source": [
    "Dataloader是一个可迭代的对象，它将Dataset返回的每一条数据样本拼接成一个batch，并提供多线程加速优化和数据打乱等操作。当程序对Dataset的所有数据遍历完一遍之后，对Dataloader也完成了一次迭代。"
   ]
  },
  {
   "cell_type": "code",
   "execution_count": 53,
   "metadata": {},
   "outputs": [
    {
     "name": "stdout",
     "output_type": "stream",
     "text": [
      "        cat         dog        bird        ship\n"
     ]
    },
    {
     "data": {
      "image/jpeg": "[encoded data removed]",
      "image/png": "[encoded data removed]",
      "text/plain": [
       "<PIL.Image.Image image mode=RGB size=400x400>"
      ]
     },
     "execution_count": 53,
     "metadata": {},
     "output_type": "execute_result"
    }
   ],
   "source": [
    "dataiter = iter(trainloader)\n",
    "images, labels = next(dataiter) # 返回4(batchsize)张图片及标签\n",
    "print(' '.join('%11s'%classes[labels[j]] for j in range(4)))\n",
    "show(tv.utils.make_grid((images+1)/2)).resize((400,400))"
   ]
  },
  {
   "cell_type": "markdown",
   "metadata": {},
   "source": [
    "####   定义网络\n",
    "\n",
    "拷贝上面的LeNet网络，修改self.conv1第一个参数为3通道，因CIFAR-10是3通道彩图。"
   ]
  },
  {
   "cell_type": "code",
   "execution_count": 54,
   "metadata": {},
   "outputs": [
    {
     "name": "stdout",
     "output_type": "stream",
     "text": [
      "Net(\n",
      "  (conv1): Conv2d(3, 6, kernel_size=(5, 5), stride=(1, 1))\n",
      "  (conv2): Conv2d(6, 16, kernel_size=(5, 5), stride=(1, 1))\n",
      "  (fc1): Linear(in_features=400, out_features=120, bias=True)\n",
      "  (fc2): Linear(in_features=120, out_features=84, bias=True)\n",
      "  (fc3): Linear(in_features=84, out_features=10, bias=True)\n",
      ")\n"
     ]
    }
   ],
   "source": [
    "import torch.nn as nn\n",
    "import torch.nn.functional as F\n",
    "\n",
    "class Net(nn.Module):\n",
    "    def __init__(self):\n",
    "        super(Net, self).__init__()\n",
    "        self.conv1 = nn.Conv2d(3, 6, 5) \n",
    "        self.conv2 = nn.Conv2d(6, 16, 5)  \n",
    "        self.fc1   = nn.Linear(16*5*5, 120)   # 输出的通道数为16，特征图的大小为5*5 所以元素个数为16*5*5\n",
    "        self.fc2   = nn.Linear(120, 84)\n",
    "        self.fc3   = nn.Linear(84, 10)\n",
    "\n",
    "    def forward(self, x): \n",
    "        x = F.max_pool2d(F.relu(self.conv1(x)), kernel_size=(2, 2)) \n",
    "        x = F.max_pool2d(F.relu(self.conv2(x)), kernel_size=2) \n",
    "        x = x.view(x.size()[0], -1) \n",
    "        x = F.relu(self.fc1(x))\n",
    "        x = F.relu(self.fc2(x))\n",
    "        x = self.fc3(x)        \n",
    "        return x\n",
    "\n",
    "\n",
    "net = Net()\n",
    "print(net)"
   ]
  },
  {
   "cell_type": "markdown",
   "metadata": {},
   "source": [
    "####  定义损失函数和优化器(loss和optimizer)"
   ]
  },
  {
   "cell_type": "code",
   "execution_count": 55,
   "metadata": {},
   "outputs": [],
   "source": [
    "from torch import optim\n",
    "criterion = nn.CrossEntropyLoss() # 交叉熵损失函数\n",
    "optimizer = optim.SGD(net.parameters(), lr=0.001, momentum=0.9)"
   ]
  },
  {
   "cell_type": "markdown",
   "metadata": {},
   "source": [
    "####   训练网络\n",
    "\n",
    "所有网络的训练流程都是类似的，也就是不断地执行如下流程：\n",
    "\n",
    "- 输入数据；\n",
    "- 前向传播+反向传播；\n",
    "- 更新参数。"
   ]
  },
  {
   "cell_type": "code",
   "execution_count": 56,
   "metadata": {},
   "outputs": [
    {
     "name": "stdout",
     "output_type": "stream",
     "text": [
      "[1,  2000] loss: 2.192\n",
      "[1,  4000] loss: 1.859\n",
      "[1,  6000] loss: 1.664\n",
      "[1,  8000] loss: 1.562\n",
      "[1, 10000] loss: 1.496\n",
      "[1, 12000] loss: 1.454\n",
      "[2,  2000] loss: 1.382\n",
      "[2,  4000] loss: 1.386\n",
      "[2,  6000] loss: 1.330\n",
      "[2,  8000] loss: 1.316\n",
      "[2, 10000] loss: 1.326\n",
      "[2, 12000] loss: 1.278\n",
      "[3,  2000] loss: 1.218\n",
      "[3,  4000] loss: 1.222\n",
      "[3,  6000] loss: 1.181\n",
      "[3,  8000] loss: 1.212\n",
      "[3, 10000] loss: 1.185\n",
      "[3, 12000] loss: 1.180\n",
      "[4,  2000] loss: 1.111\n",
      "[4,  4000] loss: 1.114\n",
      "[4,  6000] loss: 1.112\n",
      "[4,  8000] loss: 1.096\n",
      "[4, 10000] loss: 1.100\n",
      "[4, 12000] loss: 1.086\n",
      "[5,  2000] loss: 0.998\n",
      "[5,  4000] loss: 1.046\n",
      "[5,  6000] loss: 1.035\n",
      "[5,  8000] loss: 1.027\n",
      "[5, 10000] loss: 1.049\n",
      "[5, 12000] loss: 1.028\n",
      "[6,  2000] loss: 0.959\n",
      "[6,  4000] loss: 0.957\n",
      "[6,  6000] loss: 0.974\n",
      "[6,  8000] loss: 0.990\n",
      "[6, 10000] loss: 0.989\n",
      "[6, 12000] loss: 0.986\n",
      "[7,  2000] loss: 0.901\n",
      "[7,  4000] loss: 0.951\n",
      "[7,  6000] loss: 0.917\n",
      "[7,  8000] loss: 0.925\n",
      "[7, 10000] loss: 0.951\n",
      "[7, 12000] loss: 0.956\n",
      "[8,  2000] loss: 0.846\n",
      "[8,  4000] loss: 0.866\n",
      "[8,  6000] loss: 0.905\n",
      "[8,  8000] loss: 0.910\n",
      "[8, 10000] loss: 0.905\n",
      "[8, 12000] loss: 0.903\n",
      "[9,  2000] loss: 0.791\n",
      "[9,  4000] loss: 0.847\n",
      "[9,  6000] loss: 0.875\n",
      "[9,  8000] loss: 0.862\n",
      "[9, 10000] loss: 0.874\n",
      "[9, 12000] loss: 0.880\n",
      "[10,  2000] loss: 0.797\n",
      "[10,  4000] loss: 0.781\n",
      "[10,  6000] loss: 0.833\n",
      "[10,  8000] loss: 0.839\n",
      "[10, 10000] loss: 0.856\n",
      "[10, 12000] loss: 0.843\n",
      "[11,  2000] loss: 0.737\n",
      "[11,  4000] loss: 0.769\n",
      "[11,  6000] loss: 0.797\n",
      "[11,  8000] loss: 0.844\n",
      "[11, 10000] loss: 0.831\n",
      "[11, 12000] loss: 0.837\n",
      "[12,  2000] loss: 0.718\n",
      "[12,  4000] loss: 0.755\n",
      "[12,  6000] loss: 0.785\n",
      "[12,  8000] loss: 0.789\n",
      "[12, 10000] loss: 0.806\n",
      "[12, 12000] loss: 0.800\n",
      "[13,  2000] loss: 0.691\n",
      "[13,  4000] loss: 0.735\n",
      "[13,  6000] loss: 0.744\n",
      "[13,  8000] loss: 0.771\n",
      "[13, 10000] loss: 0.778\n",
      "[13, 12000] loss: 0.806\n",
      "[14,  2000] loss: 0.660\n",
      "[14,  4000] loss: 0.711\n",
      "[14,  6000] loss: 0.750\n",
      "[14,  8000] loss: 0.757\n",
      "[14, 10000] loss: 0.766\n",
      "[14, 12000] loss: 0.793\n",
      "[15,  2000] loss: 0.663\n",
      "[15,  4000] loss: 0.693\n",
      "[15,  6000] loss: 0.727\n",
      "[15,  8000] loss: 0.732\n",
      "[15, 10000] loss: 0.770\n",
      "[15, 12000] loss: 0.758\n",
      "[16,  2000] loss: 0.672\n",
      "[16,  4000] loss: 0.684\n",
      "[16,  6000] loss: 0.709\n",
      "[16,  8000] loss: 0.705\n",
      "[16, 10000] loss: 0.752\n",
      "[16, 12000] loss: 0.752\n",
      "[17,  2000] loss: 0.619\n",
      "[17,  4000] loss: 0.668\n",
      "[17,  6000] loss: 0.714\n",
      "[17,  8000] loss: 0.701\n",
      "[17, 10000] loss: 0.709\n",
      "[17, 12000] loss: 0.719\n",
      "[18,  2000] loss: 0.603\n",
      "[18,  4000] loss: 0.666\n",
      "[18,  6000] loss: 0.686\n",
      "[18,  8000] loss: 0.669\n",
      "[18, 10000] loss: 0.706\n",
      "[18, 12000] loss: 0.728\n",
      "[19,  2000] loss: 0.584\n",
      "[19,  4000] loss: 0.636\n",
      "[19,  6000] loss: 0.672\n",
      "[19,  8000] loss: 0.689\n",
      "[19, 10000] loss: 0.700\n",
      "[19, 12000] loss: 0.710\n",
      "[20,  2000] loss: 0.602\n",
      "[20,  4000] loss: 0.640\n",
      "[20,  6000] loss: 0.653\n",
      "[20,  8000] loss: 0.686\n",
      "[20, 10000] loss: 0.687\n",
      "[20, 12000] loss: 0.697\n",
      "[21,  2000] loss: 0.593\n",
      "[21,  4000] loss: 0.625\n",
      "[21,  6000] loss: 0.656\n",
      "[21,  8000] loss: 0.661\n",
      "[21, 10000] loss: 0.671\n",
      "[21, 12000] loss: 0.698\n",
      "[22,  2000] loss: 0.574\n",
      "[22,  4000] loss: 0.628\n",
      "[22,  6000] loss: 0.652\n",
      "[22,  8000] loss: 0.666\n",
      "[22, 10000] loss: 0.669\n",
      "[22, 12000] loss: 0.669\n",
      "[23,  2000] loss: 0.565\n",
      "[23,  4000] loss: 0.615\n",
      "[23,  6000] loss: 0.649\n",
      "[23,  8000] loss: 0.670\n",
      "[23, 10000] loss: 0.657\n",
      "[23, 12000] loss: 0.693\n",
      "[24,  2000] loss: 0.592\n",
      "[24,  4000] loss: 0.592\n",
      "[24,  6000] loss: 0.624\n",
      "[24,  8000] loss: 0.659\n",
      "[24, 10000] loss: 0.660\n",
      "[24, 12000] loss: 0.674\n",
      "[25,  2000] loss: 0.560\n",
      "[25,  4000] loss: 0.587\n",
      "[25,  6000] loss: 0.636\n",
      "[25,  8000] loss: 0.648\n",
      "[25, 10000] loss: 0.645\n",
      "[25, 12000] loss: 0.665\n",
      "[26,  2000] loss: 0.536\n",
      "[26,  4000] loss: 0.584\n",
      "[26,  6000] loss: 0.618\n",
      "[26,  8000] loss: 0.627\n",
      "[26, 10000] loss: 0.633\n",
      "[26, 12000] loss: 0.667\n",
      "[27,  2000] loss: 0.565\n",
      "[27,  4000] loss: 0.575\n",
      "[27,  6000] loss: 0.624\n",
      "[27,  8000] loss: 0.672\n",
      "[27, 10000] loss: 0.653\n",
      "[27, 12000] loss: 0.639\n",
      "[28,  2000] loss: 0.519\n",
      "[28,  4000] loss: 0.591\n",
      "[28,  6000] loss: 0.583\n",
      "[28,  8000] loss: 0.646\n",
      "[28, 10000] loss: 0.659\n",
      "[28, 12000] loss: 0.678\n",
      "[29,  2000] loss: 0.550\n",
      "[29,  4000] loss: 0.611\n",
      "[29,  6000] loss: 0.590\n",
      "[29,  8000] loss: 0.600\n",
      "[29, 10000] loss: 0.629\n",
      "[29, 12000] loss: 0.648\n",
      "[30,  2000] loss: 0.519\n",
      "[30,  4000] loss: 0.589\n",
      "[30,  6000] loss: 0.603\n",
      "[30,  8000] loss: 0.600\n",
      "[30, 10000] loss: 0.646\n",
      "[30, 12000] loss: 0.644\n",
      "[31,  2000] loss: 0.510\n",
      "[31,  4000] loss: 0.569\n",
      "[31,  6000] loss: 0.581\n",
      "[31,  8000] loss: 0.612\n",
      "[31, 10000] loss: 0.644\n",
      "[31, 12000] loss: 0.663\n",
      "[32,  2000] loss: 0.551\n",
      "[32,  4000] loss: 0.554\n",
      "[32,  6000] loss: 0.594\n",
      "[32,  8000] loss: 0.611\n",
      "[32, 10000] loss: 0.625\n",
      "[32, 12000] loss: 0.633\n",
      "[33,  2000] loss: 0.505\n",
      "[33,  4000] loss: 0.543\n",
      "[33,  6000] loss: 0.595\n",
      "[33,  8000] loss: 0.617\n",
      "[33, 10000] loss: 0.647\n",
      "[33, 12000] loss: 0.653\n",
      "[34,  2000] loss: 0.529\n",
      "[34,  4000] loss: 0.574\n",
      "[34,  6000] loss: 0.605\n",
      "[34,  8000] loss: 0.597\n",
      "[34, 10000] loss: 0.624\n",
      "[34, 12000] loss: 0.642\n",
      "[35,  2000] loss: 0.556\n",
      "[35,  4000] loss: 0.557\n",
      "[35,  6000] loss: 0.586\n",
      "[35,  8000] loss: 0.632\n",
      "[35, 10000] loss: 0.623\n",
      "[35, 12000] loss: 0.634\n",
      "[36,  2000] loss: 0.545\n",
      "[36,  4000] loss: 0.551\n",
      "[36,  6000] loss: 0.596\n",
      "[36,  8000] loss: 0.627\n",
      "[36, 10000] loss: 0.632\n",
      "[36, 12000] loss: 0.671\n",
      "[37,  2000] loss: 0.521\n",
      "[37,  4000] loss: 0.575\n",
      "[37,  6000] loss: 0.611\n",
      "[37,  8000] loss: 0.616\n",
      "[37, 10000] loss: 0.638\n",
      "[37, 12000] loss: 0.623\n",
      "[38,  2000] loss: 0.508\n",
      "[38,  4000] loss: 0.551\n",
      "[38,  6000] loss: 0.580\n",
      "[38,  8000] loss: 0.624\n",
      "[38, 10000] loss: 0.618\n",
      "[38, 12000] loss: 0.634\n",
      "[39,  2000] loss: 0.509\n",
      "[39,  4000] loss: 0.553\n",
      "[39,  6000] loss: 0.574\n",
      "[39,  8000] loss: 0.597\n",
      "[39, 10000] loss: 0.610\n",
      "[39, 12000] loss: 0.632\n",
      "[40,  2000] loss: 0.517\n",
      "[40,  4000] loss: 0.591\n",
      "[40,  6000] loss: 0.590\n",
      "[40,  8000] loss: 0.598\n",
      "[40, 10000] loss: 0.615\n",
      "[40, 12000] loss: 0.620\n",
      "[41,  2000] loss: 0.526\n",
      "[41,  4000] loss: 0.557\n",
      "[41,  6000] loss: 0.619\n",
      "[41,  8000] loss: 0.607\n",
      "[41, 10000] loss: 0.650\n",
      "[41, 12000] loss: 0.664\n",
      "[42,  2000] loss: 0.534\n",
      "[42,  4000] loss: 0.572\n",
      "[42,  6000] loss: 0.596\n",
      "[42,  8000] loss: 0.649\n",
      "[42, 10000] loss: 0.628\n",
      "[42, 12000] loss: 0.644\n",
      "[43,  2000] loss: 0.516\n",
      "[43,  4000] loss: 0.564\n",
      "[43,  6000] loss: 0.611\n",
      "[43,  8000] loss: 0.606\n",
      "[43, 10000] loss: 0.610\n",
      "[43, 12000] loss: 0.665\n",
      "[44,  2000] loss: 0.557\n",
      "[44,  4000] loss: 0.558\n",
      "[44,  6000] loss: 0.580\n",
      "[44,  8000] loss: 0.631\n",
      "[44, 10000] loss: 0.614\n",
      "[44, 12000] loss: 0.602\n",
      "[45,  2000] loss: 0.539\n",
      "[45,  4000] loss: 0.546\n",
      "[45,  6000] loss: 0.621\n",
      "[45,  8000] loss: 0.616\n",
      "[45, 10000] loss: 0.601\n",
      "[45, 12000] loss: 0.604\n",
      "[46,  2000] loss: 0.495\n",
      "[46,  4000] loss: 0.555\n",
      "[46,  6000] loss: 0.618\n",
      "[46,  8000] loss: 0.626\n",
      "[46, 10000] loss: 0.633\n",
      "[46, 12000] loss: 0.611\n",
      "[47,  2000] loss: 0.510\n",
      "[47,  4000] loss: 0.569\n",
      "[47,  6000] loss: 0.592\n",
      "[47,  8000] loss: 0.611\n",
      "[47, 10000] loss: 0.639\n",
      "[47, 12000] loss: 0.643\n",
      "[48,  2000] loss: 0.528\n",
      "[48,  4000] loss: 0.574\n",
      "[48,  6000] loss: 0.610\n",
      "[48,  8000] loss: 0.617\n",
      "[48, 10000] loss: 0.608\n",
      "[48, 12000] loss: 0.624\n",
      "[49,  2000] loss: 0.561\n",
      "[49,  4000] loss: 0.566\n",
      "[49,  6000] loss: 0.571\n",
      "[49,  8000] loss: 0.628\n",
      "[49, 10000] loss: 0.647\n",
      "[49, 12000] loss: 0.639\n",
      "[50,  2000] loss: 0.504\n",
      "[50,  4000] loss: 0.572\n",
      "[50,  6000] loss: 0.595\n",
      "[50,  8000] loss: 0.620\n",
      "[50, 10000] loss: 0.636\n",
      "[50, 12000] loss: 0.632\n",
      "Finished Training\n"
     ]
    }
   ],
   "source": [
    "for epoch in range(50):  \n",
    "    \n",
    "    running_loss = 0.0\n",
    "    for i, data in enumerate(trainloader, start=0): # 指定从 i = 0 开始计数\n",
    "        \n",
    "        # 输入数据\n",
    "        inputs, labels = data\n",
    "\n",
    "        '''\n",
    "                print(inputs)\n",
    "                print(inputs.shape)  # torch.Size([4, 3, 32, 32])\n",
    "        '''\n",
    "        \n",
    "        '''\n",
    "        print(labels)  # 在你打印 labels 时看到的输出 tensor([2, 1, 0, 1]) 是 CIFAR-10 数据集的标签，这代表了该批次中 4 张图片的类别\n",
    "        '''\n",
    "        \n",
    "        # 梯度清零\n",
    "        optimizer.zero_grad()\n",
    "        \n",
    "        # forward + backward \n",
    "        outputs = net(inputs)\n",
    "        loss = criterion(outputs, labels)\n",
    "        loss.backward()   \n",
    "        \n",
    "        # 更新参数 \n",
    "        optimizer.step()\n",
    "        \n",
    "        # 打印log信息\n",
    "        # loss 是一个scalar, 要使用loss.item()来获取数值，不能使用loss[0]\n",
    "\n",
    "        running_loss += loss.item()  # running_loss 用于累积每个批次的损失值，而 每经过 2000 个批次，就会计算并打印 平均损失（loss）\n",
    "        \n",
    "        if i % 2000 == 1999: # 每2000个batch打印一下训练状态\n",
    "            print('[%d, %5d] loss: %.3f' \\\n",
    "                  % (epoch+1, i+1, running_loss / 2000))\n",
    "            running_loss = 0.0\n",
    "print('Finished Training')"
   ]
  },
  {
   "cell_type": "markdown",
   "metadata": {},
   "source": [
    "此处训练了50个epoch**（遍历完一遍数据集称为一个epoch）**，我们来看看网络有没有效果。将测试图片输入到网络中，计算它的label，然后与实际的label进行比较。"
   ]
  },
  {
   "cell_type": "code",
   "execution_count": 61,
   "metadata": {},
   "outputs": [
    {
     "name": "stdout",
     "output_type": "stream",
     "text": [
      "实际的label:       cat     ship     ship    plane\n"
     ]
    },
    {
     "data": {
      "image/jpeg": "[encoded data removed]",
      "image/png": "[encoded data removed]",
      "text/plain": [
       "<PIL.Image.Image image mode=RGB size=400x100>"
      ]
     },
     "execution_count": 61,
     "metadata": {},
     "output_type": "execute_result"
    }
   ],
   "source": [
    "dataiter = iter(testloader)\n",
    "images, labels = next(dataiter) # 一个batch返回4张图片\n",
    "print('实际的label: ', ' '.join(\\\n",
    "            '%08s'%classes[labels[j]] for j in range(4)))\n",
    "show(tv.utils.make_grid(images / 2 - 0.5)).resize((400,100))"
   ]
  },
  {
   "cell_type": "markdown",
   "metadata": {},
   "source": [
    "接着计算网络预测的label："
   ]
  },
  {
   "cell_type": "code",
   "execution_count": 62,
   "metadata": {},
   "outputs": [
    {
     "name": "stdout",
     "output_type": "stream",
     "text": [
      "torch.Size([4, 10])\n",
      "预测结果:   frog  ship plane plane\n"
     ]
    }
   ],
   "source": [
    "# 计算图片在每个类别上的分数\n",
    "outputs = net(images)\n",
    "\n",
    "print(outputs.shape)\n",
    "\n",
    "# 得分最高的那个类\n",
    "_, predicted = t.max(outputs.data, 1)  # 输出的是一维向量，沿着第一个维度寻找最大值\n",
    "\n",
    "'''\n",
    "predicted 是一个张量，包含了每个样本预测的类别标签（即最大预测值的索引）。它的形状是 [batch_size]，其中每个元素是该样本预测的类别标签（整数类型）\n",
    "_ 是该函数返回的最大预测值本身，但由于我们不关心最大值本身，只关心预测的类别标签，因此用 _ 来丢弃这个值\n",
    "'''\n",
    "\n",
    "print('预测结果: ', ' '.join('%5s'\\\n",
    "            % classes[predicted[j]] for j in range(4)))"
   ]
  },
  {
   "cell_type": "markdown",
   "metadata": {},
   "source": [
    "已经可以看出效果，准确率很高，针对这四个图片达到了75%的效果，但这只是一部分的图片，再来看看在整个测试集上的效果。"
   ]
  },
  {
   "cell_type": "code",
   "execution_count": 63,
   "metadata": {},
   "outputs": [
    {
     "name": "stdout",
     "output_type": "stream",
     "text": [
      "10000张测试集中的准确率为: 59.000000 %\n"
     ]
    }
   ],
   "source": [
    "correct = 0 # 预测正确的图片数\n",
    "total = 0 # 总共的图片数\n",
    "\n",
    "\n",
    "# 由于测试的时候不需要求导，可以暂时关闭autograd，提高速度，节约内存\n",
    "with t.no_grad():\n",
    "    for data in testloader:\n",
    "        images, labels = data\n",
    "        outputs = net(images)\n",
    "        _, predicted = t.max(outputs, 1)\n",
    "        total += labels.size(0)   # 用来获取 labels 张量的第一个维度的大小，通常表示当前批次中的样本数量\n",
    "        correct += (predicted == labels).sum()\n",
    "\n",
    "print('10000张测试集中的准确率为: %f %%' % (100 * correct //total))"
   ]
  },
  {
   "cell_type": "markdown",
   "metadata": {},
   "source": [
    "训练的准确率远比随机猜测(准确率10%)好，证明网络确实学到了东西。"
   ]
  },
  {
   "cell_type": "markdown",
   "metadata": {},
   "source": [
    "**在GPU上训练**\n",
    "\n",
    "就像之前把Tensor从CPU转到GPU一样，模型也可以类似地从CPU转到GPU，以加速训练。"
   ]
  },
  {
   "cell_type": "code",
   "execution_count": 60,
   "metadata": {},
   "outputs": [
    {
     "data": {
      "text/plain": [
       "tensor(0.7207, grad_fn=<NllLossBackward0>)"
      ]
     },
     "execution_count": 60,
     "metadata": {},
     "output_type": "execute_result"
    }
   ],
   "source": [
    "device = t.device(\"cuda:0\" if t.cuda.is_available() else \"cpu\")\n",
    "\n",
    "net.to(device)\n",
    "images = images.to(device)\n",
    "labels = labels.to(device)\n",
    "output = net(images)\n",
    "loss= criterion(output,labels)\n",
    "\n",
    "loss"
   ]
  },
  {
   "cell_type": "markdown",
   "metadata": {},
   "source": [
    "如果发现在GPU上并没有比CPU提速很多，实际上是因为网络比较小，GPU没有完全发挥自己的真正实力。"
   ]
  },
  {
   "cell_type": "markdown",
   "metadata": {},
   "source": [
    "## 本章小结\n",
    "\n",
    "本章主要介绍了PyTorch框架的安装及其学习工具的部署，同时给出一个PyTorch的快速入门指南，具体包含以下内容：\n",
    "\n",
    "1. Tensor: 类似Numpy数组的数据结构，与Numpy接口类似，可方便地互相转换；\n",
    "2. autograd: 为Tensor提供自动求导功能。\n",
    "3. nn: 专门为神经网络设计的接口，提供了很多有用的功能(神经网络层，损失函数，优化器等)。\n",
    "4. 神经网络训练: 以CIFAR-10分类为例演示了神经网络的训练流程，包括数据加载、网络搭建、训练及测试。\n",
    "\n",
    "本章的所有内容旨在帮助读者建立一个对PyTorch框架的初步认识，并快速地使用PyTorch进行了一个简单神经网络的训练。从下一章开始，本书将深入系统地讲解PyTorch的各部分知识。"
   ]
  }
 ],
 "metadata": {
  "kernelspec": {
   "display_name": "yolov5",
   "language": "python",
   "name": "python3"
  },
  "language_info": {
   "codemirror_mode": {
    "name": "ipython",
    "version": 3
   },
   "file_extension": ".py",
   "mimetype": "text/x-python",
   "name": "python",
   "nbconvert_exporter": "python",
   "pygments_lexer": "ipython3",
   "version": "3.9.19"
  }
 },
 "nbformat": 4,
 "nbformat_minor": 2
}
